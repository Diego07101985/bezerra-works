{
 "cells": [
  {
   "cell_type": "markdown",
   "metadata": {},
   "source": [
    "# Chapter 4. Training Models"
   ]
  },
  {
   "cell_type": "markdown",
   "metadata": {},
   "source": [
    "## Linear Regression"
   ]
  },
  {
   "cell_type": "markdown",
   "metadata": {},
   "source": [
    "![text](img/cap4/hipotese.png)"
   ]
  },
  {
   "cell_type": "markdown",
   "metadata": {},
   "source": [
    "![text](img/cap4/hipotese_reg_linear_t.png)"
   ]
  },
  {
   "cell_type": "markdown",
   "metadata": {},
   "source": [
    "### The MSE of a Linear Regression hypothesis hθ on a training set X is calculated using"
   ]
  },
  {
   "cell_type": "markdown",
   "metadata": {},
   "source": [
    "![text](img/cap4/means_square_error.png)"
   ]
  },
  {
   "cell_type": "markdown",
   "metadata": {},
   "source": [
    "## The Normal Equation\n"
   ]
  },
  {
   "cell_type": "code",
   "execution_count": null,
   "metadata": {},
   "outputs": [],
   "source": []
  },
  {
   "cell_type": "code",
   "execution_count": 6,
   "metadata": {},
   "outputs": [],
   "source": [
    "import numpy as np\n",
    "X = 2 * np.random.rand(100, 1)\n",
    "y = 4 + 3 * X + np.random.randn(100, 1)"
   ]
  },
  {
   "cell_type": "markdown",
   "metadata": {},
   "source": [
    "### Now let’s compute   using the Normal Equation. We will use the inv() function from NumPy’s Linear Algebra module (np.linalg) to compute the inverse of a matrix, and the dot() method for matrix multiplication:"
   ]
  },
  {
   "cell_type": "code",
   "execution_count": 9,
   "metadata": {},
   "outputs": [],
   "source": [
    "X_b = np.c_[np.ones((100, 1)), X] # add x0 = 1 to each instance \n",
    "theta_best = np.linalg.inv(X_b.T.dot(X_b)).dot(X_b.T).dot(y)"
   ]
  },
  {
   "cell_type": "code",
   "execution_count": 10,
   "metadata": {},
   "outputs": [
    {
     "data": {
      "text/plain": [
       "array([[4.06519969],\n",
       "       [2.85639407]])"
      ]
     },
     "execution_count": 10,
     "metadata": {},
     "output_type": "execute_result"
    }
   ],
   "source": [
    "theta_best"
   ]
  },
  {
   "cell_type": "code",
   "execution_count": 13,
   "metadata": {},
   "outputs": [
    {
     "data": {
      "text/plain": [
       "array([[4.06519969],\n",
       "       [9.77798784]])"
      ]
     },
     "execution_count": 13,
     "metadata": {},
     "output_type": "execute_result"
    }
   ],
   "source": [
    "X_new = np.array([[0], [2]])\n",
    "X_new_b = np.c_[np.ones((2, 1)), X_new] # add x0 = 1 to each instance\n",
    "y_predict = X_new_b.dot(theta_best)\n",
    "y_predict"
   ]
  },
  {
   "cell_type": "code",
   "execution_count": 17,
   "metadata": {},
   "outputs": [
    {
     "data": {
      "image/png": "[encoded data removed]",
      "text/plain": [
       "<Figure size 432x288 with 1 Axes>"
      ]
     },
     "metadata": {
      "needs_background": "light"
     },
     "output_type": "display_data"
    }
   ],
   "source": [
    "import matplotlib\n",
    "import matplotlib.pyplot as plt\n",
    "plt.plot(X_new, y_predict, \"r-\")\n",
    "plt.plot(X, y, \"b.\")\n",
    "plt.axis([0, 2, 0, 15])\n",
    "plt.show()"
   ]
  },
  {
   "cell_type": "markdown",
   "metadata": {},
   "source": [
    "### Using SkitLearn\n"
   ]
  },
  {
   "cell_type": "code",
   "execution_count": 33,
   "metadata": {},
   "outputs": [
    {
     "data": {
      "text/plain": [
       "LinearRegression(copy_X=True, fit_intercept=True, n_jobs=None, normalize=False)"
      ]
     },
     "execution_count": 33,
     "metadata": {},
     "output_type": "execute_result"
    }
   ],
   "source": [
    "from sklearn.linear_model import LinearRegression\n",
    "\n",
    "import numpy as np\n",
    "X = 2 * np.random.rand(100, 1)\n",
    "y = 4 + 3 * X + np.random.randn(100, 1)\n",
    "X_new = np.array([[0], [2]])\n",
    "lin_reg = LinearRegression()\n",
    "lin_reg.fit(X, y)"
   ]
  },
  {
   "cell_type": "code",
   "execution_count": 34,
   "metadata": {},
   "outputs": [
    {
     "data": {
      "text/plain": [
       "(array([4.16760155]), array([[2.83873523]]))"
      ]
     },
     "execution_count": 34,
     "metadata": {},
     "output_type": "execute_result"
    }
   ],
   "source": [
    "lin_reg.intercept_, lin_reg.coef_"
   ]
  },
  {
   "cell_type": "code",
   "execution_count": 35,
   "metadata": {},
   "outputs": [
    {
     "data": {
      "text/plain": [
       "array([[4.16760155],\n",
       "       [9.845072  ]])"
      ]
     },
     "execution_count": 35,
     "metadata": {},
     "output_type": "execute_result"
    }
   ],
   "source": [
    "lin_reg.predict(X_new)"
   ]
  },
  {
   "cell_type": "markdown",
   "metadata": {},
   "source": [
    "## Computational Complexity"
   ]
  },
  {
   "cell_type": "code",
   "execution_count": null,
   "metadata": {},
   "outputs": [],
   "source": []
  },
  {
   "cell_type": "markdown",
   "metadata": {},
   "source": [
    "## Polynomial Regression"
   ]
  },
  {
   "cell_type": "markdown",
   "metadata": {},
   "source": [
    "### What if your data is actually more complex than a simple straight line? Surprisingly, you can actually use a linear model to fit nonlinear data. A simple way to do this is to add powers of each feature as new features, then train a linear model on this extended set of features. This technique is called Polynomial Regression."
   ]
  },
  {
   "cell_type": "code",
   "execution_count": 165,
   "metadata": {},
   "outputs": [],
   "source": [
    "m = 100\n",
    "X = 6 * np.random.rand(m, 1) - 3\n",
    "y = 0.5 * X**2 + X + 2 + np.random.randn(m, 1)"
   ]
  },
  {
   "cell_type": "markdown",
   "metadata": {},
   "source": [
    "### Scikit-Learn’s PolynomialFeatures class to transform our training data, adding the square (2nd-degree polynomial) of each feature in the training set as new features (in this case there is just one feature):"
   ]
  },
  {
   "cell_type": "code",
   "execution_count": 174,
   "metadata": {},
   "outputs": [],
   "source": [
    "from sklearn.preprocessing import PolynomialFeatures\n",
    "poly_features = PolynomialFeatures(degree=3, include_bias=False)\n",
    "X_poly = poly_features.fit_transform(X)"
   ]
  },
  {
   "cell_type": "code",
   "execution_count": 175,
   "metadata": {},
   "outputs": [
    {
     "data": {
      "text/plain": [
       "array([0.40868382])"
      ]
     },
     "execution_count": 175,
     "metadata": {},
     "output_type": "execute_result"
    }
   ],
   "source": [
    "X[0]"
   ]
  },
  {
   "cell_type": "code",
   "execution_count": 176,
   "metadata": {},
   "outputs": [
    {
     "data": {
      "text/plain": [
       "array([0.40868382, 0.16702247, 0.06825938])"
      ]
     },
     "execution_count": 176,
     "metadata": {},
     "output_type": "execute_result"
    }
   ],
   "source": [
    "X_poly[0]"
   ]
  },
  {
   "cell_type": "markdown",
   "metadata": {},
   "source": [
    "### X_poly now contains the original feature of X plus the square of this feature. Now you can fit a LinearRegression model to this extended training data"
   ]
  },
  {
   "cell_type": "code",
   "execution_count": 177,
   "metadata": {},
   "outputs": [
    {
     "data": {
      "text/plain": [
       "(array([4.40650154]), array([[ 0.33786603,  2.76739262, -0.85140707]]))"
      ]
     },
     "execution_count": 177,
     "metadata": {},
     "output_type": "execute_result"
    }
   ],
   "source": [
    "lin_reg = LinearRegression()\n",
    "lin_reg.fit(X_poly, y)\n",
    "lin_reg.intercept_, lin_reg.coef_"
   ]
  },
  {
   "cell_type": "markdown",
   "metadata": {},
   "source": [
    "### Note that when there are multiple features, Polynomial Regression is capable of finding relationships between features (which is something a plain Linear Regression model cannot do). This is made possible by the fact that PolynomialFeatures also adds all combinations of features up to the given degree. For example, if there were two features a and b, PolynomialFeatures with degree=3 would not only add the features a2, a3, b2, and b3, but also the combinations ab, a2b, and ab\n"
   ]
  },
  {
   "cell_type": "code",
   "execution_count": 178,
   "metadata": {},
   "outputs": [
    {
     "data": {
      "text/plain": [
       "Text(0.5, 1.0, 'Polynomial Degree = 2')"
      ]
     },
     "execution_count": 178,
     "metadata": {},
     "output_type": "execute_result"
    },
    {
     "data": {
      "image/png": "[encoded data removed]",
      "text/plain": [
       "<Figure size 432x288 with 1 Axes>"
      ]
     },
     "metadata": {
      "needs_background": "light"
     },
     "output_type": "display_data"
    }
   ],
   "source": [
    "pred = lin_reg.predict(X_poly)\n",
    "\n",
    "new_X, new_y = zip(*sorted(zip(X, pred))) # sort values for plotting\n",
    "plt.plot(new_X, new_y)\n",
    "plt.scatter(X,y)\n",
    "plt.title(\"Polynomial Degree = 2\")"
   ]
  },
  {
   "cell_type": "code",
   "execution_count": 179,
   "metadata": {},
   "outputs": [
    {
     "data": {
      "text/plain": [
       "array([[4.08683823e-01, 1.67022467e-01, 6.82593803e-02],\n",
       "       [2.15074740e-01, 4.62571438e-02, 9.94874318e-03],\n",
       "       [8.74497153e-01, 7.64745270e-01, 6.68767561e-01],\n",
       "       [7.11940991e-01, 5.06859974e-01, 3.60854392e-01],\n",
       "       [9.56083661e-01, 9.14095968e-01, 8.73952219e-01],\n",
       "       [1.67528788e+00, 2.80658948e+00, 4.70184533e+00],\n",
       "       [1.06840195e+00, 1.14148273e+00, 1.21956238e+00],\n",
       "       [1.14391962e+00, 1.30855209e+00, 1.49687840e+00],\n",
       "       [1.43021748e+00, 2.04552205e+00, 2.92554140e+00],\n",
       "       [1.36566985e+00, 1.86505413e+00, 2.54704818e+00],\n",
       "       [3.94046132e-01, 1.55272354e-01, 6.11844707e-02],\n",
       "       [1.41936424e+00, 2.01459484e+00, 2.85944387e+00],\n",
       "       [8.63527310e-01, 7.45679416e-01, 6.43914540e-01],\n",
       "       [1.47227045e-01, 2.16758027e-02, 3.19126438e-03],\n",
       "       [1.89370107e+00, 3.58610376e+00, 6.79100853e+00],\n",
       "       [1.88601174e+00, 3.55704028e+00, 6.70861973e+00],\n",
       "       [5.11757912e-01, 2.61896161e-01, 1.34027432e-01],\n",
       "       [8.92497284e-01, 7.96551402e-01, 7.10919962e-01],\n",
       "       [1.94491167e+00, 3.78268141e+00, 7.35698123e+00],\n",
       "       [6.43577744e-02, 4.14192312e-03, 2.66564954e-04],\n",
       "       [5.62459725e-01, 3.16360942e-01, 1.77940289e-01],\n",
       "       [7.92930003e-02, 6.28737989e-03, 4.98545215e-04],\n",
       "       [8.30167446e-01, 6.89177988e-01, 5.72133130e-01],\n",
       "       [1.88042294e+00, 3.53599043e+00, 6.64915753e+00],\n",
       "       [1.62429757e+00, 2.63834259e+00, 4.28545345e+00],\n",
       "       [5.28245860e-01, 2.79043688e-01, 1.47403673e-01],\n",
       "       [1.61549041e+00, 2.60980926e+00, 4.21612182e+00],\n",
       "       [5.06309364e-02, 2.56349172e-03, 1.29791986e-04],\n",
       "       [4.16822392e-01, 1.73740907e-01, 7.24191004e-02],\n",
       "       [2.40302008e-01, 5.77450551e-02, 1.38762527e-02],\n",
       "       [3.61789637e-01, 1.30891741e-01, 4.73552756e-02],\n",
       "       [1.10681924e+00, 1.22504882e+00, 1.35590760e+00],\n",
       "       [1.71926248e+00, 2.95586349e+00, 5.08190521e+00],\n",
       "       [1.09109534e+00, 1.19048904e+00, 1.29893704e+00],\n",
       "       [6.82965547e-02, 4.66441938e-03, 3.18563773e-04],\n",
       "       [1.95826027e+00, 3.83478327e+00, 7.50950370e+00],\n",
       "       [1.67085671e+00, 2.79176216e+00, 4.66463455e+00],\n",
       "       [4.23359074e-01, 1.79232905e-01, 7.58798768e-02],\n",
       "       [8.87990748e-02, 7.88527569e-03, 7.00205186e-04],\n",
       "       [1.20450738e-01, 1.45083803e-02, 1.74754512e-03],\n",
       "       [2.75611673e-01, 7.59617944e-02, 2.09359573e-02],\n",
       "       [1.68354061e+00, 2.83430899e+00, 4.77167428e+00],\n",
       "       [6.33909377e-01, 4.01841099e-01, 2.54730841e-01],\n",
       "       [1.70361030e+00, 2.90228804e+00, 4.94436779e+00],\n",
       "       [1.74120561e+00, 3.03179698e+00, 5.27898192e+00],\n",
       "       [1.10149574e+00, 1.21329286e+00, 1.33643692e+00],\n",
       "       [1.41381364e+00, 1.99886902e+00, 2.82602830e+00],\n",
       "       [1.23820298e-01, 1.53314662e-02, 1.89834672e-03],\n",
       "       [1.04519812e+00, 1.09243911e+00, 1.14181531e+00],\n",
       "       [1.10030406e-01, 1.21066903e-02, 1.33210405e-03],\n",
       "       [1.53436692e-01, 2.35428183e-02, 3.61233215e-03],\n",
       "       [1.75888990e+00, 3.09369367e+00, 5.44146653e+00],\n",
       "       [3.31354562e-01, 1.09795846e-01, 3.63813543e-02],\n",
       "       [1.48632250e+00, 2.20915457e+00, 3.28351614e+00],\n",
       "       [1.33697788e+00, 1.78750986e+00, 2.38986115e+00],\n",
       "       [1.38993969e+00, 1.93193234e+00, 2.68526944e+00],\n",
       "       [5.53864845e-01, 3.06766267e-01, 1.69907051e-01],\n",
       "       [1.98200419e+00, 3.92834059e+00, 7.78598750e+00],\n",
       "       [1.78244788e+00, 3.17712046e+00, 5.66305165e+00],\n",
       "       [1.41924373e+00, 2.01425275e+00, 2.85871558e+00],\n",
       "       [1.52674278e+00, 2.33094352e+00, 3.55875120e+00],\n",
       "       [5.39994697e-01, 2.91594273e-01, 1.57459361e-01],\n",
       "       [1.60690726e+00, 2.58215095e+00, 4.14927711e+00],\n",
       "       [1.44421013e+00, 2.08574291e+00, 3.01225104e+00],\n",
       "       [7.47976414e-01, 5.59468716e-01, 4.18469404e-01],\n",
       "       [2.19816798e-01, 4.83194247e-02, 1.06214212e-02],\n",
       "       [1.10532360e+00, 1.22174026e+00, 1.35041835e+00],\n",
       "       [1.11050693e+00, 1.23322565e+00, 1.36950563e+00],\n",
       "       [8.86703727e-01, 7.86243500e-01, 6.97165042e-01],\n",
       "       [2.13967356e-01, 4.57820295e-02, 9.79585981e-03],\n",
       "       [1.14056748e+00, 1.30089417e+00, 1.48375758e+00],\n",
       "       [5.71370795e-01, 3.26464585e-01, 1.86532329e-01],\n",
       "       [1.67524079e+00, 2.80643170e+00, 4.70144886e+00],\n",
       "       [5.27675074e-01, 2.78440983e-01, 1.46926366e-01],\n",
       "       [2.44834966e-02, 5.99441608e-04, 1.46764266e-05],\n",
       "       [5.21729797e-01, 2.72201982e-01, 1.42015885e-01],\n",
       "       [5.70169190e-01, 3.25092905e-01, 1.85357958e-01],\n",
       "       [1.84252092e+00, 3.39488334e+00, 6.25514357e+00],\n",
       "       [9.38353534e-01, 8.80507354e-01, 8.26227188e-01],\n",
       "       [1.24214385e+00, 1.54292135e+00, 1.91653028e+00],\n",
       "       [7.55432229e-02, 5.70677853e-03, 4.31108443e-04],\n",
       "       [1.33952898e+00, 1.79433788e+00, 2.40356758e+00],\n",
       "       [1.16763610e+00, 1.36337405e+00, 1.59192476e+00],\n",
       "       [2.19163966e-01, 4.80328439e-02, 1.05270686e-02],\n",
       "       [6.06416131e-01, 3.67740524e-01, 2.23003786e-01],\n",
       "       [4.16131932e-01, 1.73165784e-01, 7.20598124e-02],\n",
       "       [9.10090101e-01, 8.28263992e-01, 7.53794860e-01],\n",
       "       [1.61223599e+00, 2.59930489e+00, 4.19069289e+00],\n",
       "       [1.60461615e+00, 2.57479299e+00, 4.13155441e+00],\n",
       "       [5.09852581e-01, 2.59949655e-01, 1.32536002e-01],\n",
       "       [6.54169180e-01, 4.27937316e-01, 2.79943403e-01],\n",
       "       [1.68309539e+00, 2.83281008e+00, 4.76788957e+00],\n",
       "       [1.91315554e-01, 3.66016411e-02, 7.00246323e-03],\n",
       "       [1.90391928e+00, 3.62490861e+00, 6.90153338e+00],\n",
       "       [1.84889814e+00, 3.41842432e+00, 6.32031837e+00],\n",
       "       [6.12631415e-01, 3.75317251e-01, 2.29931139e-01],\n",
       "       [1.27107613e+00, 1.61563452e+00, 2.05359447e+00],\n",
       "       [6.52070445e-01, 4.25195865e-01, 2.77257657e-01],\n",
       "       [1.96391461e+00, 3.85696058e+00, 7.57474123e+00],\n",
       "       [1.70465805e+00, 2.90585906e+00, 4.95349604e+00]])"
      ]
     },
     "execution_count": 179,
     "metadata": {},
     "output_type": "execute_result"
    }
   ],
   "source": [
    "X_poly"
   ]
  },
  {
   "cell_type": "markdown",
   "metadata": {},
   "source": [
    "### how can you decide how complex your model should be? How can you tell that your model is overfitting or underfitting the data?"
   ]
  },
  {
   "cell_type": "markdown",
   "metadata": {},
   "source": [
    "### used cross-validation to get an estimate of a model’s generalization performance. If a model performs well on the training data but generalizes poorly according to the cross-validation metrics, then your model is overfitting. If it performs poorly on both, then it is underfitting. This is one way to tell when a model is too simple or too complex."
   ]
  },
  {
   "cell_type": "markdown",
   "metadata": {},
   "source": [
    "### Another way is to look at the learning curves: these are plots of the model’s performance on the training set and the validation set as a function of the training set size. To generate the plots, simply train the model several times on different sized subsets of the training set. The following code defines a function that plots the learning curves of a model given some training data:"
   ]
  },
  {
   "cell_type": "code",
   "execution_count": 180,
   "metadata": {},
   "outputs": [],
   "source": [
    "from sklearn.metrics import mean_squared_error\n",
    "from sklearn.model_selection import train_test_split\n",
    "\n",
    "\n",
    "import numpy as np\n",
    "X = 2 * np.random.rand(100, 1)\n",
    "y = 4 + 3 * X + np.random.randn(100, 1)\n",
    "X_new = np.array([[0], [2]])\n",
    "\n",
    "\n",
    "def plot_learning_curves(model, X, y):\n",
    "    X_train, X_val, y_train, y_val = train_test_split(X, y, test_size=0.2) \n",
    "    train_errors, val_errors = [], []\n",
    "    for m in range(1, len(X_train)):\n",
    "        model.fit(X_train[:m], y_train[:m])\n",
    "        y_train_predict = model.predict(X_train[:m])\n",
    "        y_val_predict = model.predict(X_val)\n",
    "        train_errors.append(mean_squared_error(y_train_predict, y_train[:m]))\n",
    "        val_errors.append(mean_squared_error(y_val_predict, y_val))\n",
    "    plt.plot(np.sqrt(train_errors), \"r-+\", linewidth=2, label=\"train\")\n",
    "    plt.plot(np.sqrt(val_errors), \"b-\", linewidth=3, label=\"val\")\n",
    "        \n"
   ]
  },
  {
   "cell_type": "code",
   "execution_count": 181,
   "metadata": {},
   "outputs": [
    {
     "data": {
      "image/png": "[encoded data removed]",
      "text/plain": [
       "<Figure size 432x288 with 1 Axes>"
      ]
     },
     "metadata": {
      "needs_background": "light"
     },
     "output_type": "display_data"
    }
   ],
   "source": [
    "lin_reg = LinearRegression()\n",
    "plot_learning_curves(lin_reg, X, y)"
   ]
  },
  {
   "cell_type": "code",
   "execution_count": 205,
   "metadata": {},
   "outputs": [],
   "source": [
    "\n",
    "import numpy as np\n",
    "X = 2 * np.random.rand(100, 1)\n",
    "y = 4 + 3 * X + np.random.randn(100, 1)\n",
    "X_new = np.array([[0], [2]])\n",
    "\n",
    "from sklearn.pipeline import Pipeline\n",
    "polynomial_regression = Pipeline((\n",
    "(\"poly_features\", PolynomialFeatures(degree=2, include_bias=False)), \n",
    "(\"lin_reg\", LinearRegression()),\n",
    "))"
   ]
  },
  {
   "cell_type": "code",
   "execution_count": 206,
   "metadata": {},
   "outputs": [
    {
     "data": {
      "image/png": "[encoded data removed]",
      "text/plain": [
       "<Figure size 432x288 with 1 Axes>"
      ]
     },
     "metadata": {
      "needs_background": "light"
     },
     "output_type": "display_data"
    }
   ],
   "source": [
    "plot_learning_curves(polynomial_regression,X, y)"
   ]
  },
  {
   "cell_type": "markdown",
   "metadata": {},
   "source": [
    "![text](img/cap4/tradeoff.png)"
   ]
  },
  {
   "cell_type": "markdown",
   "metadata": {},
   "source": [
    "# Regularized Linear Models"
   ]
  },
  {
   "cell_type": "markdown",
   "metadata": {},
   "source": [
    "### a good way to reduce overfitting is to regularize the model (i.e., to constrain it): the fewer degrees of freedom it has, the harder it will be for it to overfit the data. For example, a simple way to regularize a polynomial model is to reduce the number of polynomial degrees. For a linear model, regularization is typically achieved by constraining the weights of the model. We will now look at Ridge Regression, Lasso Regression, and Elastic Net, which implement three different ways to constrain the weights."
   ]
  },
  {
   "cell_type": "markdown",
   "metadata": {},
   "source": [
    "## Ridge Regression"
   ]
  },
  {
   "cell_type": "markdown",
   "metadata": {},
   "source": [
    "#### Ridge Regression (also called Tikhonov regularization) is a regularized version of Linear Regression: a regularization term equal to   is added to the cost function. This forces the learning algorithm to not only fit the data but also keep the model weights as small as possible. Note that the regularization term should only be added to the cost function during training. Once the model is trained, you want to evaluate the model’s performance using the unregularized performance measure."
   ]
  },
  {
   "cell_type": "code",
   "execution_count": null,
   "metadata": {},
   "outputs": [],
   "source": []
  }
 ],
 "metadata": {
  "kernelspec": {
   "display_name": "Python 3",
   "language": "python",
   "name": "python3"
  },
  "language_info": {
   "codemirror_mode": {
    "name": "ipython",
    "version": 3
   },
   "file_extension": ".py",
   "mimetype": "text/x-python",
   "name": "python",
   "nbconvert_exporter": "python",
   "pygments_lexer": "ipython3",
   "version": "3.7.6"
  }
 },
 "nbformat": 4,
 "nbformat_minor": 4
}
