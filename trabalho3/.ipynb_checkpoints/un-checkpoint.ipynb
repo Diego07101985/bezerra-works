{
 "cells": [
  {
   "cell_type": "markdown",
   "metadata": {},
   "source": [
    "<center><h1>TD 2 - Solution exercises</h1></center>"
   ]
  },
  {
   "cell_type": "code",
   "execution_count": 1,
   "metadata": {},
   "outputs": [
    {
     "name": "stderr",
     "output_type": "stream",
     "text": [
      "/home/linhpc/miniconda2/lib/python2.7/site-packages/h5py/__init__.py:36: RuntimeWarning: numpy.dtype size changed, may indicate binary incompatibility. Expected 96, got 88\n",
      "  from ._conv import register_converters as _register_converters\n",
      "/home/linhpc/miniconda2/lib/python2.7/site-packages/h5py/__init__.py:45: RuntimeWarning: numpy.dtype size changed, may indicate binary incompatibility. Expected 96, got 88\n",
      "  from . import h5a, h5d, h5ds, h5f, h5fd, h5g, h5r, h5s, h5t, h5p, h5z\n",
      "/home/linhpc/miniconda2/lib/python2.7/site-packages/h5py/_hl/group.py:22: RuntimeWarning: numpy.dtype size changed, may indicate binary incompatibility. Expected 96, got 88\n",
      "  from .. import h5g, h5i, h5o, h5r, h5t, h5l, h5p\n"
     ]
    }
   ],
   "source": [
    "# Implement the function to load and convert data from numpy array to tensor\n",
    "import numpy as np\n",
    "import matplotlib.pyplot as plt\n",
    "import h5py\n",
    "import torch\n",
    "import torch.utils.data\n",
    "\n",
    "def load_data(train_path, test_path):\n",
    "    train_dataset = h5py.File(train_path,'r')\n",
    "    train_set_X = np.array(train_dataset['train_set_x'][:])\n",
    "    train_set_Y = np.array(train_dataset['train_set_y'][:])\n",
    "    \n",
    "    test_dataset = h5py.File(test_path,'r')\n",
    "    test_set_X = np.array(test_dataset['test_set_x'][:])\n",
    "    test_set_Y = np.array(test_dataset['test_set_y'][:])\n",
    "    \n",
    "    classes = np.array(test_dataset['list_classes'][:])    \n",
    "    return train_set_X, train_set_Y, test_set_X, test_set_Y, classes\n",
    "\n",
    "def reshape_data(x_dataset, y_dataset):\n",
    "    x_dataset_reshape = x_dataset.reshape((x_dataset.shape[0], x_dataset.shape[1] * x_dataset.shape[2] * x_dataset.shape[3]))\n",
    "    y_dataset_reshape = y_dataset.reshape((y_dataset.shape[0],-1))\n",
    "    return x_dataset_reshape, y_dataset_reshape\n",
    "\n",
    "def normalize(imgs):\n",
    "    return imgs / 255.\n",
    "\n",
    "def convert_to_tensor(numpy_array):\n",
    "    data = normalize(numpy_array)\n",
    "    return torch.from_numpy(data)"
   ]
  },
  {
   "cell_type": "code",
   "execution_count": 2,
   "metadata": {},
   "outputs": [
    {
     "name": "stdout",
     "output_type": "stream",
     "text": [
      "Train x dataset: (209, 12288)\n",
      "Train y dataset: (209, 1)\n",
      "Test x dataset: (50, 12288)\n",
      "Test y dataset: (50, 1)\n"
     ]
    }
   ],
   "source": [
    "# Test the loaded data functions\n",
    "train_path = 'data/train_catvnoncat.h5'\n",
    "test_path = 'data/test_catvnoncat.h5'\n",
    "\n",
    "#Load data from h5 file\n",
    "train_set_X, train_set_Y, test_set_X, test_set_Y, classes = load_data(train_path, test_path)\n",
    "# Transpose the axes\n",
    "train_set_X = train_set_X.transpose((0,3,1,2))\n",
    "test_set_X = test_set_X.transpose((0,3,1,2))\n",
    "# Reshape into vector\n",
    "train_set_X_reshape, train_set_Y_reshape = reshape_data(train_set_X,train_set_Y)\n",
    "test_set_X_reshape, test_set_Y_reshape = reshape_data(test_set_X,test_set_Y)\n",
    "# Print the information\n",
    "print('Train x dataset: ' + (str(train_set_X_reshape.shape)))\n",
    "print('Train y dataset: ' + (str(train_set_Y_reshape.shape)))\n",
    "print('Test x dataset: ' + (str(test_set_X_reshape.shape)))\n",
    "print('Test y dataset: ' + (str(test_set_Y_reshape.shape)))\n",
    "\n",
    "\n",
    "# Convert to Tensor\n",
    "train_x_dataset = convert_to_tensor(train_set_X_reshape)\n",
    "train_x_dataset = train_x_dataset.float()\n",
    "train_y_dataset = torch.from_numpy(train_set_Y_reshape)\n",
    "test_x_dataset = convert_to_tensor(test_set_X_reshape)\n",
    "test_x_dataset = test_x_dataset.float()\n",
    "test_y_dataset = torch.from_numpy(test_set_Y_reshape)\n",
    "\n",
    "#Create the DataLoader to put data into PyTorch model\n",
    "b_size = 4\n",
    "train = torch.utils.data.TensorDataset(train_x_dataset,train_y_dataset)\n",
    "train_loader = torch.utils.data.DataLoader(train, batch_size=b_size, shuffle=True)\n",
    "\n",
    "test = torch.utils.data.TensorDataset(test_x_dataset,test_y_dataset)\n",
    "test_loader = torch.utils.data.DataLoader(test, batch_size=b_size, shuffle=True)"
   ]
  },
  {
   "cell_type": "markdown",
   "metadata": {},
   "source": [
    "**Exercise 1:** Implement your network model (including forward function) by inherited\n",
    "nn.Module. **Hints:** We use ReLU activation function for all hidden layers and Sigmoid\n",
    "function for the last layer"
   ]
  },
  {
   "cell_type": "code",
   "execution_count": 3,
   "metadata": {},
   "outputs": [
    {
     "name": "stdout",
     "output_type": "stream",
     "text": [
      "Network(\n",
      "  (layer1): Linear(in_features=12288, out_features=4, bias=True)\n",
      "  (layer2): Linear(in_features=4, out_features=4, bias=True)\n",
      "  (layer3): Linear(in_features=4, out_features=4, bias=True)\n",
      "  (layer4): Linear(in_features=4, out_features=3, bias=True)\n",
      "  (layer5): Linear(in_features=3, out_features=1, bias=True)\n",
      ")\n"
     ]
    }
   ],
   "source": [
    "import torch.nn as nn\n",
    "import torch.nn.functional as F\n",
    "\n",
    "class Network(nn.Module):\n",
    "    def __init__(self):\n",
    "        super(Network, self).__init__()\n",
    "        self.layer1 = nn.Linear(12288,4)\n",
    "        self.layer2 = nn.Linear(4,4)\n",
    "        self.layer3 = nn.Linear(4,4)\n",
    "        self.layer4 = nn.Linear(4,3)\n",
    "        self.layer5 = nn.Linear(3,1)\n",
    "    def forward(self, x):\n",
    "        x = F.relu(self.layer1(x))\n",
    "        x = F.relu(self.layer2(x))\n",
    "        x = F.relu(self.layer3(x))\n",
    "        x = F.relu(self.layer4(x))\n",
    "        x = torch.sigmoid(self.layer5(x))\n",
    "        return x\n",
    "net = Network()\n",
    "print(net)"
   ]
  },
  {
   "cell_type": "markdown",
   "metadata": {},
   "source": [
    "**Exercise 2:** Define the loss function and update rule to update the parameters of the\n",
    "model."
   ]
  },
  {
   "cell_type": "code",
   "execution_count": 17,
   "metadata": {},
   "outputs": [],
   "source": [
    "import torch.optim as optim\n",
    "criterion = nn.BCELoss()\n",
    "optimizer = optim.SGD(net.parameters(), lr = 0.0001, momentum = 0.99)"
   ]
  },
  {
   "cell_type": "markdown",
   "metadata": {},
   "source": [
    "**Exercise 3:** Write the train() function to train the network in 100 epochs (or 1000\n",
    "epochs)"
   ]
  },
  {
   "cell_type": "code",
   "execution_count": 18,
   "metadata": {},
   "outputs": [],
   "source": [
    "def train(train_loader, epochs = 100):\n",
    "    for epoch in range(epochs):\n",
    "        running_loss = 0.0\n",
    "        for i, data in enumerate(train_loader,0):\n",
    "            inputs, labels = data\n",
    "            optimizer.zero_grad()\n",
    "            \n",
    "            # forward + backward + optimize\n",
    "            outputs = net(inputs)\n",
    "            loss = criterion(outputs,labels.float())\n",
    "            loss.backward()\n",
    "            optimizer.step()\n",
    "            \n",
    "            running_loss += loss.item()\n",
    "            if i % 50 == 49:    # print every 20 mini-batches\n",
    "                print('[%d, %5d] loss: %.6f' % (epoch + 1, i + 1, running_loss / 50))\n",
    "                running_loss = 0.0\n",
    "    print('Finished training!')"
   ]
  },
  {
   "cell_type": "code",
   "execution_count": 20,
   "metadata": {},
   "outputs": [
    {
     "name": "stdout",
     "output_type": "stream",
     "text": [
      "[1,    50] loss: 0.644349\n",
      "[2,    50] loss: 0.650637\n",
      "[3,    50] loss: 0.641215\n",
      "[4,    50] loss: 0.647478\n",
      "[5,    50] loss: 0.637988\n",
      "[6,    50] loss: 0.647509\n",
      "[7,    50] loss: 0.644399\n",
      "[8,    50] loss: 0.644309\n",
      "[9,    50] loss: 0.641113\n",
      "[10,    50] loss: 0.634798\n",
      "[11,    50] loss: 0.650720\n",
      "[12,    50] loss: 0.647569\n",
      "[13,    50] loss: 0.641078\n",
      "[14,    50] loss: 0.647565\n",
      "[15,    50] loss: 0.641124\n",
      "[16,    50] loss: 0.644347\n",
      "[17,    50] loss: 0.641070\n",
      "[18,    50] loss: 0.644328\n",
      "[19,    50] loss: 0.637888\n",
      "[20,    50] loss: 0.644326\n",
      "[21,    50] loss: 0.647572\n",
      "[22,    50] loss: 0.647543\n",
      "[23,    50] loss: 0.634664\n",
      "[24,    50] loss: 0.644310\n",
      "[25,    50] loss: 0.644349\n",
      "[26,    50] loss: 0.637846\n",
      "[27,    50] loss: 0.647556\n",
      "[28,    50] loss: 0.647596\n",
      "[29,    50] loss: 0.644325\n",
      "[30,    50] loss: 0.637866\n",
      "[31,    50] loss: 0.647543\n",
      "[32,    50] loss: 0.650811\n",
      "[33,    50] loss: 0.641094\n",
      "[34,    50] loss: 0.654114\n",
      "[35,    50] loss: 0.647515\n",
      "[36,    50] loss: 0.644313\n",
      "[37,    50] loss: 0.637877\n",
      "[38,    50] loss: 0.634653\n",
      "[39,    50] loss: 0.647524\n",
      "[40,    50] loss: 0.637902\n",
      "[41,    50] loss: 0.653964\n",
      "[42,    50] loss: 0.641131\n",
      "[43,    50] loss: 0.644317\n",
      "[44,    50] loss: 0.634652\n",
      "[45,    50] loss: 0.641156\n",
      "[46,    50] loss: 0.647650\n",
      "[47,    50] loss: 0.641095\n",
      "[48,    50] loss: 0.650812\n",
      "[49,    50] loss: 0.644389\n",
      "[50,    50] loss: 0.647587\n",
      "Finished training!\n"
     ]
    }
   ],
   "source": [
    "# Test the train function\n",
    "epochs = 50\n",
    "train(train_loader,epochs)"
   ]
  },
  {
   "cell_type": "markdown",
   "metadata": {},
   "source": [
    "**Exercise 4:** Implement the predict() function to predict a test image."
   ]
  },
  {
   "cell_type": "code",
   "execution_count": 23,
   "metadata": {},
   "outputs": [],
   "source": [
    "def predict(test_loader):\n",
    "    dataiter = iter(test_loader)\n",
    "    images, labels = dataiter.next()\n",
    "    #print (images.shape, labels.shape)\n",
    "    images_batch = images.view((b_size,3,64,64))\n",
    "    \n",
    "    outputs = net(images)\n",
    "    print(outputs)"
   ]
  },
  {
   "cell_type": "code",
   "execution_count": 24,
   "metadata": {},
   "outputs": [
    {
     "name": "stdout",
     "output_type": "stream",
     "text": [
      "tensor([[0.3435],\n",
      "        [0.3435],\n",
      "        [0.3435],\n",
      "        [0.3435]], grad_fn=<SigmoidBackward>)\n"
     ]
    }
   ],
   "source": [
    "# Test the predict function\n",
    "predict(test_loader)"
   ]
  },
  {
   "cell_type": "markdown",
   "metadata": {},
   "source": [
    "**Exercise 5:** Try to train and test your network by using GPU for computing"
   ]
  },
  {
   "cell_type": "markdown",
   "metadata": {},
   "source": [
    "To train your network on GPU, firstly you have to define your device (if it is available):<br/>\n",
    "    <ul>\n",
    "        <li>device = torch.device(\"cuda:0\" if torch.cuda.is_available() else \"cpu\")</li>\n",
    "        <li>print(device)</li>\n",
    "    </ul>\n",
    "Then, the network and the data have to send to GPU: <br>\n",
    "    <ul>\n",
    "        <li>net.to(device)</li>\n",
    "        <li>inputs, labels = inputs.to(device), labels.to(device)</li>\n",
    "    </ul>"
   ]
  },
  {
   "cell_type": "code",
   "execution_count": null,
   "metadata": {},
   "outputs": [],
   "source": []
  }
 ],
 "metadata": {
  "kernelspec": {
   "display_name": "Python 3",
   "language": "python",
   "name": "python3"
  },
  "language_info": {
   "codemirror_mode": {
    "name": "ipython",
    "version": 3
   },
   "file_extension": ".py",
   "mimetype": "text/x-python",
   "name": "python",
   "nbconvert_exporter": "python",
   "pygments_lexer": "ipython3",
   "version": "3.8.3"
  },
  "toc": {
   "base_numbering": 1,
   "nav_menu": {},
   "number_sections": true,
   "sideBar": true,
   "skip_h1_title": false,
   "title_cell": "Table of Contents",
   "title_sidebar": "Contents",
   "toc_cell": false,
   "toc_position": {},
   "toc_section_display": true,
   "toc_window_display": false
  }
 },
 "nbformat": 4,
 "nbformat_minor": 2
}
