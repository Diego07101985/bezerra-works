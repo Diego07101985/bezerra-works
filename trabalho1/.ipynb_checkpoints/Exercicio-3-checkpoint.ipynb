{
 "cells": [
  {
   "cell_type": "markdown",
   "metadata": {},
   "source": [
    "## 3 - Regressão Logística"
   ]
  },
  {
   "cell_type": "markdown",
   "metadata": {},
   "source": [
    "## Carrega base ex2data1.txt"
   ]
  },
  {
   "cell_type": "code",
   "execution_count": 5,
   "metadata": {},
   "outputs": [],
   "source": [
    "import numpy as np\n",
    "import matplotlib.pyplot as plt\n",
    "import os\n",
    "import matplotlib.pyplot as plt\n",
    "import pandas as pd\n",
    "\n",
    "DATA_BASE = \"am-T1-dados\"\n",
    "\n",
    "# 3.1 Visualiza¸c˜ao dos dados\n",
    "\n",
    "def load_student_grade(properties_sell=DATA_BASE):\n",
    "    os.makedirs(properties_sell, exist_ok=True)\n",
    "    txt_path = os.path.join(properties_sell, \"ex2data1.txt\")\n",
    "    return np.loadtxt(txt_path, delimiter=\",\")"
   ]
  },
  {
   "cell_type": "markdown",
   "metadata": {},
   "source": [
    "### Nessa primeira parte, carregamos o dataset com scores de uma determinada matéria  "
   ]
  },
  {
   "cell_type": "markdown",
   "metadata": {},
   "source": [
    "## - Visualização dos dados\n"
   ]
  },
  {
   "cell_type": "markdown",
   "metadata": {},
   "source": [
    "### Aqui pode se visualizar os dados onde a cruz representa a nota dos alunos adimitidos e bola amarela para os não adimitidos "
   ]
  },
  {
   "cell_type": "code",
   "execution_count": 7,
   "metadata": {},
   "outputs": [
    {
     "data": {
      "text/plain": [
       "Text(0, 0.5, 'Exam 2 Score')"
      ]
     },
     "execution_count": 7,
     "metadata": {},
     "output_type": "execute_result"
    },
    {
     "data": {
      "image/png": "[encoded data removed]",
      "text/plain": [
       "<Figure size 720x504 with 1 Axes>"
      ]
     },
     "metadata": {
      "needs_background": "light"
     },
     "output_type": "display_data"
    }
   ],
   "source": [
    "\n",
    "data = load_student_grade()\n",
    "\n",
    "values = data[:,:2]\n",
    "clasz  = data[:,2]\n",
    "\n",
    "pos = data[np.where(clasz == 0)]\n",
    "neg = data[np.where(clasz == 1)]\n",
    "\n",
    "plt.figure(figsize=(10, 7))\n",
    "plt.plot(pos[:,0], pos[:,1],'y.',marker='o',markersize=7, label=\"Not admitted\");\n",
    "plt.plot(neg[:,0], neg[:,1],'k.', marker='P',markersize=7, label=\"Admitted\");\n",
    "plt.legend(loc=4)\n",
    "plt.xlabel(\"Exam 1 Score\", fontsize=10)\n",
    "plt.ylabel(\"Exam 2 Score\", rotation=90, fontsize=10)"
   ]
  },
  {
   "cell_type": "markdown",
   "metadata": {},
   "source": [
    "## Implementação"
   ]
  },
  {
   "cell_type": "markdown",
   "metadata": {},
   "source": [
    "###  Função sigmoide"
   ]
  },
  {
   "cell_type": "markdown",
   "metadata": {},
   "source": [
    "### A funcao sigmoide representa valores que para dado um valor de entrada vão gerar um valor de saida que sera em um range de 0 a 1 .Caso ultrapasse um determinado  limiar teremos uma classificacao. Exemplo: > 0.5 "
   ]
  },
  {
   "cell_type": "code",
   "execution_count": 8,
   "metadata": {},
   "outputs": [],
   "source": [
    "\n",
    "import numpy as np\n",
    "\n",
    "def sigmoide(z):\n",
    "    return 1 / (1 + np.exp(-z)) "
   ]
  },
  {
   "cell_type": "markdown",
   "metadata": {},
   "source": [
    "### 3.2.2 - Função de custo e gradiente"
   ]
  },
  {
   "cell_type": "code",
   "execution_count": 9,
   "metadata": {},
   "outputs": [],
   "source": [
    "#3.2.2 Função de custo e gradiente\n",
    "import numpy as np\n",
    "import sigmoide as si\n",
    "\n",
    "\n",
    "def funcaoCustoRegressaoLogistica(theta, z, labels_norm):\n",
    "    y = labels_norm\n",
    "    m = len(y)\n",
    "    term_1 = y * np.transpose(np.log(sigmoide(np.dot(z,theta)))) \n",
    "    term_2 = (1-y)* np.transpose(np.log(1-sigmoide(np.dot(z,theta))))\n",
    "    \n",
    "    return - 1/m * (term_1 + term_2).sum()"
   ]
  },
  {
   "cell_type": "markdown",
   "metadata": {},
   "source": [
    "#### A função de custo  utiliza a formula abaixo:\n",
    "#### É necessário a função de sigmoide que coloca os valores dentro de um range de 0 e 1 onde se pode ober a probabilidade de uma classe ser identificada\n",
    "\n",
    "![text](img/custo_l.png)   "
   ]
  },
  {
   "cell_type": "markdown",
   "metadata": {},
   "source": [
    "#### O codigo do gradiente é refletido abaixo :"
   ]
  },
  {
   "cell_type": "code",
   "execution_count": 10,
   "metadata": {},
   "outputs": [],
   "source": [
    "import numpy as np\n",
    "import custo_reglog as cr\n",
    "import sigmoide as si\n",
    "\n",
    "\n",
    "\n",
    "def gd_reglog(theta,exam_norm,clasz):\n",
    "    learning_rate = 0.5\n",
    "    iter = 500\n",
    "    y = clasz\n",
    "    m = len(y)\n",
    "\n",
    "    new_custo = 0\n",
    "\n",
    "    for i in range(iter):   \n",
    "        grad = (1./m) * np.dot(si.sigmoide( np.dot(exam_norm,theta) ).T - y, exam_norm).T \n",
    "        theta = theta - learning_rate * grad\n",
    "        new_custo = funcaoCustoRegressaoLogistica(theta,exam_norm, clasz)\n",
    "    return theta\n"
   ]
  },
  {
   "cell_type": "markdown",
   "metadata": {},
   "source": [
    "![text](img/grad_log.png)   "
   ]
  },
  {
   "cell_type": "markdown",
   "metadata": {},
   "source": [
    "### Onde a resolução da derivada é igual a :\n",
    "![text](img/derivada.png)"
   ]
  },
  {
   "cell_type": "markdown",
   "metadata": {},
   "source": [
    "### O valor de gradiente descendente vai representar quão proximo nossos thetas estão do valor ideal. Ou seja obter os valores dos parâmetros que minimizam determinada função de interesse \n"
   ]
  },
  {
   "cell_type": "code",
   "execution_count": 11,
   "metadata": {},
   "outputs": [],
   "source": [
    "\n",
    "def normalizar_caracteristicas(pmtr, labels):\n",
    "    c = len(pmtr[0])\n",
    "    l = len(pmtr)\n",
    "\n",
    "    ll = len(labels)\n",
    "\n",
    "    mean_label = np.zeros(shape=(ll), dtype=np.float64)\n",
    "    std_label = np.zeros(shape=(ll), dtype=np.float64)\n",
    "\n",
    "    normalizar_label = np.copy(labels)\n",
    "\n",
    "    mean_lb = np.mean(labels)\n",
    "    std_lb = np.std(labels)\n",
    "\n",
    "    for j in range(ll):\n",
    "        normalizar_label[j] = ((labels[j] - mean_lb) / std_lb)\n",
    "        \n",
    "    mean = np.zeros(shape=(c), dtype=np.float64)\n",
    "    std = np.zeros(shape=(c), dtype=np.float64)\n",
    "\n",
    "    normalizar = np.copy(pmtr)\n",
    "\n",
    "    for j in range(c):\n",
    "        mean[j] = np.mean(pmtr[:,j])\n",
    "        std[j] = pmtr[:,j].std()\n",
    "\n",
    "    for i in range(l):\n",
    "        for j in range(c):\n",
    "            normalizar[i,j] = ((pmtr[i,j] - mean[j]) / std[j])\n",
    "            \n",
    "    return normalizar,normalizar_label, mean , std,mean_lb,std_lb\n"
   ]
  },
  {
   "cell_type": "markdown",
   "metadata": {},
   "source": [
    "### Aqui utiliza se normalizacao afim de alterar os valores das colunas numéricas no conjunto de dados em uma escala comum, isso sem alterar ou distorcer os intervalos de valores. Utilizar esse  método é importante apenas quando os parâmetros tiverem intervalos muito diferentes."
   ]
  },
  {
   "cell_type": "code",
   "execution_count": 12,
   "metadata": {},
   "outputs": [],
   "source": [
    "student_grade = load_student_grade()\n",
    "learning_rate = 1\n",
    "\n",
    "initial_theta = np.array([0, 0, 0],ndmin=2)\n",
    "\n",
    "values = student_grade[:,:2]\n",
    "clasz  = student_grade[:,2]\n",
    "\n",
    "m = len(clasz)\n",
    "examData_norm,label_norm,mean_examData, std_examData,mean_lb,std_lb = normalizar_caracteristicas(values,clasz)\n",
    "\n",
    "examData_norm = np.column_stack((np.ones((m,1)), examData_norm))\n",
    "initial_theta = np.transpose(initial_theta)\n",
    "J = funcaoCustoRegressaoLogistica(initial_theta, examData_norm,clasz)\n",
    "theta  = gd_reglog(initial_theta,examData_norm,clasz)\n"
   ]
  },
  {
   "cell_type": "code",
   "execution_count": 13,
   "metadata": {},
   "outputs": [
    {
     "data": {
      "text/plain": [
       "0.6931471805599453"
      ]
     },
     "execution_count": 13,
     "metadata": {},
     "output_type": "execute_result"
    }
   ],
   "source": [
    "J"
   ]
  },
  {
   "cell_type": "markdown",
   "metadata": {},
   "source": [
    "### J representa a nossa funcao de cusoto"
   ]
  },
  {
   "cell_type": "markdown",
   "metadata": {},
   "source": [
    "## 3.2.3 Aprendizado dos parâmetros"
   ]
  },
  {
   "cell_type": "code",
   "execution_count": null,
   "metadata": {
    "collapsed": true
   },
   "outputs": [],
   "source": [
    "A funcao fmin que t"
   ]
  },
  {
   "cell_type": "code",
   "execution_count": 29,
   "metadata": {},
   "outputs": [],
   "source": [
    "import scipy.optimize as opt\n",
    "\n",
    "myargs=(examData_norm, clasz)\n",
    "initial_theta = np.array([0, 0, 0],ndmin=2)\n",
    "result = opt.fmin_tnc(func=funcaoCustoRegressaoLogistica, x0=initial_theta, fprime=gd_reglog, args=myargs)\n",
    "custo  = funcaoCustoRegressaoLogistica(result[0], examData_norm, clasz)"
   ]
  },
  {
   "cell_type": "code",
   "execution_count": 30,
   "metadata": {},
   "outputs": [
    {
     "name": "stdout",
     "output_type": "stream",
     "text": [
      "(array([0., 0., 0.]), 55, 4)\n",
      "Custo 0.6931471805599453\n"
     ]
    }
   ],
   "source": [
    "funcaoCustoRegressaoLogistica(result[0],examData_norm,clasz)\n",
    "print(result)\n",
    "print(f'Custo {custo}')"
   ]
  },
  {
   "cell_type": "markdown",
   "metadata": {},
   "source": [
    "##  Avaliação do modelo"
   ]
  },
  {
   "cell_type": "code",
   "execution_count": null,
   "metadata": {},
   "outputs": [],
   "source": []
  },
  {
   "cell_type": "code",
   "execution_count": 33,
   "metadata": {},
   "outputs": [],
   "source": [
    "import numpy as np\n",
    "import sigmoide as si\n",
    "\n",
    "\n",
    "def acuracia(theta, X):\n",
    "    m = X.shape[0] \n",
    "    p = np.zeros((m, 1))\n",
    "    sigValue = si.sigmoide( np.dot(X,theta) )\n",
    "    p = sigValue >= 0.5\n",
    "    return p\n",
    "\n",
    "def predizer(values,theta):\n",
    "    prob = si.sigmoide(np.dot(values,theta))\n",
    "    return prob"
   ]
  },
  {
   "cell_type": "markdown",
   "metadata": {},
   "source": [
    "### Medidas acuradas ou exatas são aquelas cujo valor médio se aproxima do valor correto"
   ]
  },
  {
   "cell_type": "code",
   "execution_count": 32,
   "metadata": {},
   "outputs": [
    {
     "name": "stdout",
     "output_type": "stream",
     "text": [
      "Predizer [1.]\n",
      "Acuracia 60.0\n"
     ]
    }
   ],
   "source": [
    "p = predizer(np.array([1,45,85]),theta)\n",
    "a = acuracia(theta, examData_norm)\n",
    "print('Predizer {0}'.format(p))\n",
    "print('Acuracia {0}'.format(np.mean(p == clasz) * 100))"
   ]
  },
  {
   "cell_type": "markdown",
   "metadata": {},
   "source": [
    "### E aqui temos uma acuracia de 60% do nosso modelo"
   ]
  },
  {
   "cell_type": "code",
   "execution_count": null,
   "metadata": {},
   "outputs": [],
   "source": []
  }
 ],
 "metadata": {
  "kernelspec": {
   "display_name": "Python 3",
   "language": "python",
   "name": "python3"
  },
  "language_info": {
   "codemirror_mode": {
    "name": "ipython",
    "version": 3
   },
   "file_extension": ".py",
   "mimetype": "text/x-python",
   "name": "python",
   "nbconvert_exporter": "python",
   "pygments_lexer": "ipython3",
   "version": "3.8.3"
  },
  "toc": {
   "base_numbering": 1,
   "nav_menu": {},
   "number_sections": true,
   "sideBar": true,
   "skip_h1_title": false,
   "title_cell": "Table of Contents",
   "title_sidebar": "Contents",
   "toc_cell": false,
   "toc_position": {},
   "toc_section_display": true,
   "toc_window_display": false
  }
 },
 "nbformat": 4,
 "nbformat_minor": 4
}
