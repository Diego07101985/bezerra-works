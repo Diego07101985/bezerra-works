{
 "cells": [
  {
   "cell_type": "markdown",
   "metadata": {},
   "source": [
    "# 4 - Regressão Logística com Regularização"
   ]
  },
  {
   "cell_type": "markdown",
   "metadata": {},
   "source": [
    "## Microchips Base"
   ]
  },
  {
   "cell_type": "code",
   "execution_count": 10,
   "metadata": {},
   "outputs": [],
   "source": [
    "import os\n",
    "import numpy as np\n",
    "import matplotlib.pyplot as plt\n",
    "\n",
    "\n",
    "\n",
    "DATA_BASE = \"am-T1-dados\"\n",
    "\n",
    "def load_microchip_base(microchips_base=DATA_BASE):\n",
    "    os.makedirs(microchips_base, exist_ok=True)\n",
    "    txt_path = os.path.join(microchips_base, \"ex2data2.txt\")\n",
    "    return np.loadtxt(txt_path, delimiter=\",\")"
   ]
  },
  {
   "cell_type": "code",
   "execution_count": null,
   "metadata": {},
   "outputs": [],
   "source": []
  },
  {
   "cell_type": "code",
   "execution_count": 11,
   "metadata": {},
   "outputs": [],
   "source": [
    "\n",
    "data = load_microchip_base()\n",
    "\n",
    "values = data[:,:2]\n",
    "clasz  = data[:,2]\n",
    "\n",
    "pos = data[np.where(clasz == 0)]\n",
    "neg = data[np.where(clasz == 1)]"
   ]
  },
  {
   "cell_type": "code",
   "execution_count": null,
   "metadata": {},
   "outputs": [],
   "source": []
  },
  {
   "cell_type": "markdown",
   "metadata": {},
   "source": [
    "## 4.1 - Visualização dos Dados"
   ]
  },
  {
   "cell_type": "code",
   "execution_count": null,
   "metadata": {},
   "outputs": [],
   "source": []
  },
  {
   "cell_type": "code",
   "execution_count": 12,
   "metadata": {},
   "outputs": [
    {
     "data": {
      "text/plain": [
       "Text(0, 0.5, 'Microchip 2')"
      ]
     },
     "execution_count": 12,
     "metadata": {},
     "output_type": "execute_result"
    },
    {
     "data": {
      "image/png": "[encoded data removed]",
      "text/plain": [
       "<Figure size 720x504 with 1 Axes>"
      ]
     },
     "metadata": {
      "needs_background": "light"
     },
     "output_type": "display_data"
    }
   ],
   "source": [
    "plt.figure(figsize=(10, 7))\n",
    "plt.plot(pos[:,0], pos[:,1],'y.',marker='o',markersize=7, label=\"y=1\");\n",
    "plt.plot(neg[:,0], neg[:,1],'k.', marker='P',markersize=7, label=\"y=0\");\n",
    "plt.legend(loc=1)\n",
    "\n",
    "plt.ylim = (-0.8, 1.5)\n",
    "plt.xlim = (-1,1.8)\n",
    "plt.xticks(np.arange(-1, 1.8,0.5))\n",
    "plt.xlabel(\"Microchip 1\", fontsize=10)\n",
    "plt.ylabel(\"Microchip 2\", rotation=90, fontsize=10)"
   ]
  },
  {
   "cell_type": "code",
   "execution_count": null,
   "metadata": {},
   "outputs": [],
   "source": []
  },
  {
   "cell_type": "markdown",
   "metadata": {},
   "source": [
    "## 4.2 - Mapeamento de características (feature mapping)"
   ]
  },
  {
   "cell_type": "code",
   "execution_count": null,
   "metadata": {},
   "outputs": [],
   "source": []
  },
  {
   "cell_type": "code",
   "execution_count": 16,
   "metadata": {},
   "outputs": [],
   "source": [
    "import numpy as np\n",
    "\n",
    "def mapFeature(X1, X2):\n",
    "    graus = 6\n",
    "    out = np.ones(( X1.shape[0], sum(range(graus + 2)) ))\n",
    "    curr_column = 1\n",
    "\n",
    "    for i in range(1, graus + 1):\n",
    "        for j in range(i+1):\n",
    "            out[:,curr_column] = np.power(X1,i-j) * np.power(X2,j)\n",
    "            curr_column += 1\n",
    "    return out"
   ]
  },
  {
   "cell_type": "code",
   "execution_count": null,
   "metadata": {},
   "outputs": [],
   "source": []
  },
  {
   "cell_type": "markdown",
   "metadata": {},
   "source": [
    "## 4.3 - Função de custo e gradiente"
   ]
  },
  {
   "cell_type": "code",
   "execution_count": null,
   "metadata": {},
   "outputs": [],
   "source": []
  },
  {
   "cell_type": "code",
   "execution_count": 20,
   "metadata": {},
   "outputs": [],
   "source": [
    "import numpy as np\n",
    "import sigmoide as si\n",
    "\n",
    "def costFunctionReg(theta, exam_norm, y, lambda_reg):\n",
    "    m = len(y) \n",
    "\n",
    "    custo = 0\n",
    "    grad = np.zeros(theta.shape)\n",
    "\n",
    "    term1 = y * np.transpose(np.log(sigmoide(np.dot(exam_norm,theta))))\n",
    "    term2 = (1-y) * np.transpose(np.log( 1 - sigmoide( np.dot(exam_norm,theta))))\n",
    "    regularizar = ( float(lambda_reg) / (2*m)) * np.power(theta[1:theta.shape[0]],2).sum()\n",
    "    custo = -(1./m)*(term1+term2).sum() + regularizar\n",
    "\n",
    "    grad_no_regularization = (1./m) * np.dot(sigmoide( np.dot(exam_norm,theta) ).T - y, exam_norm).T\n",
    "    grad_reg = (1./m) ** np.dot(sigmoide( np.dot(exam_norm,theta) ).T - y, exam_norm).T + ( float(lambda_reg) / m ) ** theta\n",
    "\n",
    "    grad_reg[0] = grad[0]\n",
    "    return custo \n"
   ]
  },
  {
   "cell_type": "code",
   "execution_count": 21,
   "metadata": {},
   "outputs": [],
   "source": [
    "\n",
    "import numpy as np\n",
    "def sigmoide(z):\n",
    "    return 1 / (1 + np.exp(-z)) "
   ]
  },
  {
   "cell_type": "code",
   "execution_count": null,
   "metadata": {},
   "outputs": [],
   "source": []
  },
  {
   "cell_type": "code",
   "execution_count": 29,
   "metadata": {},
   "outputs": [
    {
     "data": {
      "text/plain": [
       "0.6931471805599454"
      ]
     },
     "execution_count": 29,
     "metadata": {},
     "output_type": "execute_result"
    }
   ],
   "source": [
    "microchips = load_microchip_base()\n",
    "\n",
    "values = microchips[:,:2]\n",
    "clasz  = microchips[:,2]\n",
    "\n",
    "m = len(clasz)\n",
    "\n",
    "values = mapFeature(values[:,0], values[:,1])\n",
    "m,n = values.shape\n",
    "initial_theta = np.zeros((n, 1))\n",
    "\n",
    "lambda_r = 1\n",
    "initial_theta = np.transpose(initial_theta)\n",
    "custo = costFunctionReg(np.transpose(initial_theta), values,clasz,lambda_r)\n",
    "custo"
   ]
  },
  {
   "cell_type": "code",
   "execution_count": null,
   "metadata": {},
   "outputs": [],
   "source": []
  },
  {
   "cell_type": "markdown",
   "metadata": {},
   "source": [
    "## 4.4 Esboço da fronteira de decisão"
   ]
  },
  {
   "cell_type": "code",
   "execution_count": null,
   "metadata": {},
   "outputs": [],
   "source": [
    "\n"
   ]
  },
  {
   "cell_type": "code",
   "execution_count": 32,
   "metadata": {},
   "outputs": [],
   "source": [
    "import mapFeature as mf\n",
    "import plot_data as pd\n",
    "\n",
    "\n",
    "# 4.4 Esbo¸co da fronteira de decis˜ao\n",
    "\n",
    "\n",
    "import matplotlib.pyplot as plt\n",
    "import numpy as np\n",
    "\n",
    "\n",
    "def plotData(microchip_base, clasz):\n",
    "    pos = np.where(clasz==1)\n",
    "    neg = np.where(clasz==0)\n",
    "    \n",
    "    p1 = plt.plot(microchip_base[pos,0], microchip_base[pos,1], marker='+', markersize=9, color='k')[0]\n",
    "    p2 = plt.plot(microchip_base[neg,0], microchip_base[neg,1], marker='o', markersize=7, color='y')[0]\n",
    "    return plt, p1, p2\n",
    "\n",
    "def plotDecisionBoundary(theta, microchip_base , clasz):\n",
    "    import matplotlib.pyplot as plt\n",
    "    import numpy as np\n",
    "\n",
    "    plt.figure(figsize=(10, 7))\n",
    "\n",
    "    plt, p1, p2 = plotData(microchip_base[:,1:3], clasz)\n",
    "   \n",
    "    u = np.linspace(-1, 1.5, 50)\n",
    "    v = np.linspace(-1, 1.5, 50)\n",
    "\n",
    "    z = np.zeros(( len(u), len(v) ))\n",
    "    for i in range(len(u)):\n",
    "        for j in range(len(v)):\n",
    "            z[i,j] = np.dot(mapFeature(np.array([u[i]]), np.array([v[j]])),theta)\n",
    "    z = np.transpose(z) \n",
    "\n",
    "    p3 = plt.contour(u, v, z, levels=[0], linewidth=2).collections[0]\n",
    "    \n",
    "    plt.legend((p1,p2, p3),('y = 1', 'y = 0', 'Fronteira de Decisão'), numpoints=1, handlelength=0)"
   ]
  },
  {
   "cell_type": "code",
   "execution_count": null,
   "metadata": {},
   "outputs": [],
   "source": []
  },
  {
   "cell_type": "code",
   "execution_count": 37,
   "metadata": {},
   "outputs": [
    {
     "name": "stdout",
     "output_type": "stream",
     "text": [
      "Optimization terminated successfully.\n",
      "         Current function value: 0.529003\n",
      "         Iterations: 47\n",
      "         Function evaluations: 1440\n",
      "         Gradient evaluations: 48\n"
     ]
    }
   ],
   "source": [
    "from scipy.optimize import fmin_bfgs\n",
    "\n",
    "initial_theta = np.zeros((n, 1))\n",
    "myargs=(values, clasz, lambda_r)\n",
    "theta = fmin_bfgs(costFunctionReg, x0=initial_theta, args=myargs)"
   ]
  },
  {
   "cell_type": "code",
   "execution_count": null,
   "metadata": {},
   "outputs": [],
   "source": []
  },
  {
   "cell_type": "code",
   "execution_count": 38,
   "metadata": {},
   "outputs": [
    {
     "name": "stderr",
     "output_type": "stream",
     "text": [
      "/usr/local/anaconda3/lib/python3.7/site-packages/matplotlib/contour.py:1000: UserWarning: The following kwargs were not used by contour: 'linewidth'\n",
      "  s)\n"
     ]
    },
    {
     "data": {
      "image/png": "[encoded data removed]",
      "text/plain": [
       "<Figure size 720x504 with 1 Axes>"
      ]
     },
     "metadata": {
      "needs_background": "light"
     },
     "output_type": "display_data"
    }
   ],
   "source": [
    "plotDecisionBoundary(theta,values,clasz)"
   ]
  },
  {
   "cell_type": "code",
   "execution_count": null,
   "metadata": {},
   "outputs": [],
   "source": []
  }
 ],
 "metadata": {
  "kernelspec": {
   "display_name": "Python 3",
   "language": "python",
   "name": "python3"
  },
  "language_info": {
   "codemirror_mode": {
    "name": "ipython",
    "version": 3
   },
   "file_extension": ".py",
   "mimetype": "text/x-python",
   "name": "python",
   "nbconvert_exporter": "python",
   "pygments_lexer": "ipython3",
   "version": "3.7.1"
  }
 },
 "nbformat": 4,
 "nbformat_minor": 2
}
