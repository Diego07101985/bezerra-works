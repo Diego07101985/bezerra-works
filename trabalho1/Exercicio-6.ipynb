{
 "cells": [
  {
   "cell_type": "markdown",
   "metadata": {},
   "source": [
    "# 6 - Viés-Variância"
   ]
  },
  {
   "cell_type": "code",
   "execution_count": null,
   "metadata": {},
   "outputs": [],
   "source": []
  },
  {
   "cell_type": "code",
   "execution_count": 2,
   "metadata": {},
   "outputs": [],
   "source": [
    "import scipy.io\n",
    "\n",
    "mat = scipy.io.loadmat('am-T1-dados/ex5data1.mat')\n",
    "\n",
    "X = mat[\"X\"]\n",
    "y = mat[\"y\"]\n",
    "Xval = mat[\"Xval\"]\n",
    "yval = mat[\"yval\"]\n",
    "Xtest = mat[\"Xtest\"]\n",
    "ytest = mat[\"ytest\"]\n",
    "\n",
    "m = X.shape[0]\n"
   ]
  },
  {
   "cell_type": "code",
   "execution_count": 3,
   "metadata": {},
   "outputs": [],
   "source": [
    "import numpy as np\n",
    "\n",
    "def linearRegCostFunction(X, y, theta, lambda_val, return_grad=False):\n",
    "    # Initialize some useful values\n",
    "    m = len(y) # number of training examples\n",
    "\n",
    "    # force to be 2D vector\n",
    "    theta = np.reshape(theta, (-1,y.shape[1]))\n",
    "\n",
    "    # You need to return the following variables correctly \n",
    "    J = 0\n",
    "    grad = np.zeros(theta.shape)\n",
    "\n",
    "    # cost function\n",
    "    J = ( 1./(2*m)) * np.power( (np.dot(X, theta) - y) , 2).sum() + ( float(lambda_val) / (2*m)) * np.power(theta[1:theta.shape[0]],2).sum()\n",
    "\n",
    "    # regularized gradient\n",
    "    grad = (1./m) * np.dot( X.T, np.dot(X,theta) - y) + ( float(lambda_val) / m )*theta\n",
    "\n",
    "    # unregularize first gradient\n",
    "    grad_no_regularization = (1./m) * np.dot( X.T, np.dot(X,theta) - y)\n",
    "    grad[0] = grad_no_regularization[0]\n",
    "\n",
    "    if return_grad == True:\n",
    "        return J, grad.flatten()\n",
    "    elif return_grad == False:\n",
    "        return J "
   ]
  },
  {
   "cell_type": "code",
   "execution_count": 4,
   "metadata": {},
   "outputs": [],
   "source": [
    "import numpy as np\n",
    "from scipy.optimize import minimize\n",
    "\n",
    "\n",
    "def learningCurve(X, y, Xval, yval, lambda_val):\n",
    "    m = len(X)\n",
    "    error_train = np.zeros((m, 1))\n",
    "    error_val   = np.zeros((m, 1))\n",
    "\n",
    "    for i in range(1,m+1):\n",
    "        X_train = X[:i]\n",
    "        y_train = y[:i]\n",
    "        \n",
    "        initial_theta = np.zeros((X.shape[1], 1))\n",
    "\n",
    "        def costFunc(theta):\n",
    "            return linearRegCostFunction(X_train, y_train, theta, lambda_val, True)\n",
    "\n",
    "        maxiter = 200\n",
    "        results = minimize(costFunc, x0=initial_theta, options={'disp': True, 'maxiter':maxiter}, method=\"L-BFGS-B\", jac=True)\n",
    "\n",
    "        theta = results[\"x\"]\n",
    "\n",
    "        error_train[i-1] = linearRegCostFunction(X_train, y_train, theta, 0)\n",
    "        error_val[i-1]   = linearRegCostFunction(Xval   , yval   , theta, 0)\n",
    "                \n",
    "    return error_train, error_val"
   ]
  },
  {
   "cell_type": "code",
   "execution_count": 5,
   "metadata": {},
   "outputs": [],
   "source": [
    "lambda_val = 0\n",
    "error_train, error_val = learningCurve(np.column_stack((np.ones((m,1)), X)), y, np.column_stack((np.ones((Xval.shape[0], 1)), Xval)), yval, lambda_val)\n"
   ]
  },
  {
   "cell_type": "code",
   "execution_count": 7,
   "metadata": {},
   "outputs": [
    {
     "output_type": "execute_result",
     "data": {
      "text/plain": [
       "array([[205.12109575],\n",
       "       [110.30036611],\n",
       "       [ 45.01023138],\n",
       "       [ 48.36891145],\n",
       "       [ 35.86516475],\n",
       "       [ 33.8299616 ],\n",
       "       [ 31.9709858 ],\n",
       "       [ 30.86244632],\n",
       "       [ 31.13599796],\n",
       "       [ 28.93620747],\n",
       "       [ 29.55143162],\n",
       "       [ 29.43381813]])"
      ]
     },
     "metadata": {},
     "execution_count": 7
    }
   ],
   "source": [
    "error_val\n"
   ]
  },
  {
   "cell_type": "code",
   "execution_count": null,
   "metadata": {},
   "outputs": [],
   "source": []
  },
  {
   "cell_type": "code",
   "execution_count": 38,
   "metadata": {},
   "outputs": [
    {
     "data": {
      "text/plain": [
       "[0, 13, 0, 150]"
      ]
     },
     "execution_count": 38,
     "metadata": {},
     "output_type": "execute_result"
    },
    {
     "data": {
      "image/png": "[encoded data removed]",
      "text/plain": [
       "<Figure size 720x504 with 1 Axes>"
      ]
     },
     "metadata": {
      "needs_background": "light"
     },
     "output_type": "display_data"
    }
   ],
   "source": [
    "import matplotlib.pyplot as plt\n",
    "\n",
    "\n",
    "plt.figure(figsize=(10, 7))\n",
    "p1, p2 = plt.plot(range(m), error_train, range(m), error_val)\n",
    "plt.title('Learning curve for linear regression')\n",
    "plt.legend((p1, p2), ('Train', 'Cross Validation'), numpoints=1, handlelength=0.5)\n",
    "plt.xlabel('Number of training examples')\n",
    "plt.ylabel('Error')\n",
    "plt.axis([0, 13, 0, 150])"
   ]
  },
  {
   "cell_type": "code",
   "execution_count": null,
   "metadata": {},
   "outputs": [],
   "source": []
  },
  {
   "cell_type": "code",
   "execution_count": null,
   "metadata": {},
   "outputs": [],
   "source": []
  },
  {
   "cell_type": "code",
   "execution_count": null,
   "metadata": {},
   "outputs": [],
   "source": []
  }
 ],
 "metadata": {
  "kernelspec": {
   "display_name": "Python 3",
   "language": "python",
   "name": "python3"
  },
  "language_info": {
   "codemirror_mode": {
    "name": "ipython",
    "version": 3
   },
   "file_extension": ".py",
   "mimetype": "text/x-python",
   "name": "python",
   "nbconvert_exporter": "python",
   "pygments_lexer": "ipython3",
   "version": "3.8.3-final"
  }
 },
 "nbformat": 4,
 "nbformat_minor": 2
}