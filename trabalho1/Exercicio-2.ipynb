{
 "cells": [
  {
   "cell_type": "markdown",
   "metadata": {},
   "source": [
    "# 2 - Regressão Linear com Múltiplas Variáveis"
   ]
  },
  {
   "cell_type": "markdown",
   "metadata": {},
   "source": [
    "### Carrega a base ex1data2.txt"
   ]
  },
  {
   "cell_type": "code",
   "execution_count": 4,
   "metadata": {},
   "outputs": [],
   "source": [
    "import numpy as np\n",
    "import matplotlib.pyplot as plt\n",
    "import os\n",
    "import pandas as pd\n",
    "\n",
    "DATA_BASE = \"am-T1-dados\"\n",
    "\n",
    "def load_properties_sell(properties_sell=DATA_BASE):\n",
    "    os.makedirs(properties_sell, exist_ok=True)\n",
    "    txt_path = os.path.join(properties_sell, \"ex1data2.txt\")\n",
    "    return np.loadtxt(txt_path, delimiter=\",\")\n",
    "\n",
    "\n",
    "\n",
    "\n"
   ]
  },
  {
   "cell_type": "markdown",
   "metadata": {},
   "source": [
    "## 2.1 -  Normalização das características"
   ]
  },
  {
   "cell_type": "code",
   "execution_count": 6,
   "metadata": {},
   "outputs": [],
   "source": [
    "import numpy as np \n",
    "\n",
    "def normalizar_caracteristica(pmtr):\n",
    "    c = len(pmtr[0])\n",
    "    l = len(pmtr)\n",
    "    mean = np.zeros(shape=(c), dtype=np.float64)\n",
    "    std = np.zeros(shape=(c), dtype=np.float64)\n",
    "    normalizar = np.copy(pmtr)\n",
    "\n",
    "    for j in range(c):\n",
    "        mean[j] = np.mean(pmtr[:,j])\n",
    "        std[j] = pmtr[:,j].std()\n",
    "\n",
    "    for i in range(l):\n",
    "        for j in range(c):\n",
    "            normalizar[i,j] = ((pmtr[i,j] - mean[j]) / std[j])\n",
    "\n",
    "    return normalizar, mean , std"
   ]
  },
  {
   "cell_type": "markdown",
   "metadata": {},
   "source": [
    "#### Essa função recebe a matriz de dados X de dados como parâmetro (na forma de um numpy array). Essa função realiza dois passos principais:\n",
    "#### 1 - subtrai o valor médio de todas as características do conjunto de dados pmtr.\n",
    "#### 2 - após subtrair a média, divide cada característica pelo seu respectivo desvio padrão.\n",
    "####  Normalizacao é uma pratica para evitar que o algoritmo fique enviesado para as variáveis com maior ordem de grandeza. Utiliza  na função normalizar_caracteristica z score normalization. O resultado dessa normalização vai fazer com quas as variáveis tenham uma média proxima a 0 e um desvio padrão proximo a 1."
   ]
  },
  {
   "cell_type": "markdown",
   "metadata": {},
   "source": [
    "# 2.2 - Gradiente descendente"
   ]
  },
  {
   "cell_type": "markdown",
   "metadata": {},
   "source": [
    "#### No gradiente descendente de multiplas variavéis é preciso lidar com os multiplos valores de theta. Antes era apenas dois e agora se tem 3  valores por padrão o theta 0 é uma constante , entretando ainda existe as outras váriaveis.Nessa caso primeiro precisa se ter a formula \n",
    "![text](img/grad_multi.png)\n",
    "\n",
    "#### Sendo a hipothesi o theta transposta x\n",
    "![text](img/hipothesi_m.png)\n",
    "### ->  x.dot(theta)\n",
    "\n"
   ]
  },
  {
   "cell_type": "code",
   "execution_count": 31,
   "metadata": {},
   "outputs": [],
   "source": [
    "\n",
    "import numpy as np\n",
    "\n",
    "\n",
    "def gd_reglin_multi(x, y, learning_rate, iterations):\n",
    "    theta = np.zeros((3, 1)) \n",
    "    m = len(y)\n",
    "    count = 0\n",
    "    new_custo = 0\n",
    "    historico_custo = np.zeros((iterations, 1))\n",
    "\n",
    "    while True:\n",
    "        theta = theta - learning_rate * (1./m) * np.transpose(x).dot(x.dot(theta) - np.transpose([y]))\n",
    "        new_custo = custo_regrlin_multi(theta, x[0], y)\n",
    "        historico_custo[count] = new_custo\n",
    "        count += 1\n",
    "        if(count > (iterations-1)):\n",
    "            break\n",
    "    return theta,historico_custo\n"
   ]
  },
  {
   "cell_type": "code",
   "execution_count": null,
   "metadata": {},
   "outputs": [],
   "source": []
  },
  {
   "cell_type": "markdown",
   "metadata": {},
   "source": [
    "### A função de custo é semelhante, mas agora o theta representa um np.array com multiplos thetas "
   ]
  },
  {
   "cell_type": "code",
   "execution_count": 27,
   "metadata": {},
   "outputs": [],
   "source": [
    "import numpy as np\n",
    "import plot_ex1data1 as pe\n",
    "import utils_ml as um\n",
    "import math\n",
    "\n",
    "\n",
    "def custo_regrlin_multi(theta, x, y):\n",
    "    m = len(x)\n",
    "    sm = np.power(x.dot(theta) - np.transpose([y]), 2)\n",
    "    J = (1.0/(2*m)) * sm.sum( axis = 0 )\n",
    "    return J"
   ]
  },
  {
   "cell_type": "code",
   "execution_count": null,
   "metadata": {},
   "outputs": [],
   "source": []
  },
  {
   "cell_type": "markdown",
   "metadata": {},
   "source": [
    "#### Algo que é importante observar que o xs corresponde a 2 colunas representando theta1 e theta2, entretanto ainda existe o theta 0 . Como o theta0  é uma constante precisa então iniciar esta coluna com uns : \n",
    "### X_norm = np.column_stack((np.ones((m,1)), X_norm))\n"
   ]
  },
  {
   "cell_type": "code",
   "execution_count": 37,
   "metadata": {},
   "outputs": [
    {
     "data": {
      "text/plain": [
       "Text(0, 0.5, 'Custo J')"
      ]
     },
     "execution_count": 37,
     "metadata": {},
     "output_type": "execute_result"
    },
    {
     "data": {
      "image/png": "[encoded data removed]",
      "text/plain": [
       "<Figure size 432x288 with 1 Axes>"
      ]
     },
     "metadata": {
      "needs_background": "light"
     },
     "output_type": "display_data"
    }
   ],
   "source": [
    "import numpy as np\n",
    "import matplotlib.pyplot as plt\n",
    "import plot_ex1data2 as pe\n",
    "import gd_reglin_multi as gm\n",
    "import normalizacao as na\n",
    "\n",
    "properties_sell = load_properties_sell()\n",
    "learning_rate = 0.001\n",
    "\n",
    "X_s = properties_sell[:,:2]\n",
    "y = properties_sell[:,2]\n",
    "m = len(y)\n",
    "\n",
    "X_norm, mean, standard_deviation = normalizar_caracteristica(X_s)\n",
    "X_norm = np.column_stack((np.ones((m,1)), X_norm))\n",
    "\n",
    "theta,historico_custo = gd_reglin_multi(X_norm, y, learning_rate, 3000)\n",
    "\n",
    "plt.plot(range(historico_custo.size), historico_custo, \"-b\", linewidth=2 )\n",
    "plt.xlabel('Numero de Iterações')\n",
    "plt.ylabel('Custo J')\n"
   ]
  },
  {
   "cell_type": "markdown",
   "metadata": {},
   "source": [
    "## Neste gráfico pode se verificar o valor de custo alcançando o ponto de mínimo ideal "
   ]
  },
  {
   "cell_type": "code",
   "execution_count": null,
   "metadata": {},
   "outputs": [],
   "source": []
  }
 ],
 "metadata": {
  "kernelspec": {
   "display_name": "Python 3",
   "language": "python",
   "name": "python3"
  },
  "language_info": {
   "codemirror_mode": {
    "name": "ipython",
    "version": 3
   },
   "file_extension": ".py",
   "mimetype": "text/x-python",
   "name": "python",
   "nbconvert_exporter": "python",
   "pygments_lexer": "ipython3",
   "version": "3.7.6"
  }
 },
 "nbformat": 4,
 "nbformat_minor": 4
}
