{
 "cells": [
  {
   "cell_type": "markdown",
   "metadata": {},
   "source": [
    "## Regularização"
   ]
  },
  {
   "cell_type": "markdown",
   "metadata": {},
   "source": [
    "### Aqui aumentamos a dimensionalida do nosso modelo para o grau 8"
   ]
  },
  {
   "cell_type": "code",
   "execution_count": 2,
   "metadata": {},
   "outputs": [],
   "source": [
    "import numpy as np\n",
    "\n",
    "def polyFeatures(X, p):\n",
    "    X_poly = X\n",
    "    if p >= 2:\n",
    "        for k in range(1,p):\n",
    "            X_poly = np.column_stack((X_poly, np.power(X,k+1)))   \n",
    "    return X_poly\n"
   ]
  },
  {
   "cell_type": "code",
   "execution_count": 3,
   "metadata": {},
   "outputs": [],
   "source": [
    "import numpy as np\n",
    "import matplotlib.pyplot as plt\n",
    "\n",
    "def plotFit(min_x, max_x, mu, sigma, theta, p):\n",
    "\n",
    "    x = np.array(np.arange(min_x - 15, max_x + 25, 0.05))\n",
    "    X_poly = polyFeatures(x, p)\n",
    "    X_poly = X_poly - mu\n",
    "    X_poly = X_poly/sigma\n",
    "\n",
    "    X_poly = np.column_stack((np.ones((x.shape[0],1)), X_poly))\n",
    "\n",
    "    plt.plot(x, np.dot(X_poly, theta), '--', linewidth=2)\n"
   ]
  },
  {
   "cell_type": "code",
   "execution_count": 4,
   "metadata": {},
   "outputs": [],
   "source": [
    "import numpy as np\n",
    "\n",
    "def featureNormalize(X):\n",
    "    mu = np.mean(X, axis=0)\n",
    "    X_norm = X - mu\n",
    "\n",
    "    sigma = np.std(X_norm, axis=0)\n",
    "    X_norm = X_norm/sigma\n",
    "\n",
    "    return X_norm, mu, sigma"
   ]
  },
  {
   "cell_type": "code",
   "execution_count": 5,
   "metadata": {},
   "outputs": [],
   "source": [
    "import numpy as np\n",
    "\n",
    "def learningCurve(X, y, Xval, yval, lambda_val):\n",
    "    m = len(X)\n",
    "\n",
    "    error_train = np.zeros((m, 1))\n",
    "    error_val   = np.zeros((m, 1))\n",
    "\n",
    "    for i in range(1,m+1):\n",
    "\n",
    "        X_train = X[:i]\n",
    "        y_train = y[:i]\n",
    "\n",
    "        theta = trainLinearReg(X_train, y_train, lambda_val)\n",
    "\n",
    "        error_train[i-1] = linearRegCostFunction(X_train, y_train, theta, 0)\n",
    "        error_val[i-1]   = linearRegCostFunction(Xval   , yval   , theta, 0)\n",
    "                \n",
    "    return error_train, error_val"
   ]
  },
  {
   "cell_type": "code",
   "execution_count": 6,
   "metadata": {},
   "outputs": [],
   "source": [
    "import numpy as np\n",
    "\n",
    "def linearRegCostFunction(X, y, theta, lambda_val, return_grad=False):\n",
    "    m = len(y)\n",
    "\n",
    "    theta = np.reshape(theta, (-1,y.shape[1]))\n",
    "\n",
    "    J = 0\n",
    "    grad = np.zeros(theta.shape)\n",
    "\n",
    "    J = ( 1./(2*m)) * np.power( (np.dot(X, theta) - y) , 2).sum() + ( float(lambda_val) / (2*m)) * np.power(theta[1:theta.shape[0]],2).sum()\n",
    "\n",
    "    grad = (1./m) * np.dot( X.T, np.dot(X,theta) - y) + ( float(lambda_val) / m )*theta\n",
    "\n",
    "    grad_no_regularization = (1./m) * np.dot( X.T, np.dot(X,theta) - y)\n",
    "    grad[0] = grad_no_regularization[0]\n",
    "\n",
    "    if return_grad == True:\n",
    "        return J, grad.flatten()\n",
    "    elif return_grad == False:\n",
    "        return J "
   ]
  },
  {
   "cell_type": "code",
   "execution_count": 7,
   "metadata": {},
   "outputs": [],
   "source": [
    "import numpy as np\n",
    "from scipy.optimize import minimize\n",
    "\n",
    "\n",
    "def trainLinearReg(X, y, lambda_val):\n",
    "    initial_theta = np.zeros((X.shape[1], 1))\n",
    "    def costFunc(theta):\n",
    "        return linearRegCostFunction(X, y, theta, lambda_val, True)\n",
    "    maxiter = 200\n",
    "    results = minimize(costFunc, x0=initial_theta, options={'disp': True, 'maxiter':maxiter}, method=\"L-BFGS-B\", jac=True)\n",
    "\n",
    "    theta = results[\"x\"]\n",
    "    return theta"
   ]
  },
  {
   "cell_type": "code",
   "execution_count": 8,
   "metadata": {},
   "outputs": [],
   "source": [
    "import numpy as np\n",
    "\n",
    "def validationCurve(X, y, Xval, yval):\n",
    "    lambda_vec = np.array([0, 0.001, 0.003, 0.01, 0.03, 0.1, 0.3, 1, 3, 10])\n",
    "\n",
    "    error_train = np.zeros((len(lambda_vec), 1))\n",
    "    error_val = np.zeros((len(lambda_vec), 1))\n",
    "\n",
    "    for i in range(len(lambda_vec)):\n",
    "\n",
    "        lambda_val = lambda_vec[i]\n",
    "\n",
    "        theta = trainLinearReg(X, y, lambda_val)\n",
    "        error_train[i] = linearRegCostFunction(X,    y,    theta, 0)\n",
    "        error_val[i]   = linearRegCostFunction(Xval, yval, theta, 0)\n",
    "         \n",
    "    return lambda_vec, error_train, error_val\n"
   ]
  },
  {
   "cell_type": "markdown",
   "metadata": {},
   "source": [
    "### Todos estes métodos ja foram descritos em outros exercicios e reutilizados. Mas o importante é identificar na variavel p=8 o 8 grau do nosso polinomio"
   ]
  },
  {
   "cell_type": "code",
   "execution_count": 11,
   "metadata": {},
   "outputs": [],
   "source": [
    "import scipy.io\n",
    "import numpy as np\n",
    "import matplotlib.pyplot as plt\n",
    "\n",
    "mat = scipy.io.loadmat('am-T1-dados/ex5data1.mat')\n",
    "\n",
    "X = mat[\"X\"]\n",
    "y = mat[\"y\"]\n",
    "Xval = mat[\"Xval\"]\n",
    "yval = mat[\"yval\"]\n",
    "Xtest = mat[\"Xtest\"]\n",
    "ytest = mat[\"ytest\"]\n",
    "\n",
    "m = X.shape[0]\n",
    "\n",
    "theta = np.array([[1] , [1]])\n",
    "X_padded = np.column_stack((np.ones((m,1)), X))\n",
    "J = linearRegCostFunction(X_padded, y, theta, 1)\n",
    "\n",
    "theta = np.array([[1] , [1]])\n",
    "J, grad = linearRegCostFunction(X_padded, y, theta, 1, True)\n",
    "\n",
    "lambda_val = 0\n",
    "theta = trainLinearReg(X_padded, y, lambda_val)\n",
    "\n",
    "error_train, error_val = learningCurve(np.column_stack((np.ones((m,1)), X)), y, np.column_stack((np.ones((Xval.shape[0], 1)), Xval)), yval, lambda_val)\n",
    "\n",
    "p = 8;"
   ]
  },
  {
   "cell_type": "code",
   "execution_count": 10,
   "metadata": {},
   "outputs": [
    {
     "data": {
      "image/png": "[encoded data removed]",
      "text/plain": [
       "<Figure size 432x288 with 1 Axes>"
      ]
     },
     "metadata": {
      "needs_background": "light"
     },
     "output_type": "display_data"
    },
    {
     "data": {
      "image/png": "[encoded data removed]",
      "text/plain": [
       "<Figure size 432x288 with 1 Axes>"
      ]
     },
     "metadata": {
      "needs_background": "light"
     },
     "output_type": "display_data"
    }
   ],
   "source": [
    "\n",
    "X_poly = polyFeatures(X, p)\n",
    "X_poly, mu, sigma = featureNormalize(X_poly) \n",
    "X_poly = np.column_stack((np.ones((m,1)), X_poly)) \n",
    "\n",
    "X_poly_test = polyFeatures(Xtest, p)\n",
    "X_poly_test = X_poly_test - mu\n",
    "X_poly_test = X_poly_test / sigma\n",
    "X_poly_test = np.column_stack((np.ones((X_poly_test.shape[0],1)), X_poly_test)) \n",
    "\n",
    "X_poly_val = polyFeatures(Xval, p)\n",
    "X_poly_val = X_poly_val - mu\n",
    "X_poly_val = X_poly_val / sigma\n",
    "X_poly_val = np.column_stack((np.ones((X_poly_val.shape[0],1)), X_poly_val)) \n",
    "\n",
    "lambda_val = 0;\n",
    "theta = trainLinearReg(X_poly, y, lambda_val)\n",
    "\n",
    "plt.figure(1)\n",
    "plt.plot(X, y, 'rx', markersize=10, linewidth=1.5)\n",
    "plotFit(min(X), max(X), mu, sigma, theta, p)\n",
    "plt.xlabel('Change in water level (x)') \n",
    "plt.ylabel('Water flowing out of the dam (y)')\n",
    "plt.title ('Polynomial Regression Fit (lambda = {:f})'.format(lambda_val))\n",
    "plt.show(block=False)\n",
    "\n",
    "plt.figure(2)\n",
    "error_train, error_val = learningCurve(X_poly, y, X_poly_val, yval, lambda_val)\n",
    "p1, p2 = plt.plot(range(1,m+1), error_train, range(1,m+1), error_val)\n",
    "\n",
    "plt.title('Polynomial Regression Learning Curve (lambda = {:f})'.format(lambda_val))\n",
    "plt.xlabel('Number of training examples')\n",
    "plt.ylabel('Error')\n",
    "plt.axis([0, 13, 0, 50])\n",
    "plt.legend((p1, p2), ('Train', 'Cross Validation'))\n",
    "plt.show(block=False)\n"
   ]
  },
  {
   "cell_type": "markdown",
   "metadata": {},
   "source": [
    "### Aqui nesse exeplo observamos clara mente que estamos sofrendo de overfit nosso modelo de aprendizado detecta bem dados de treinameno mas não consegue generralizar para os dados de validação"
   ]
  },
  {
   "cell_type": "markdown",
   "metadata": {},
   "source": [
    "### O lambda é um hiperparametro utilizado para  regularização. Sendo que aumentar o valor lambda fortalece o efeito de regularização. Nesse caso o lambda é muito baixo, caracterizando  assim o overfit"
   ]
  }
 ],
 "metadata": {
  "kernelspec": {
   "display_name": "Python 3",
   "language": "python",
   "name": "python3"
  },
  "language_info": {
   "codemirror_mode": {
    "name": "ipython",
    "version": 3
   },
   "file_extension": ".py",
   "mimetype": "text/x-python",
   "name": "python",
   "nbconvert_exporter": "python",
   "pygments_lexer": "ipython3",
   "version": "3.8.3"
  },
  "toc": {
   "base_numbering": 1,
   "nav_menu": {},
   "number_sections": true,
   "sideBar": true,
   "skip_h1_title": false,
   "title_cell": "Table of Contents",
   "title_sidebar": "Contents",
   "toc_cell": false,
   "toc_position": {},
   "toc_section_display": true,
   "toc_window_display": false
  }
 },
 "nbformat": 4,
 "nbformat_minor": 2
}
