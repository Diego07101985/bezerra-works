{
 "cells": [
  {
   "cell_type": "markdown",
   "metadata": {},
   "source": [
    "\n",
    "# Aprendizado de regressores"
   ]
  },
  {
   "cell_type": "code",
   "execution_count": 1,
   "metadata": {},
   "outputs": [
    {
     "data": {
      "text/plain": [
       "<AxesSubplot:xlabel='Profit in $ 10,000s', ylabel='Population in City in 10,000s'>"
      ]
     },
     "execution_count": 1,
     "metadata": {},
     "output_type": "execute_result"
    },
    {
     "data": {
      "image/png": "[encoded data removed]",
      "text/plain": [
       "<Figure size 720x504 with 1 Axes>"
      ]
     },
     "metadata": {
      "needs_background": "light"
     },
     "output_type": "display_data"
    }
   ],
   "source": [
    "import numpy as np\n",
    "import matplotlib.pyplot as plt\n",
    "import os\n",
    "import pandas as pd\n",
    "\n",
    "FOOD_TRUCK = \"am-T1-dados\"\n",
    "\n",
    "\n",
    "def load_food_truck(food_truck=FOOD_TRUCK):\n",
    "    os.makedirs(food_truck, exist_ok=True)\n",
    "    txt_path = os.path.join(food_truck, \"ex1data1.txt\")\n",
    "    return pd.read_csv(txt_path, sep=\",\", header=None, names=[\"Profit in $ 10,000s\", \"Population in City in 10,000s\"])\n",
    "\n",
    "\n",
    "food_truck = load_food_truck()\n",
    "food_truck.plot(kind=\"scatter\", x=\"Profit in $ 10,000s\", s=52, ylim=(-5, 25), xlim=(4, 24),\n",
    "                xticks=np.arange(4, 25, 2), y=\"Population in City in 10,000s\", marker='x', c='red', figsize=(10, 7))\n"
   ]
  },
  {
   "cell_type": "code",
   "execution_count": 2,
   "metadata": {},
   "outputs": [],
   "source": [
    "from sklearn.neighbors import KNeighborsRegressor\n",
    "from sklearn.model_selection import train_test_split\n",
    "from sklearn.datasets import load_iris\n",
    "from sklearn.metrics import accuracy_score\n",
    "from sklearn.tree import DecisionTreeRegressor\n",
    "\n"
   ]
  },
  {
   "cell_type": "code",
   "execution_count": 3,
   "metadata": {},
   "outputs": [],
   "source": [
    "food_truck = load_food_truck()\n",
    "x = np.array(food_truck['Profit in $ 10,000s']).reshape(-1, 1)\n",
    "y = np.array(food_truck['Population in City in 10,000s'])\n",
    "\n",
    "trainDataX, testDataX, trainDataY, testDataY = train_test_split(x, y, random_state=42, train_size=0.8)\n",
    "\n",
    "def get_knn_regression(trainDataX, trainDataY, testDataX, testDataY):\n",
    "    errorDict = {}\n",
    "    for K in range(1, 48):\n",
    "        model = KNeighborsRegressor(n_neighbors = K)\n",
    "\n",
    "        model.fit(trainDataX, trainDataY)\n",
    "        \n",
    "        predictedY = model.predict(testDataX)\n",
    "        \n",
    "       \n",
    "        RMSE = np.sqrt(((predictedY - testDataY) ** 2).mean())\n",
    "        RMSE = round(RMSE, 3)\n",
    "        errorDict[1/K] = RMSE\n",
    "        \n",
    "    return model, errorDict\n",
    "\n",
    "\n",
    "# def get_decision_tree(trainDataX, trainDataY, testDataX, testDataY):\n",
    "    \n",
    "#     regressor = DecisionTreeRegressor(random_state=0)\n",
    "#     pred = model.predict(testDataX)\n",
    "#     model.fit(trainDataX, trainDataY)\n",
    "#     pred = model.predict(testDataX)\n",
    "        \n",
    "#     return errorDict\n",
    "\n",
    "\n"
   ]
  },
  {
   "cell_type": "code",
   "execution_count": 4,
   "metadata": {
    "scrolled": true
   },
   "outputs": [],
   "source": [
    "from sklearn.model_selection import cross_val_score\n",
    "from sklearn.metrics import mean_squared_error\n",
    "from sklearn.metrics import classification_report\n",
    "\n",
    "\n",
    "\n",
    "# model, error_dict = get_knn_regression(trainDataX,trainDataY,testDataX,testDataY)\n",
    "\n",
    "\n",
    "\n",
    "#(mse, friedman mse, ou\n",
    "#mae)\n",
    "\n",
    "tree = DecisionTreeRegressor()\n",
    "# trainDataX,trainDataY\n",
    "\n",
    "\n",
    "# tree.fit(trainDataX, trainDataY)\n",
    "# predictedY = tree.predict(testDataX)\n",
    "# pred_tree = tree.fit(trainDataX, trainDataY).predict(testDataX)\n",
    "\n",
    "# print('RMSE:', np.sqrt(((pred_tree - testDataY) ** 2).mean()))\n"
   ]
  },
  {
   "cell_type": "code",
   "execution_count": 5,
   "metadata": {
    "scrolled": true
   },
   "outputs": [
    {
     "name": "stdout",
     "output_type": "stream",
     "text": [
      "RandomizedSearchCV took 0.13 seconds for 15 candidates parameter settings.\n",
      "Model with rank: 1\n",
      "Mean validation score: 0.247 (std: 0.467)\n",
      "Parameters: {'max_depth': 3, 'criterion': 'mae'}\n",
      "\n",
      "Model with rank: 2\n",
      "Mean validation score: 0.210 (std: 0.438)\n",
      "Parameters: {'max_depth': 2, 'criterion': 'mae'}\n",
      "\n",
      "Model with rank: 3\n",
      "Mean validation score: 0.163 (std: 0.462)\n",
      "Parameters: {'max_depth': 4, 'criterion': 'mae'}\n",
      "\n"
     ]
    },
    {
     "data": {
      "text/plain": [
       "0.4974371979660195"
      ]
     },
     "execution_count": 5,
     "metadata": {},
     "output_type": "execute_result"
    }
   ],
   "source": [
    "import numpy as np\n",
    "\n",
    "from time import time\n",
    "from scipy.stats import randint as sp_randint\n",
    "from sklearn.model_selection import GridSearchCV\n",
    "from sklearn.model_selection import RandomizedSearchCV\n",
    "\n",
    "\n",
    "\n",
    "# Utility function to report best scores\n",
    "def report(results, n_top=3):\n",
    "    for i in range(1, n_top + 1):\n",
    "        candidates = np.flatnonzero(results['rank_test_score'] == i)\n",
    "        for candidate in candidates:\n",
    "            print(\"Model with rank: {0}\".format(i))\n",
    "            print(\"Mean validation score: {0:.3f} (std: {1:.3f})\".format(\n",
    "                  results['mean_test_score'][candidate],\n",
    "                  results['std_test_score'][candidate]))\n",
    "            print(\"Parameters: {0}\".format(results['params'][candidate]))\n",
    "            print(\"\")\n",
    "\n",
    "\n",
    "param_dist = {\"max_depth\": [2,3,4,5,6],\n",
    "              \"criterion\": [\"mae\", \"mse\",\"friedman_mse\"]}\n",
    "\n",
    "# run randomized search\n",
    "n_iter_search = 15\n",
    "random_search = RandomizedSearchCV(tree, param_distributions=param_dist,\n",
    "                                   n_iter=n_iter_search, cv=5)\n",
    "\n",
    "start = time()\n",
    "random_search.fit(x, y)\n",
    "print(\"RandomizedSearchCV took %.2f seconds for %d candidates\"\n",
    "      \" parameter settings.\" % ((time() - start), n_iter_search))\n",
    "report(random_search.cv_results_)\n",
    "random_search.best_params_ \n",
    "import numpy as np\n",
    "rmse = np.sqrt(random_search.best_score_)\n",
    "rmse\n"
   ]
  },
  {
   "cell_type": "code",
   "execution_count": 6,
   "metadata": {},
   "outputs": [
    {
     "name": "stdout",
     "output_type": "stream",
     "text": [
      "RandomizedSearchCV took 0.16 seconds for 20 candidates parameter settings.\n",
      "Model with rank: 1\n",
      "Mean validation score: 0.192 (std: 0.418)\n",
      "Parameters: {'n_neighbors': 10}\n",
      "\n",
      "Model with rank: 2\n",
      "Mean validation score: 0.189 (std: 0.357)\n",
      "Parameters: {'n_neighbors': 15}\n",
      "\n",
      "Model with rank: 3\n",
      "Mean validation score: 0.179 (std: 0.363)\n",
      "Parameters: {'n_neighbors': 14}\n",
      "\n"
     ]
    },
    {
     "data": {
      "text/plain": [
       "0.4384895528157874"
      ]
     },
     "execution_count": 6,
     "metadata": {},
     "output_type": "execute_result"
    }
   ],
   "source": [
    "\n",
    "knn = KNeighborsRegressor()\n",
    "param_dist = {\"n_neighbors\": np.arange(1,30)}\n",
    "\n",
    "\n",
    "# run randomized search\n",
    "n_iter_search = 20\n",
    "random_search_knn = RandomizedSearchCV(knn, param_distributions=param_dist,\n",
    "                                   n_iter=n_iter_search, cv=5)\n",
    "\n",
    "start = time()\n",
    "random_search_knn.fit(x, y)\n",
    "print(\"RandomizedSearchCV took %.2f seconds for %d candidates\"\n",
    "      \" parameter settings.\" % ((time() - start), n_iter_search))\n",
    "report(random_search_knn.cv_results_)\n",
    "random_search.best_params_\n",
    "\n",
    "rmse = np.sqrt(random_search_knn.best_score_)\n",
    "rmse\n"
   ]
  },
  {
   "cell_type": "markdown",
   "metadata": {},
   "source": [
    "## Regressao com Multiplas Variaveis"
   ]
  },
  {
   "cell_type": "code",
   "execution_count": 7,
   "metadata": {},
   "outputs": [],
   "source": [
    "import numpy as np\n",
    "import matplotlib.pyplot as plt\n",
    "import os\n",
    "import pandas as pd\n",
    "from sklearn.preprocessing import StandardScaler\n",
    "\n",
    "\n",
    "DATA_BASE = \"am-T1-dados\"\n",
    "\n",
    "def load_properties_sell(properties_sell=DATA_BASE):\n",
    "    os.makedirs(properties_sell, exist_ok=True)\n",
    "    txt_path = os.path.join(properties_sell, \"ex1data2.txt\")\n",
    "    return np.loadtxt(txt_path, delimiter=\",\")\n",
    "\n",
    "\n",
    "properties_sell = load_properties_sell()\n",
    "\n",
    "X_s = properties_sell[:,:2]\n",
    "y = properties_sell[:,2]\n",
    "scaler = StandardScaler()\n",
    "\n",
    "X_s_normalize = scaler.fit_transform(X_s)"
   ]
  },
  {
   "cell_type": "code",
   "execution_count": 8,
   "metadata": {},
   "outputs": [
    {
     "name": "stdout",
     "output_type": "stream",
     "text": [
      "Fitting 10 folds for each of 15 candidates, totalling 150 fits\n",
      "[CV] n_neighbors=5 ...................................................\n",
      "[CV] .................................... n_neighbors=5, total=   0.0s\n",
      "[CV] n_neighbors=5 ...................................................\n",
      "[CV] .................................... n_neighbors=5, total=   0.0s\n",
      "[CV] n_neighbors=5 ...................................................\n",
      "[CV] .................................... n_neighbors=5, total=   0.0s\n",
      "[CV] n_neighbors=5 ...................................................\n",
      "[CV] .................................... n_neighbors=5, total=   0.0s\n",
      "[CV] n_neighbors=5 ...................................................\n",
      "[CV] .................................... n_neighbors=5, total=   0.0s\n",
      "[CV] n_neighbors=5 ...................................................\n",
      "[CV] .................................... n_neighbors=5, total=   0.0s\n",
      "[CV] n_neighbors=5 ...................................................\n",
      "[CV] .................................... n_neighbors=5, total=   0.0s\n",
      "[CV] n_neighbors=5 ...................................................\n",
      "[CV] .................................... n_neighbors=5, total=   0.0s\n",
      "[CV] n_neighbors=5 ...................................................\n",
      "[CV] .................................... n_neighbors=5, total=   0.0s\n",
      "[CV] n_neighbors=5 ...................................................\n",
      "[CV] .................................... n_neighbors=5, total=   0.0s\n",
      "[CV] n_neighbors=3 ...................................................\n",
      "[CV] .................................... n_neighbors=3, total=   0.0s\n",
      "[CV] n_neighbors=3 ...................................................\n",
      "[CV] .................................... n_neighbors=3, total=   0.0s\n",
      "[CV] n_neighbors=3 ...................................................\n",
      "[CV] .................................... n_neighbors=3, total=   0.0s\n",
      "[CV] n_neighbors=3 ...................................................\n",
      "[CV] .................................... n_neighbors=3, total=   0.0s\n",
      "[CV] n_neighbors=3 ...................................................\n",
      "[CV] .................................... n_neighbors=3, total=   0.0s\n",
      "[CV] n_neighbors=3 ...................................................\n",
      "[CV] .................................... n_neighbors=3, total=   0.0s\n",
      "[CV] n_neighbors=3 ...................................................\n",
      "[CV] .................................... n_neighbors=3, total=   0.0s\n",
      "[CV] n_neighbors=3 ...................................................\n",
      "[CV] .................................... n_neighbors=3, total=   0.0s\n",
      "[CV] n_neighbors=3 ...................................................\n",
      "[CV] .................................... n_neighbors=3, total=   0.0s\n",
      "[CV] n_neighbors=3 ...................................................\n",
      "[CV] .................................... n_neighbors=3, total=   0.0s\n",
      "[CV] n_neighbors=15 ..................................................\n",
      "[CV] ................................... n_neighbors=15, total=   0.0s\n",
      "[CV] n_neighbors=15 ..................................................\n",
      "[CV] ................................... n_neighbors=15, total=   0.0s\n",
      "[CV] n_neighbors=15 ..................................................\n",
      "[CV] ................................... n_neighbors=15, total=   0.0s\n",
      "[CV] n_neighbors=15 ..................................................\n",
      "[CV] ................................... n_neighbors=15, total=   0.0s\n",
      "[CV] n_neighbors=15 ..................................................\n",
      "[CV] ................................... n_neighbors=15, total=   0.0s\n",
      "[CV] n_neighbors=15 ..................................................\n",
      "[CV] ................................... n_neighbors=15, total=   0.0s\n",
      "[CV] n_neighbors=15 ..................................................\n",
      "[CV] ................................... n_neighbors=15, total=   0.0s\n",
      "[CV] n_neighbors=15 ..................................................\n",
      "[CV] ................................... n_neighbors=15, total=   0.0s\n",
      "[CV] n_neighbors=15 ..................................................\n",
      "[CV] ................................... n_neighbors=15, total=   0.0s\n",
      "[CV] n_neighbors=15 ..................................................\n",
      "[CV] ................................... n_neighbors=15, total=   0.0s\n",
      "[CV] n_neighbors=26 ..................................................\n",
      "[CV] ................................... n_neighbors=26, total=   0.0s\n",
      "[CV] n_neighbors=26 ..................................................\n",
      "[CV] ................................... n_neighbors=26, total=   0.0s\n",
      "[CV] n_neighbors=26 ..................................................\n",
      "[CV] ................................... n_neighbors=26, total=   0.0s\n",
      "[CV] n_neighbors=26 ..................................................\n",
      "[CV] ................................... n_neighbors=26, total=   0.0s\n",
      "[CV] n_neighbors=26 ..................................................\n",
      "[CV] ................................... n_neighbors=26, total=   0.0s\n",
      "[CV] n_neighbors=26 ..................................................\n",
      "[CV] ................................... n_neighbors=26, total=   0.0s\n",
      "[CV] n_neighbors=26 ..................................................\n",
      "[CV] ................................... n_neighbors=26, total=   0.0s\n",
      "[CV] n_neighbors=26 ..................................................\n",
      "[CV] ................................... n_neighbors=26, total=   0.0s\n",
      "[CV] n_neighbors=26 ..................................................\n",
      "[CV] ................................... n_neighbors=26, total=   0.0s\n",
      "[CV] n_neighbors=26 ..................................................\n",
      "[CV] ................................... n_neighbors=26, total=   0.0s\n",
      "[CV] n_neighbors=17 ..................................................\n",
      "[CV] ................................... n_neighbors=17, total=   0.0s\n",
      "[CV] n_neighbors=17 ..................................................\n",
      "[CV] ................................... n_neighbors=17, total=   0.0s\n",
      "[CV] n_neighbors=17 ..................................................\n",
      "[CV] ................................... n_neighbors=17, total=   0.0s\n",
      "[CV] n_neighbors=17 ..................................................\n",
      "[CV] ................................... n_neighbors=17, total=   0.0s\n",
      "[CV] n_neighbors=17 ..................................................\n",
      "[CV] ................................... n_neighbors=17, total=   0.0s\n",
      "[CV] n_neighbors=17 ..................................................\n",
      "[CV] ................................... n_neighbors=17, total=   0.0s\n",
      "[CV] n_neighbors=17 ..................................................\n",
      "[CV] ................................... n_neighbors=17, total=   0.0s\n",
      "[CV] n_neighbors=17 ..................................................\n",
      "[CV] ................................... n_neighbors=17, total=   0.0s\n",
      "[CV] n_neighbors=17 ..................................................\n",
      "[CV] ................................... n_neighbors=17, total=   0.0s\n",
      "[CV] n_neighbors=17 ..................................................\n",
      "[CV] ................................... n_neighbors=17, total=   0.0s\n",
      "[CV] n_neighbors=25 ..................................................\n",
      "[CV] ................................... n_neighbors=25, total=   0.0s\n",
      "[CV] n_neighbors=25 ..................................................\n",
      "[CV] ................................... n_neighbors=25, total=   0.0s\n",
      "[CV] n_neighbors=25 ..................................................\n",
      "[CV] ................................... n_neighbors=25, total=   0.0s\n",
      "[CV] n_neighbors=25 ..................................................\n",
      "[CV] ................................... n_neighbors=25, total=   0.0s\n",
      "[CV] n_neighbors=25 ..................................................\n",
      "[CV] ................................... n_neighbors=25, total=   0.0s\n",
      "[CV] n_neighbors=25 ..................................................\n",
      "[CV] ................................... n_neighbors=25, total=   0.0s\n",
      "[CV] n_neighbors=25 ..................................................\n",
      "[CV] ................................... n_neighbors=25, total=   0.0s\n",
      "[CV] n_neighbors=25 ..................................................\n",
      "[CV] ................................... n_neighbors=25, total=   0.0s\n",
      "[CV] n_neighbors=25 ..................................................\n",
      "[CV] ................................... n_neighbors=25, total=   0.0s\n",
      "[CV] n_neighbors=25 ..................................................\n",
      "[CV] ................................... n_neighbors=25, total=   0.0s\n",
      "[CV] n_neighbors=8 ...................................................\n",
      "[CV] .................................... n_neighbors=8, total=   0.0s\n",
      "[CV] n_neighbors=8 ...................................................\n",
      "[CV] .................................... n_neighbors=8, total=   0.0s\n",
      "[CV] n_neighbors=8 ...................................................\n",
      "[CV] .................................... n_neighbors=8, total=   0.0s\n",
      "[CV] n_neighbors=8 ...................................................\n",
      "[CV] .................................... n_neighbors=8, total=   0.0s\n",
      "[CV] n_neighbors=8 ...................................................\n",
      "[CV] .................................... n_neighbors=8, total=   0.0s\n",
      "[CV] n_neighbors=8 ...................................................\n",
      "[CV] .................................... n_neighbors=8, total=   0.0s\n",
      "[CV] n_neighbors=8 ...................................................\n",
      "[CV] .................................... n_neighbors=8, total=   0.0s\n",
      "[CV] n_neighbors=8 ...................................................\n",
      "[CV] .................................... n_neighbors=8, total=   0.0s\n",
      "[CV] n_neighbors=8 ...................................................\n",
      "[CV] .................................... n_neighbors=8, total=   0.0s\n",
      "[CV] n_neighbors=8 ...................................................\n",
      "[CV] .................................... n_neighbors=8, total=   0.0s\n",
      "[CV] n_neighbors=20 ..................................................\n",
      "[CV] ................................... n_neighbors=20, total=   0.0s\n",
      "[CV] n_neighbors=20 ..................................................\n",
      "[CV] ................................... n_neighbors=20, total=   0.0s\n",
      "[CV] n_neighbors=20 ..................................................\n",
      "[CV] ................................... n_neighbors=20, total=   0.0s\n",
      "[CV] n_neighbors=20 ..................................................\n",
      "[CV] ................................... n_neighbors=20, total=   0.0s\n",
      "[CV] n_neighbors=20 ..................................................\n",
      "[CV] ................................... n_neighbors=20, total=   0.0s\n",
      "[CV] n_neighbors=20 ..................................................\n",
      "[CV] ................................... n_neighbors=20, total=   0.0s\n",
      "[CV] n_neighbors=20 ..................................................\n",
      "[CV] ................................... n_neighbors=20, total=   0.0s\n",
      "[CV] n_neighbors=20 ..................................................\n",
      "[CV] ................................... n_neighbors=20, total=   0.0s\n",
      "[CV] n_neighbors=20 ..................................................\n",
      "[CV] ................................... n_neighbors=20, total=   0.0s\n",
      "[CV] n_neighbors=20 ..................................................\n",
      "[CV] ................................... n_neighbors=20, total=   0.0s\n",
      "[CV] n_neighbors=16 ..................................................\n",
      "[CV] ................................... n_neighbors=16, total=   0.0s\n",
      "[CV] n_neighbors=16 ..................................................\n",
      "[CV] ................................... n_neighbors=16, total=   0.0s\n",
      "[CV] n_neighbors=16 ..................................................\n",
      "[CV] ................................... n_neighbors=16, total=   0.0s\n",
      "[CV] n_neighbors=16 ..................................................\n",
      "[CV] ................................... n_neighbors=16, total=   0.0s\n",
      "[CV] n_neighbors=16 ..................................................\n",
      "[CV] ................................... n_neighbors=16, total=   0.0s\n",
      "[CV] n_neighbors=16 ..................................................\n",
      "[CV] ................................... n_neighbors=16, total=   0.0s\n",
      "[CV] n_neighbors=16 ..................................................\n",
      "[CV] ................................... n_neighbors=16, total=   0.0s\n",
      "[CV] n_neighbors=16 ..................................................\n",
      "[CV] ................................... n_neighbors=16, total=   0.0s\n",
      "[CV] n_neighbors=16 ..................................................\n",
      "[CV] ................................... n_neighbors=16, total=   0.0s\n",
      "[CV] n_neighbors=16 ..................................................\n",
      "[CV] ................................... n_neighbors=16, total=   0.0s\n",
      "[CV] n_neighbors=1 ...................................................\n",
      "[CV] .................................... n_neighbors=1, total=   0.0s\n",
      "[CV] n_neighbors=1 ...................................................\n",
      "[CV] .................................... n_neighbors=1, total=   0.0s\n",
      "[CV] n_neighbors=1 ...................................................\n",
      "[CV] .................................... n_neighbors=1, total=   0.0s\n",
      "[CV] n_neighbors=1 ...................................................\n",
      "[CV] .................................... n_neighbors=1, total=   0.0s\n",
      "[CV] n_neighbors=1 ...................................................\n",
      "[CV] .................................... n_neighbors=1, total=   0.0s\n",
      "[CV] n_neighbors=1 ...................................................\n",
      "[CV] .................................... n_neighbors=1, total=   0.0s\n",
      "[CV] n_neighbors=1 ...................................................\n",
      "[CV] .................................... n_neighbors=1, total=   0.0s\n",
      "[CV] n_neighbors=1 ...................................................\n",
      "[CV] .................................... n_neighbors=1, total=   0.0s\n",
      "[CV] n_neighbors=1 ...................................................\n",
      "[CV] .................................... n_neighbors=1, total=   0.0s\n",
      "[CV] n_neighbors=1 ...................................................\n",
      "[CV] .................................... n_neighbors=1, total=   0.0s\n",
      "[CV] n_neighbors=23 ..................................................\n",
      "[CV] ................................... n_neighbors=23, total=   0.0s\n",
      "[CV] n_neighbors=23 ..................................................\n",
      "[CV] ................................... n_neighbors=23, total=   0.0s\n",
      "[CV] n_neighbors=23 ..................................................\n"
     ]
    },
    {
     "name": "stderr",
     "output_type": "stream",
     "text": [
      "[Parallel(n_jobs=1)]: Using backend SequentialBackend with 1 concurrent workers.\n",
      "[Parallel(n_jobs=1)]: Done   1 out of   1 | elapsed:    0.0s remaining:    0.0s\n"
     ]
    },
    {
     "name": "stdout",
     "output_type": "stream",
     "text": [
      "[CV] ................................... n_neighbors=23, total=   0.0s\n",
      "[CV] n_neighbors=23 ..................................................\n",
      "[CV] ................................... n_neighbors=23, total=   0.0s\n",
      "[CV] n_neighbors=23 ..................................................\n",
      "[CV] ................................... n_neighbors=23, total=   0.0s\n",
      "[CV] n_neighbors=23 ..................................................\n",
      "[CV] ................................... n_neighbors=23, total=   0.0s\n",
      "[CV] n_neighbors=23 ..................................................\n",
      "[CV] ................................... n_neighbors=23, total=   0.0s\n",
      "[CV] n_neighbors=23 ..................................................\n",
      "[CV] ................................... n_neighbors=23, total=   0.0s\n",
      "[CV] n_neighbors=23 ..................................................\n",
      "[CV] ................................... n_neighbors=23, total=   0.0s\n",
      "[CV] n_neighbors=23 ..................................................\n",
      "[CV] ................................... n_neighbors=23, total=   0.0s\n",
      "[CV] n_neighbors=19 ..................................................\n",
      "[CV] ................................... n_neighbors=19, total=   0.0s\n",
      "[CV] n_neighbors=19 ..................................................\n",
      "[CV] ................................... n_neighbors=19, total=   0.0s\n",
      "[CV] n_neighbors=19 ..................................................\n",
      "[CV] ................................... n_neighbors=19, total=   0.0s\n",
      "[CV] n_neighbors=19 ..................................................\n",
      "[CV] ................................... n_neighbors=19, total=   0.0s\n",
      "[CV] n_neighbors=19 ..................................................\n",
      "[CV] ................................... n_neighbors=19, total=   0.0s\n",
      "[CV] n_neighbors=19 ..................................................\n",
      "[CV] ................................... n_neighbors=19, total=   0.0s\n",
      "[CV] n_neighbors=19 ..................................................\n",
      "[CV] ................................... n_neighbors=19, total=   0.0s\n",
      "[CV] n_neighbors=19 ..................................................\n",
      "[CV] ................................... n_neighbors=19, total=   0.0s\n",
      "[CV] n_neighbors=19 ..................................................\n",
      "[CV] ................................... n_neighbors=19, total=   0.0s\n",
      "[CV] n_neighbors=19 ..................................................\n",
      "[CV] ................................... n_neighbors=19, total=   0.0s\n",
      "[CV] n_neighbors=2 ...................................................\n",
      "[CV] .................................... n_neighbors=2, total=   0.0s\n",
      "[CV] n_neighbors=2 ...................................................\n",
      "[CV] .................................... n_neighbors=2, total=   0.0s\n",
      "[CV] n_neighbors=2 ...................................................\n",
      "[CV] .................................... n_neighbors=2, total=   0.0s\n",
      "[CV] n_neighbors=2 ...................................................\n",
      "[CV] .................................... n_neighbors=2, total=   0.0s\n",
      "[CV] n_neighbors=2 ...................................................\n",
      "[CV] .................................... n_neighbors=2, total=   0.0s\n",
      "[CV] n_neighbors=2 ...................................................\n",
      "[CV] .................................... n_neighbors=2, total=   0.0s\n",
      "[CV] n_neighbors=2 ...................................................\n",
      "[CV] .................................... n_neighbors=2, total=   0.0s\n",
      "[CV] n_neighbors=2 ...................................................\n",
      "[CV] .................................... n_neighbors=2, total=   0.0s\n",
      "[CV] n_neighbors=2 ...................................................\n",
      "[CV] .................................... n_neighbors=2, total=   0.0s\n",
      "[CV] n_neighbors=2 ...................................................\n",
      "[CV] .................................... n_neighbors=2, total=   0.0s\n",
      "[CV] n_neighbors=13 ..................................................\n",
      "[CV] ................................... n_neighbors=13, total=   0.0s\n",
      "[CV] n_neighbors=13 ..................................................\n",
      "[CV] ................................... n_neighbors=13, total=   0.0s\n",
      "[CV] n_neighbors=13 ..................................................\n",
      "[CV] ................................... n_neighbors=13, total=   0.0s\n",
      "[CV] n_neighbors=13 ..................................................\n",
      "[CV] ................................... n_neighbors=13, total=   0.0s\n",
      "[CV] n_neighbors=13 ..................................................\n",
      "[CV] ................................... n_neighbors=13, total=   0.0s\n",
      "[CV] n_neighbors=13 ..................................................\n",
      "[CV] ................................... n_neighbors=13, total=   0.0s\n",
      "[CV] n_neighbors=13 ..................................................\n",
      "[CV] ................................... n_neighbors=13, total=   0.0s\n",
      "[CV] n_neighbors=13 ..................................................\n",
      "[CV] ................................... n_neighbors=13, total=   0.0s\n",
      "[CV] n_neighbors=13 ..................................................\n",
      "[CV] ................................... n_neighbors=13, total=   0.0s\n",
      "[CV] n_neighbors=13 ..................................................\n",
      "[CV] ................................... n_neighbors=13, total=   0.0s\n",
      "[CV] n_neighbors=10 ..................................................\n",
      "[CV] ................................... n_neighbors=10, total=   0.0s\n",
      "[CV] n_neighbors=10 ..................................................\n",
      "[CV] ................................... n_neighbors=10, total=   0.0s\n",
      "[CV] n_neighbors=10 ..................................................\n",
      "[CV] ................................... n_neighbors=10, total=   0.0s\n",
      "[CV] n_neighbors=10 ..................................................\n",
      "[CV] ................................... n_neighbors=10, total=   0.0s\n",
      "[CV] n_neighbors=10 ..................................................\n",
      "[CV] ................................... n_neighbors=10, total=   0.0s\n",
      "[CV] n_neighbors=10 ..................................................\n",
      "[CV] ................................... n_neighbors=10, total=   0.0s\n",
      "[CV] n_neighbors=10 ..................................................\n",
      "[CV] ................................... n_neighbors=10, total=   0.0s\n",
      "[CV] n_neighbors=10 ..................................................\n",
      "[CV] ................................... n_neighbors=10, total=   0.0s\n",
      "[CV] n_neighbors=10 ..................................................\n",
      "[CV] ................................... n_neighbors=10, total=   0.0s\n",
      "[CV] n_neighbors=10 ..................................................\n",
      "[CV] ................................... n_neighbors=10, total=   0.0s\n",
      "{'max_depth': 3, 'criterion': 'mae'}\n"
     ]
    },
    {
     "name": "stderr",
     "output_type": "stream",
     "text": [
      "[Parallel(n_jobs=1)]: Done 150 out of 150 | elapsed:    0.3s finished\n"
     ]
    },
    {
     "data": {
      "text/plain": [
       "87956.09457407925"
      ]
     },
     "execution_count": 8,
     "metadata": {},
     "output_type": "execute_result"
    }
   ],
   "source": [
    "\n",
    "knn = KNeighborsRegressor()\n",
    "param_knn = {\"n_neighbors\": np.arange(1,30)}\n",
    "\n",
    "# run randomized search\n",
    "n_iter_search = 15\n",
    "random_search_knn = RandomizedSearchCV(knn, param_distributions=param_knn,\n",
    "                                   n_iter=n_iter_search, cv=10,scoring='neg_mean_squared_error',verbose = 2)\n",
    "\n",
    "start = time()\n",
    "random_search_knn.fit(X_s_normalize, y)\n",
    "print(random_search.best_params_)\n",
    "\n",
    "rmse = np.sqrt(-random_search_knn.best_score_)\n",
    "rmse"
   ]
  },
  {
   "cell_type": "code",
   "execution_count": null,
   "metadata": {},
   "outputs": [],
   "source": [
    "\n"
   ]
  },
  {
   "cell_type": "code",
   "execution_count": 9,
   "metadata": {},
   "outputs": [
    {
     "name": "stdout",
     "output_type": "stream",
     "text": [
      "Fitting 10 folds for each of 15 candidates, totalling 150 fits\n",
      "[CV] max_depth=2, criterion=mae ......................................\n",
      "[CV] ....................... max_depth=2, criterion=mae, total=   0.0s\n",
      "[CV] max_depth=2, criterion=mae ......................................\n",
      "[CV] ....................... max_depth=2, criterion=mae, total=   0.0s\n",
      "[CV] max_depth=2, criterion=mae ......................................\n",
      "[CV] ....................... max_depth=2, criterion=mae, total=   0.0s\n",
      "[CV] max_depth=2, criterion=mae ......................................\n",
      "[CV] ....................... max_depth=2, criterion=mae, total=   0.0s\n",
      "[CV] max_depth=2, criterion=mae ......................................\n",
      "[CV] ....................... max_depth=2, criterion=mae, total=   0.0s\n",
      "[CV] max_depth=2, criterion=mae ......................................\n",
      "[CV] ....................... max_depth=2, criterion=mae, total=   0.0s\n",
      "[CV] max_depth=2, criterion=mae ......................................\n",
      "[CV] ....................... max_depth=2, criterion=mae, total=   0.0s\n",
      "[CV] max_depth=2, criterion=mae ......................................\n",
      "[CV] ....................... max_depth=2, criterion=mae, total=   0.0s\n",
      "[CV] max_depth=2, criterion=mae ......................................\n",
      "[CV] ....................... max_depth=2, criterion=mae, total=   0.0s\n",
      "[CV] max_depth=2, criterion=mae ......................................\n",
      "[CV] ....................... max_depth=2, criterion=mae, total=   0.0s\n",
      "[CV] max_depth=3, criterion=mae ......................................\n",
      "[CV] ....................... max_depth=3, criterion=mae, total=   0.0s\n",
      "[CV] max_depth=3, criterion=mae ......................................\n",
      "[CV] ....................... max_depth=3, criterion=mae, total=   0.0s\n",
      "[CV] max_depth=3, criterion=mae ......................................\n",
      "[CV] ....................... max_depth=3, criterion=mae, total=   0.0s\n",
      "[CV] max_depth=3, criterion=mae ......................................\n",
      "[CV] ....................... max_depth=3, criterion=mae, total=   0.0s\n",
      "[CV] max_depth=3, criterion=mae ......................................\n",
      "[CV] ....................... max_depth=3, criterion=mae, total=   0.0s\n",
      "[CV] max_depth=3, criterion=mae ......................................\n",
      "[CV] ....................... max_depth=3, criterion=mae, total=   0.0s\n",
      "[CV] max_depth=3, criterion=mae ......................................\n",
      "[CV] ....................... max_depth=3, criterion=mae, total=   0.0s\n",
      "[CV] max_depth=3, criterion=mae ......................................\n",
      "[CV] ....................... max_depth=3, criterion=mae, total=   0.0s\n",
      "[CV] max_depth=3, criterion=mae ......................................\n",
      "[CV] ....................... max_depth=3, criterion=mae, total=   0.0s\n",
      "[CV] max_depth=3, criterion=mae ......................................\n",
      "[CV] ....................... max_depth=3, criterion=mae, total=   0.0s\n",
      "[CV] max_depth=4, criterion=mae ......................................\n",
      "[CV] ....................... max_depth=4, criterion=mae, total=   0.0s\n",
      "[CV] max_depth=4, criterion=mae ......................................\n",
      "[CV] ....................... max_depth=4, criterion=mae, total=   0.0s\n",
      "[CV] max_depth=4, criterion=mae ......................................\n",
      "[CV] ....................... max_depth=4, criterion=mae, total=   0.0s\n",
      "[CV] max_depth=4, criterion=mae ......................................\n",
      "[CV] ....................... max_depth=4, criterion=mae, total=   0.0s\n",
      "[CV] max_depth=4, criterion=mae ......................................\n",
      "[CV] ....................... max_depth=4, criterion=mae, total=   0.0s\n",
      "[CV] max_depth=4, criterion=mae ......................................\n",
      "[CV] ....................... max_depth=4, criterion=mae, total=   0.0s\n",
      "[CV] max_depth=4, criterion=mae ......................................\n",
      "[CV] ....................... max_depth=4, criterion=mae, total=   0.0s\n",
      "[CV] max_depth=4, criterion=mae ......................................\n",
      "[CV] ....................... max_depth=4, criterion=mae, total=   0.0s\n",
      "[CV] max_depth=4, criterion=mae ......................................\n",
      "[CV] ....................... max_depth=4, criterion=mae, total=   0.0s\n",
      "[CV] max_depth=4, criterion=mae ......................................\n",
      "[CV] ....................... max_depth=4, criterion=mae, total=   0.0s\n",
      "[CV] max_depth=5, criterion=mae ......................................\n",
      "[CV] ....................... max_depth=5, criterion=mae, total=   0.0s\n",
      "[CV] max_depth=5, criterion=mae ......................................\n",
      "[CV] ....................... max_depth=5, criterion=mae, total=   0.0s\n",
      "[CV] max_depth=5, criterion=mae ......................................\n",
      "[CV] ....................... max_depth=5, criterion=mae, total=   0.0s\n",
      "[CV] max_depth=5, criterion=mae ......................................\n",
      "[CV] ....................... max_depth=5, criterion=mae, total=   0.0s\n",
      "[CV] max_depth=5, criterion=mae ......................................\n",
      "[CV] ....................... max_depth=5, criterion=mae, total=   0.0s\n",
      "[CV] max_depth=5, criterion=mae ......................................\n",
      "[CV] ....................... max_depth=5, criterion=mae, total=   0.0s\n",
      "[CV] max_depth=5, criterion=mae ......................................\n",
      "[CV] ....................... max_depth=5, criterion=mae, total=   0.0s\n",
      "[CV] max_depth=5, criterion=mae ......................................\n",
      "[CV] ....................... max_depth=5, criterion=mae, total=   0.0s\n",
      "[CV] max_depth=5, criterion=mae ......................................\n",
      "[CV] ....................... max_depth=5, criterion=mae, total=   0.0s\n",
      "[CV] max_depth=5, criterion=mae ......................................\n",
      "[CV] ....................... max_depth=5, criterion=mae, total=   0.0s\n",
      "[CV] max_depth=6, criterion=mae ......................................\n",
      "[CV] ....................... max_depth=6, criterion=mae, total=   0.0s\n",
      "[CV] max_depth=6, criterion=mae ......................................\n",
      "[CV] ....................... max_depth=6, criterion=mae, total=   0.0s\n",
      "[CV] max_depth=6, criterion=mae ......................................\n",
      "[CV] ....................... max_depth=6, criterion=mae, total=   0.0s\n",
      "[CV] max_depth=6, criterion=mae ......................................\n",
      "[CV] ....................... max_depth=6, criterion=mae, total=   0.0s\n",
      "[CV] max_depth=6, criterion=mae ......................................\n",
      "[CV] ....................... max_depth=6, criterion=mae, total=   0.0s\n",
      "[CV] max_depth=6, criterion=mae ......................................\n",
      "[CV] ....................... max_depth=6, criterion=mae, total=   0.0s\n",
      "[CV] max_depth=6, criterion=mae ......................................\n",
      "[CV] ....................... max_depth=6, criterion=mae, total=   0.0s\n",
      "[CV] max_depth=6, criterion=mae ......................................\n",
      "[CV] ....................... max_depth=6, criterion=mae, total=   0.0s\n",
      "[CV] max_depth=6, criterion=mae ......................................\n",
      "[CV] ....................... max_depth=6, criterion=mae, total=   0.0s\n",
      "[CV] max_depth=6, criterion=mae ......................................\n",
      "[CV] ....................... max_depth=6, criterion=mae, total=   0.0s\n",
      "[CV] max_depth=2, criterion=mse ......................................\n",
      "[CV] ....................... max_depth=2, criterion=mse, total=   0.0s\n",
      "[CV] max_depth=2, criterion=mse ......................................\n",
      "[CV] ....................... max_depth=2, criterion=mse, total=   0.0s\n",
      "[CV] max_depth=2, criterion=mse ......................................\n",
      "[CV] ....................... max_depth=2, criterion=mse, total=   0.0s\n",
      "[CV] max_depth=2, criterion=mse ......................................\n",
      "[CV] ....................... max_depth=2, criterion=mse, total=   0.0s\n",
      "[CV] max_depth=2, criterion=mse ......................................\n",
      "[CV] ....................... max_depth=2, criterion=mse, total=   0.0s\n",
      "[CV] max_depth=2, criterion=mse ......................................\n",
      "[CV] ....................... max_depth=2, criterion=mse, total=   0.0s\n",
      "[CV] max_depth=2, criterion=mse ......................................\n",
      "[CV] ....................... max_depth=2, criterion=mse, total=   0.0s\n",
      "[CV] max_depth=2, criterion=mse ......................................\n",
      "[CV] ....................... max_depth=2, criterion=mse, total=   0.0s\n",
      "[CV] max_depth=2, criterion=mse ......................................\n",
      "[CV] ....................... max_depth=2, criterion=mse, total=   0.0s\n",
      "[CV] max_depth=2, criterion=mse ......................................\n",
      "[CV] ....................... max_depth=2, criterion=mse, total=   0.0s\n",
      "[CV] max_depth=3, criterion=mse ......................................\n",
      "[CV] ....................... max_depth=3, criterion=mse, total=   0.0s\n",
      "[CV] max_depth=3, criterion=mse ......................................\n",
      "[CV] ....................... max_depth=3, criterion=mse, total=   0.0s\n",
      "[CV] max_depth=3, criterion=mse ......................................\n",
      "[CV] ....................... max_depth=3, criterion=mse, total=   0.0s\n",
      "[CV] max_depth=3, criterion=mse ......................................\n",
      "[CV] ....................... max_depth=3, criterion=mse, total=   0.0s\n",
      "[CV] max_depth=3, criterion=mse ......................................\n",
      "[CV] ....................... max_depth=3, criterion=mse, total=   0.0s\n",
      "[CV] max_depth=3, criterion=mse ......................................\n",
      "[CV] ....................... max_depth=3, criterion=mse, total=   0.0s\n",
      "[CV] max_depth=3, criterion=mse ......................................\n",
      "[CV] ....................... max_depth=3, criterion=mse, total=   0.0s\n",
      "[CV] max_depth=3, criterion=mse ......................................\n",
      "[CV] ....................... max_depth=3, criterion=mse, total=   0.0s\n",
      "[CV] max_depth=3, criterion=mse ......................................\n",
      "[CV] ....................... max_depth=3, criterion=mse, total=   0.0s\n",
      "[CV] max_depth=3, criterion=mse ......................................\n",
      "[CV] ....................... max_depth=3, criterion=mse, total=   0.0s\n",
      "[CV] max_depth=4, criterion=mse ......................................\n",
      "[CV] ....................... max_depth=4, criterion=mse, total=   0.0s\n",
      "[CV] max_depth=4, criterion=mse ......................................\n",
      "[CV] ....................... max_depth=4, criterion=mse, total=   0.0s\n",
      "[CV] max_depth=4, criterion=mse ......................................\n",
      "[CV] ....................... max_depth=4, criterion=mse, total=   0.0s\n",
      "[CV] max_depth=4, criterion=mse ......................................\n",
      "[CV] ....................... max_depth=4, criterion=mse, total=   0.0s\n",
      "[CV] max_depth=4, criterion=mse ......................................\n",
      "[CV] ....................... max_depth=4, criterion=mse, total=   0.0s\n",
      "[CV] max_depth=4, criterion=mse ......................................\n",
      "[CV] ....................... max_depth=4, criterion=mse, total=   0.0s\n",
      "[CV] max_depth=4, criterion=mse ......................................\n",
      "[CV] ....................... max_depth=4, criterion=mse, total=   0.0s\n",
      "[CV] max_depth=4, criterion=mse ......................................\n",
      "[CV] ....................... max_depth=4, criterion=mse, total=   0.0s\n",
      "[CV] max_depth=4, criterion=mse ......................................\n",
      "[CV] ....................... max_depth=4, criterion=mse, total=   0.0s\n",
      "[CV] max_depth=4, criterion=mse ......................................\n",
      "[CV] ....................... max_depth=4, criterion=mse, total=   0.0s\n",
      "[CV] max_depth=5, criterion=mse ......................................\n",
      "[CV] ....................... max_depth=5, criterion=mse, total=   0.0s\n",
      "[CV] max_depth=5, criterion=mse ......................................\n",
      "[CV] ....................... max_depth=5, criterion=mse, total=   0.0s\n",
      "[CV] max_depth=5, criterion=mse ......................................\n",
      "[CV] ....................... max_depth=5, criterion=mse, total=   0.0s\n",
      "[CV] max_depth=5, criterion=mse ......................................\n",
      "[CV] ....................... max_depth=5, criterion=mse, total=   0.0s\n",
      "[CV] max_depth=5, criterion=mse ......................................\n",
      "[CV] ....................... max_depth=5, criterion=mse, total=   0.0s\n",
      "[CV] max_depth=5, criterion=mse ......................................\n",
      "[CV] ....................... max_depth=5, criterion=mse, total=   0.0s\n",
      "[CV] max_depth=5, criterion=mse ......................................\n"
     ]
    },
    {
     "name": "stderr",
     "output_type": "stream",
     "text": [
      "[Parallel(n_jobs=1)]: Using backend SequentialBackend with 1 concurrent workers.\n",
      "[Parallel(n_jobs=1)]: Done   1 out of   1 | elapsed:    0.0s remaining:    0.0s\n"
     ]
    },
    {
     "name": "stdout",
     "output_type": "stream",
     "text": [
      "[CV] ....................... max_depth=5, criterion=mse, total=   0.0s\n",
      "[CV] max_depth=5, criterion=mse ......................................\n",
      "[CV] ....................... max_depth=5, criterion=mse, total=   0.0s\n",
      "[CV] max_depth=5, criterion=mse ......................................\n",
      "[CV] ....................... max_depth=5, criterion=mse, total=   0.0s\n",
      "[CV] max_depth=5, criterion=mse ......................................\n",
      "[CV] ....................... max_depth=5, criterion=mse, total=   0.0s\n",
      "[CV] max_depth=6, criterion=mse ......................................\n",
      "[CV] ....................... max_depth=6, criterion=mse, total=   0.0s\n",
      "[CV] max_depth=6, criterion=mse ......................................\n",
      "[CV] ....................... max_depth=6, criterion=mse, total=   0.0s\n",
      "[CV] max_depth=6, criterion=mse ......................................\n",
      "[CV] ....................... max_depth=6, criterion=mse, total=   0.0s\n",
      "[CV] max_depth=6, criterion=mse ......................................\n",
      "[CV] ....................... max_depth=6, criterion=mse, total=   0.0s\n",
      "[CV] max_depth=6, criterion=mse ......................................\n",
      "[CV] ....................... max_depth=6, criterion=mse, total=   0.0s\n",
      "[CV] max_depth=6, criterion=mse ......................................\n",
      "[CV] ....................... max_depth=6, criterion=mse, total=   0.0s\n",
      "[CV] max_depth=6, criterion=mse ......................................\n",
      "[CV] ....................... max_depth=6, criterion=mse, total=   0.0s\n",
      "[CV] max_depth=6, criterion=mse ......................................\n",
      "[CV] ....................... max_depth=6, criterion=mse, total=   0.0s\n",
      "[CV] max_depth=6, criterion=mse ......................................\n",
      "[CV] ....................... max_depth=6, criterion=mse, total=   0.0s\n",
      "[CV] max_depth=6, criterion=mse ......................................\n",
      "[CV] ....................... max_depth=6, criterion=mse, total=   0.0s\n",
      "[CV] max_depth=2, criterion=friedman_mse .............................\n",
      "[CV] .............. max_depth=2, criterion=friedman_mse, total=   0.0s\n",
      "[CV] max_depth=2, criterion=friedman_mse .............................\n",
      "[CV] .............. max_depth=2, criterion=friedman_mse, total=   0.0s\n",
      "[CV] max_depth=2, criterion=friedman_mse .............................\n",
      "[CV] .............. max_depth=2, criterion=friedman_mse, total=   0.0s\n",
      "[CV] max_depth=2, criterion=friedman_mse .............................\n",
      "[CV] .............. max_depth=2, criterion=friedman_mse, total=   0.0s\n",
      "[CV] max_depth=2, criterion=friedman_mse .............................\n",
      "[CV] .............. max_depth=2, criterion=friedman_mse, total=   0.0s\n",
      "[CV] max_depth=2, criterion=friedman_mse .............................\n",
      "[CV] .............. max_depth=2, criterion=friedman_mse, total=   0.0s\n",
      "[CV] max_depth=2, criterion=friedman_mse .............................\n",
      "[CV] .............. max_depth=2, criterion=friedman_mse, total=   0.0s\n",
      "[CV] max_depth=2, criterion=friedman_mse .............................\n",
      "[CV] .............. max_depth=2, criterion=friedman_mse, total=   0.0s\n",
      "[CV] max_depth=2, criterion=friedman_mse .............................\n",
      "[CV] .............. max_depth=2, criterion=friedman_mse, total=   0.0s\n",
      "[CV] max_depth=2, criterion=friedman_mse .............................\n",
      "[CV] .............. max_depth=2, criterion=friedman_mse, total=   0.0s\n",
      "[CV] max_depth=3, criterion=friedman_mse .............................\n",
      "[CV] .............. max_depth=3, criterion=friedman_mse, total=   0.0s\n",
      "[CV] max_depth=3, criterion=friedman_mse .............................\n",
      "[CV] .............. max_depth=3, criterion=friedman_mse, total=   0.0s\n",
      "[CV] max_depth=3, criterion=friedman_mse .............................\n",
      "[CV] .............. max_depth=3, criterion=friedman_mse, total=   0.0s\n",
      "[CV] max_depth=3, criterion=friedman_mse .............................\n",
      "[CV] .............. max_depth=3, criterion=friedman_mse, total=   0.0s\n",
      "[CV] max_depth=3, criterion=friedman_mse .............................\n",
      "[CV] .............. max_depth=3, criterion=friedman_mse, total=   0.0s\n",
      "[CV] max_depth=3, criterion=friedman_mse .............................\n",
      "[CV] .............. max_depth=3, criterion=friedman_mse, total=   0.0s\n",
      "[CV] max_depth=3, criterion=friedman_mse .............................\n",
      "[CV] .............. max_depth=3, criterion=friedman_mse, total=   0.0s\n",
      "[CV] max_depth=3, criterion=friedman_mse .............................\n",
      "[CV] .............. max_depth=3, criterion=friedman_mse, total=   0.0s\n",
      "[CV] max_depth=3, criterion=friedman_mse .............................\n",
      "[CV] .............. max_depth=3, criterion=friedman_mse, total=   0.0s\n",
      "[CV] max_depth=3, criterion=friedman_mse .............................\n",
      "[CV] .............. max_depth=3, criterion=friedman_mse, total=   0.0s\n",
      "[CV] max_depth=4, criterion=friedman_mse .............................\n",
      "[CV] .............. max_depth=4, criterion=friedman_mse, total=   0.0s\n",
      "[CV] max_depth=4, criterion=friedman_mse .............................\n",
      "[CV] .............. max_depth=4, criterion=friedman_mse, total=   0.0s\n",
      "[CV] max_depth=4, criterion=friedman_mse .............................\n",
      "[CV] .............. max_depth=4, criterion=friedman_mse, total=   0.0s\n",
      "[CV] max_depth=4, criterion=friedman_mse .............................\n",
      "[CV] .............. max_depth=4, criterion=friedman_mse, total=   0.0s\n",
      "[CV] max_depth=4, criterion=friedman_mse .............................\n",
      "[CV] .............. max_depth=4, criterion=friedman_mse, total=   0.0s\n",
      "[CV] max_depth=4, criterion=friedman_mse .............................\n",
      "[CV] .............. max_depth=4, criterion=friedman_mse, total=   0.0s\n",
      "[CV] max_depth=4, criterion=friedman_mse .............................\n",
      "[CV] .............. max_depth=4, criterion=friedman_mse, total=   0.0s\n",
      "[CV] max_depth=4, criterion=friedman_mse .............................\n",
      "[CV] .............. max_depth=4, criterion=friedman_mse, total=   0.0s\n",
      "[CV] max_depth=4, criterion=friedman_mse .............................\n",
      "[CV] .............. max_depth=4, criterion=friedman_mse, total=   0.0s\n",
      "[CV] max_depth=4, criterion=friedman_mse .............................\n",
      "[CV] .............. max_depth=4, criterion=friedman_mse, total=   0.0s\n",
      "[CV] max_depth=5, criterion=friedman_mse .............................\n",
      "[CV] .............. max_depth=5, criterion=friedman_mse, total=   0.0s\n",
      "[CV] max_depth=5, criterion=friedman_mse .............................\n",
      "[CV] .............. max_depth=5, criterion=friedman_mse, total=   0.0s\n",
      "[CV] max_depth=5, criterion=friedman_mse .............................\n",
      "[CV] .............. max_depth=5, criterion=friedman_mse, total=   0.0s\n",
      "[CV] max_depth=5, criterion=friedman_mse .............................\n",
      "[CV] .............. max_depth=5, criterion=friedman_mse, total=   0.0s\n",
      "[CV] max_depth=5, criterion=friedman_mse .............................\n",
      "[CV] .............. max_depth=5, criterion=friedman_mse, total=   0.0s\n",
      "[CV] max_depth=5, criterion=friedman_mse .............................\n",
      "[CV] .............. max_depth=5, criterion=friedman_mse, total=   0.0s\n",
      "[CV] max_depth=5, criterion=friedman_mse .............................\n",
      "[CV] .............. max_depth=5, criterion=friedman_mse, total=   0.0s\n",
      "[CV] max_depth=5, criterion=friedman_mse .............................\n",
      "[CV] .............. max_depth=5, criterion=friedman_mse, total=   0.0s\n",
      "[CV] max_depth=5, criterion=friedman_mse .............................\n",
      "[CV] .............. max_depth=5, criterion=friedman_mse, total=   0.0s\n",
      "[CV] max_depth=5, criterion=friedman_mse .............................\n",
      "[CV] .............. max_depth=5, criterion=friedman_mse, total=   0.0s\n",
      "[CV] max_depth=6, criterion=friedman_mse .............................\n",
      "[CV] .............. max_depth=6, criterion=friedman_mse, total=   0.0s\n",
      "[CV] max_depth=6, criterion=friedman_mse .............................\n",
      "[CV] .............. max_depth=6, criterion=friedman_mse, total=   0.0s\n",
      "[CV] max_depth=6, criterion=friedman_mse .............................\n",
      "[CV] .............. max_depth=6, criterion=friedman_mse, total=   0.0s\n",
      "[CV] max_depth=6, criterion=friedman_mse .............................\n",
      "[CV] .............. max_depth=6, criterion=friedman_mse, total=   0.0s\n",
      "[CV] max_depth=6, criterion=friedman_mse .............................\n",
      "[CV] .............. max_depth=6, criterion=friedman_mse, total=   0.0s\n",
      "[CV] max_depth=6, criterion=friedman_mse .............................\n",
      "[CV] .............. max_depth=6, criterion=friedman_mse, total=   0.0s\n",
      "[CV] max_depth=6, criterion=friedman_mse .............................\n",
      "[CV] .............. max_depth=6, criterion=friedman_mse, total=   0.0s\n",
      "[CV] max_depth=6, criterion=friedman_mse .............................\n",
      "[CV] .............. max_depth=6, criterion=friedman_mse, total=   0.0s\n",
      "[CV] max_depth=6, criterion=friedman_mse .............................\n",
      "[CV] .............. max_depth=6, criterion=friedman_mse, total=   0.0s\n",
      "[CV] max_depth=6, criterion=friedman_mse .............................\n",
      "[CV] .............. max_depth=6, criterion=friedman_mse, total=   0.0s\n",
      "{'max_depth': 3, 'criterion': 'mse'}\n"
     ]
    },
    {
     "name": "stderr",
     "output_type": "stream",
     "text": [
      "[Parallel(n_jobs=1)]: Done 150 out of 150 | elapsed:    0.3s finished\n"
     ]
    },
    {
     "data": {
      "text/plain": [
       "80292.64345818017"
      ]
     },
     "execution_count": 9,
     "metadata": {},
     "output_type": "execute_result"
    }
   ],
   "source": [
    "\n",
    "param_tree = {\"max_depth\": [2,3,4,5,6],\n",
    "              \"criterion\": [\"mae\", \"mse\",\"friedman_mse\"]}\n",
    "\n",
    "# run randomized search\n",
    "n_iter_search = 15\n",
    "random_search = RandomizedSearchCV(tree, param_distributions=param_tree,\n",
    "                                   n_iter=n_iter_search, cv=10,scoring='neg_mean_squared_error',verbose = 2)\n",
    "\n",
    "random_search.fit(X_s_normalize, y)\n",
    "\n",
    "print(random_search.best_params_)\n",
    "import numpy as np\n",
    "rmse = np.sqrt(-random_search.best_score_)\n",
    "rmse"
   ]
  },
  {
   "cell_type": "markdown",
   "metadata": {},
   "source": [
    "# Aprendizado de classificadores"
   ]
  },
  {
   "cell_type": "code",
   "execution_count": 1,
   "metadata": {},
   "outputs": [],
   "source": [
    "import numpy as np\n",
    "import matplotlib.pyplot as plt\n",
    "import os\n",
    "import matplotlib.pyplot as plt\n",
    "import pandas as pd\n",
    "\n",
    "DATA_BASE = \"am-T1-dados\"\n",
    "\n",
    "# 3.1 Visualiza¸c˜ao dos dados\n",
    "\n",
    "def load_student_grade(properties_sell=DATA_BASE):\n",
    "    os.makedirs(properties_sell, exist_ok=True)\n",
    "    txt_path = os.path.join(properties_sell, \"ex2data1.txt\")\n",
    "    return np.loadtxt(txt_path, delimiter=\",\")"
   ]
  },
  {
   "cell_type": "code",
   "execution_count": 2,
   "metadata": {
    "scrolled": true
   },
   "outputs": [
    {
     "data": {
      "text/plain": [
       "Text(0, 0.5, 'Exam 2 Score')"
      ]
     },
     "execution_count": 2,
     "metadata": {},
     "output_type": "execute_result"
    },
    {
     "data": {
      "image/png": "[encoded data removed]",
      "text/plain": [
       "<Figure size 720x504 with 1 Axes>"
      ]
     },
     "metadata": {
      "needs_background": "light"
     },
     "output_type": "display_data"
    }
   ],
   "source": [
    "data = load_student_grade()\n",
    "\n",
    "\n",
    "x_values = data[:,:2]\n",
    "clasz  = data[:,2]\n",
    "\n",
    "pos = data[np.where(clasz == 0)]\n",
    "neg = data[np.where(clasz == 1)]\n",
    "\n",
    "plt.figure(figsize=(10, 7))\n",
    "plt.plot(pos[:,0], pos[:,1],'y.',marker='o',markersize=7, label=\"Not admitted\");\n",
    "plt.plot(neg[:,0], neg[:,1],'k.', marker='P',markersize=7, label=\"Admitted\");\n",
    "plt.legend(loc=4)\n",
    "plt.xlabel(\"Exam 1 Score\", fontsize=10)\n",
    "plt.ylabel(\"Exam 2 Score\", rotation=90, fontsize=10)"
   ]
  },
  {
   "cell_type": "markdown",
   "metadata": {},
   "source": [
    "GaussianNB"
   ]
  },
  {
   "cell_type": "code",
   "execution_count": 3,
   "metadata": {},
   "outputs": [
    {
     "name": "stdout",
     "output_type": "stream",
     "text": [
      "Gaussian Naive Bayes model accuracy(in %): 80.0\n",
      "              precision    recall  f1-score   support\n",
      "\n",
      "Not admitted       0.67      1.00      0.80         8\n",
      "    Admitted       1.00      0.67      0.80        12\n",
      "\n",
      "    accuracy                           0.80        20\n",
      "   macro avg       0.83      0.83      0.80        20\n",
      "weighted avg       0.87      0.80      0.80        20\n",
      "\n"
     ]
    },
    {
     "data": {
      "text/plain": [
       "array([[8, 0],\n",
       "       [4, 8]])"
      ]
     },
     "execution_count": 3,
     "metadata": {},
     "output_type": "execute_result"
    }
   ],
   "source": [
    "# splitting X and y into training and testing sets \n",
    "from sklearn.model_selection import train_test_split \n",
    "from sklearn.naive_bayes import GaussianNB\n",
    "from sklearn import metrics \n",
    "from sklearn.metrics import confusion_matrix\n",
    "from sklearn.metrics import classification_report\n",
    "\n",
    "\n",
    "X_train, X_test, y_train, y_test = train_test_split(x_values,clasz, test_size=0.2, random_state=0) \n",
    "\n",
    "target_names = ['Not admitted','Admitted']\n",
    "\n",
    "\n",
    "# training the model on training set \n",
    "gnb = GaussianNB() \n",
    "gnb.fit(X_train, y_train) \n",
    "gnb_clasz_pred = gnb.predict(X_test) \n",
    "\n",
    "print(\"Gaussian Naive Bayes model accuracy(in %):\", metrics.accuracy_score(y_test, gnb_clasz_pred)*100)\n",
    "\n",
    "\n",
    "\n",
    "\n",
    "print(classification_report(y_test, gnb_clasz_pred, target_names=target_names))\n",
    "confusion_matrix(y_test,gnb_clasz_pred)\n",
    "\n"
   ]
  },
  {
   "cell_type": "markdown",
   "metadata": {},
   "source": [
    "LogisticRegression"
   ]
  },
  {
   "cell_type": "code",
   "execution_count": 4,
   "metadata": {},
   "outputs": [
    {
     "name": "stdout",
     "output_type": "stream",
     "text": [
      "Logistic regression model accuracy(in %): 80.0\n",
      "              precision    recall  f1-score   support\n",
      "\n",
      "Not admitted       0.67      1.00      0.80         8\n",
      "    Admitted       1.00      0.67      0.80        12\n",
      "\n",
      "    accuracy                           0.80        20\n",
      "   macro avg       0.83      0.83      0.80        20\n",
      "weighted avg       0.87      0.80      0.80        20\n",
      "\n"
     ]
    },
    {
     "data": {
      "text/plain": [
       "array([[8, 0],\n",
       "       [4, 8]])"
      ]
     },
     "execution_count": 4,
     "metadata": {},
     "output_type": "execute_result"
    }
   ],
   "source": [
    "from sklearn.linear_model import LogisticRegression\n",
    "lgr = LogisticRegression()\n",
    "lgr.fit(X_train, y_train) \n",
    "lgr_clasz_pred = lgr.predict(X_test) \n",
    "print(\"Logistic regression model accuracy(in %):\", metrics.accuracy_score(y_test, lgr_clasz_pred)*100)\n",
    "\n",
    "\n",
    "\n",
    "\n",
    "print(classification_report(y_test, lgr_clasz_pred, target_names=target_names))\n",
    "confusion_matrix(y_test,lgr_clasz_pred)\n",
    "\n"
   ]
  },
  {
   "cell_type": "markdown",
   "metadata": {},
   "source": [
    "KNeighborsClassifier"
   ]
  },
  {
   "cell_type": "code",
   "execution_count": 5,
   "metadata": {},
   "outputs": [
    {
     "name": "stdout",
     "output_type": "stream",
     "text": [
      "KNeighbors model accuracy(in %): 90.0\n",
      "              precision    recall  f1-score   support\n",
      "\n",
      "Not admitted       0.80      1.00      0.89         8\n",
      "    Admitted       1.00      0.83      0.91        12\n",
      "\n",
      "    accuracy                           0.90        20\n",
      "   macro avg       0.90      0.92      0.90        20\n",
      "weighted avg       0.92      0.90      0.90        20\n",
      "\n"
     ]
    },
    {
     "data": {
      "text/plain": [
       "array([[ 8,  0],\n",
       "       [ 2, 10]])"
      ]
     },
     "execution_count": 5,
     "metadata": {},
     "output_type": "execute_result"
    }
   ],
   "source": [
    "from sklearn.neighbors import KNeighborsClassifier\n",
    "neigh = KNeighborsClassifier(n_neighbors=3)\n",
    "neigh.fit(X_train, y_train) \n",
    "neigh_clasz_pred = neigh.predict(X_test)\n",
    "\n",
    "print(\"KNeighbors model accuracy(in %):\", metrics.accuracy_score(y_test, neigh_clasz_pred)*100)\n",
    "\n",
    "\n",
    "print(classification_report(y_test, neigh_clasz_pred, target_names=target_names))\n",
    "confusion_matrix(y_test, neigh_clasz_pred)\n",
    "\n"
   ]
  },
  {
   "cell_type": "markdown",
   "metadata": {},
   "source": [
    "DecisionTreeClassifier"
   ]
  },
  {
   "cell_type": "code",
   "execution_count": 6,
   "metadata": {},
   "outputs": [
    {
     "name": "stdout",
     "output_type": "stream",
     "text": [
      "Decision Tree Classifier (in %): 75.0\n",
      "              precision    recall  f1-score   support\n",
      "\n",
      "Not admitted       0.64      0.88      0.74         8\n",
      "    Admitted       0.89      0.67      0.76        12\n",
      "\n",
      "    accuracy                           0.75        20\n",
      "   macro avg       0.76      0.77      0.75        20\n",
      "weighted avg       0.79      0.75      0.75        20\n",
      "\n"
     ]
    },
    {
     "data": {
      "text/plain": [
       "array([[7, 1],\n",
       "       [4, 8]])"
      ]
     },
     "execution_count": 6,
     "metadata": {},
     "output_type": "execute_result"
    }
   ],
   "source": [
    "from sklearn.model_selection import cross_val_score\n",
    "from sklearn.tree import DecisionTreeClassifier\n",
    "dtf = DecisionTreeClassifier()\n",
    "dtf.fit(X_train, y_train) \n",
    "dtf_clasz_pred = dtf.predict(X_test) \n",
    "\n",
    "print(\"Decision Tree Classifier (in %):\", metrics.accuracy_score(y_test, dtf_clasz_pred)*100)\n",
    "print(classification_report(y_test, dtf_clasz_pred, target_names=target_names))\n",
    "confusion_matrix(y_test, dtf_clasz_pred)\n"
   ]
  },
  {
   "cell_type": "markdown",
   "metadata": {},
   "source": [
    "##  Mapeamento de caracterısticas (feature mapping)"
   ]
  },
  {
   "cell_type": "code",
   "execution_count": null,
   "metadata": {},
   "outputs": [],
   "source": []
  },
  {
   "cell_type": "code",
   "execution_count": 7,
   "metadata": {},
   "outputs": [],
   "source": [
    "from sklearn.preprocessing import PolynomialFeatures\n",
    "\n",
    "\n",
    "poly = PolynomialFeatures(6)\n",
    "x_values_multi = poly.fit_transform(x_values)\n",
    "\n",
    "X_train, X_test, y_train, y_test = train_test_split(x_values_multi,clasz, test_size=0.2, random_state=0) \n"
   ]
  },
  {
   "cell_type": "code",
   "execution_count": 8,
   "metadata": {},
   "outputs": [
    {
     "name": "stdout",
     "output_type": "stream",
     "text": [
      "Logistic regression model accuracy(in %): 100.0\n",
      "              precision    recall  f1-score   support\n",
      "\n",
      "Not admitted       1.00      1.00      1.00         8\n",
      "    Admitted       1.00      1.00      1.00        12\n",
      "\n",
      "    accuracy                           1.00        20\n",
      "   macro avg       1.00      1.00      1.00        20\n",
      "weighted avg       1.00      1.00      1.00        20\n",
      "\n",
      "[[-4.49299613e-15 -2.06261377e-13 -2.18208972e-13 -9.86594362e-12\n",
      "  -9.32266092e-12 -1.07411172e-11 -4.75555672e-10 -4.03969881e-10\n",
      "  -4.17096341e-10 -5.22670286e-10 -2.16312332e-08 -1.67384973e-08\n",
      "  -1.55107728e-08 -1.75050352e-08 -2.37560580e-08 -7.73963543e-07\n",
      "  -5.53841539e-07 -4.65719517e-07 -4.70946045e-07 -5.80095441e-07\n",
      "  -8.46529954e-07 -2.17772104e-08  1.17178573e-07 -1.12506587e-07\n",
      "   1.54810584e-08  8.15572206e-08 -2.72291310e-08  1.10946494e-08]]\n"
     ]
    },
    {
     "data": {
      "text/plain": [
       "(80, 28)"
      ]
     },
     "execution_count": 8,
     "metadata": {},
     "output_type": "execute_result"
    }
   ],
   "source": [
    "from sklearn.linear_model import LogisticRegression\n",
    "lgr = LogisticRegression()\n",
    "lgr.fit(X_train, y_train) \n",
    "lgr_clasz_pred = lgr.predict(X_test) \n",
    "\n",
    "print(\"Logistic regression model accuracy(in %):\", metrics.accuracy_score(y_test, lgr_clasz_pred)*100)\n",
    "print(classification_report(y_test, lgr_clasz_pred, target_names=target_names))\n",
    "confusion_matrix(y_test,lgr_clasz_pred)\n",
    "\n",
    "print(lgr.coef_)\n",
    "X_train.shape"
   ]
  },
  {
   "cell_type": "markdown",
   "metadata": {},
   "source": [
    "## Esboço Fronteira de Decisão"
   ]
  },
  {
   "cell_type": "code",
   "execution_count": 21,
   "metadata": {},
   "outputs": [
    {
     "data": {
      "image/png": "[encoded data removed]",
      "text/plain": [
       "<Figure size 720x504 with 1 Axes>"
      ]
     },
     "metadata": {
      "needs_background": "light"
     },
     "output_type": "display_data"
    }
   ],
   "source": [
    "\n",
    "import matplotlib.pyplot as plt\n",
    "import numpy as np\n",
    "\n",
    "\n",
    "\n",
    "import matplotlib.pyplot as plt\n",
    "import numpy as np\n",
    "\n",
    "plt, p1, p2 = plotData(x_values, clasz)\n",
    "\n",
    "# # z = np.zeros(( len(x_values_multi), len(x_values_multi) ))\n",
    "\n",
    "# print(f'z ={type(z)}')\n",
    "\n",
    "# print(f'x_values = {x_values_multi.shape}')\n",
    "\n",
    "# thetas = lgr.coef_\n",
    "\n",
    "# print(f'thetas = {thetas}')\n",
    "\n",
    "# print(type(x_values_multi))\n",
    "\n",
    "# # zil=np.zeros((len(x_values_multi)))\n",
    "# # #     for j in range(len(x_values_multi)):\n",
    "# # for i in range(len(x_values_multi)):\n",
    "# #    zil[i] = np.dot(x_values_multi,thetas)\n",
    "\n",
    "# bias = lgr.intercept_\n",
    "# w = lgr.coef_.T\n",
    "\n",
    "# points_y = [-(w[0] * x_values_multi + bias)/(w[1]) for x in x_values_multi]\n",
    "\n",
    "# plt.plot(x_values_multi, points_y, color = 'black')\n",
    "\n",
    "# # print(f'u = {u}')\n",
    "# # print(f'v = {v}')\n",
    "# # print(f'z = {zil}')\n",
    "\n",
    "\n",
    "    \n",
    "# bias = lgr.intercept_[0]\n",
    "# w = lgr.coef_[0]\n",
    "\n",
    "# plot_decision_boundaries(x_values,clasz,)\n",
    "\n"
   ]
  },
  {
   "cell_type": "code",
   "execution_count": 22,
   "metadata": {},
   "outputs": [
    {
     "data": {
      "text/plain": [
       "array([0., 0., 1., 1., 0., 1., 1., 1., 1., 1., 1., 1., 1., 1., 1., 0., 1.,\n",
       "       1., 0., 1., 0., 0., 1., 0., 1., 1., 0., 1., 0., 0., 1., 1., 0., 0.,\n",
       "       0., 1., 0., 0., 0., 1., 0., 1., 1., 0., 0., 1., 0., 1., 0., 0., 1.,\n",
       "       0., 1., 1., 1., 1., 0., 1., 1., 1., 1., 1., 1., 1., 0., 0., 1., 1.,\n",
       "       1., 0., 1., 0., 1., 1., 1., 1., 0., 0., 1., 0.])"
      ]
     },
     "execution_count": 22,
     "metadata": {},
     "output_type": "execute_result"
    }
   ],
   "source": [
    "y_train"
   ]
  },
  {
   "cell_type": "code",
   "execution_count": 23,
   "metadata": {},
   "outputs": [
    {
     "data": {
      "text/plain": [
       "array([-4.49299613e-15, -2.06261377e-13, -2.18208972e-13, -9.86594362e-12,\n",
       "       -9.32266092e-12, -1.07411172e-11, -4.75555672e-10, -4.03969881e-10,\n",
       "       -4.17096341e-10, -5.22670286e-10, -2.16312332e-08, -1.67384973e-08,\n",
       "       -1.55107728e-08, -1.75050352e-08, -2.37560580e-08, -7.73963543e-07,\n",
       "       -5.53841539e-07, -4.65719517e-07, -4.70946045e-07, -5.80095441e-07,\n",
       "       -8.46529954e-07, -2.17772104e-08,  1.17178573e-07, -1.12506587e-07,\n",
       "        1.54810584e-08,  8.15572206e-08, -2.72291310e-08,  1.10946494e-08])"
      ]
     },
     "execution_count": 23,
     "metadata": {},
     "output_type": "execute_result"
    }
   ],
   "source": [
    "lgr.coef_[0]"
   ]
  },
  {
   "cell_type": "code",
   "execution_count": 46,
   "metadata": {},
   "outputs": [
    {
     "data": {
      "text/plain": [
       "Pipeline(steps=[('polynomial_features', PolynomialFeatures(degree=6)),\n",
       "                ('lgr', LogisticRegression())])"
      ]
     },
     "execution_count": 46,
     "metadata": {},
     "output_type": "execute_result"
    }
   ],
   "source": [
    "from sklearn.pipeline import Pipeline\n",
    "\n",
    "pipe = Pipeline([('polynomial_features', PolynomialFeatures(degree=6)), ('lgr', LogisticRegression())])\n",
    "pipe.fit(x_values, clasz)"
   ]
  },
  {
   "cell_type": "code",
   "execution_count": 65,
   "metadata": {},
   "outputs": [],
   "source": [
    "from matplotlib.colors import ListedColormap\n",
    "\n",
    "def plot_decision_surface(X, y, predictor, ax_delta=1.0, mesh_res = 0.1, alpha=0.4, bscatter=1,  \n",
    "                          figs_x1=12.0, figs_x2=8.0):\n",
    "\n",
    "#     # some arrays and colormap\n",
    "#     markers = ('s', 'x', 'o', '^', 'v')\n",
    "#     colors = ('red', 'blue', 'lightgreen', 'gray', 'cyan')\n",
    "#     cmap = ListedColormap(colors[:len(np.unique(y))])\n",
    "    \n",
    "\n",
    "#     # plot size  \n",
    "#     fig_size = plt.rcParams[\"figure.figsize\"]\n",
    "#     fig_size[0] = figs_x1 \n",
    "#     fig_size[1] = figs_x2\n",
    "#     plt.rcParams[\"figure.figsize\"] = fig_size\n",
    "    \n",
    "    pos = np.where(y==1)\n",
    "    neg = np.where(y==0)\n",
    "    \n",
    "    \n",
    "    plt.figure(figsize=(10, 7))\n",
    "    p1 = plt.plot(X[pos,0], X[pos,1],'y.', marker='+', markersize=7, color='k')[0]\n",
    "    p2 = plt.plot(X[neg,0], X[neg,1],'k.', marker='o', markersize=7, color='y')[0]\n",
    "\n",
    "    plt.legend(loc=4)\n",
    "    plt.xlabel(\"Exam 1 Score\", fontsize=10)\n",
    "    plt.ylabel(\"Exam 2 Score\", rotation=90, fontsize=10)\n",
    "\n",
    "    # mesh points \n",
    "    resolution = mesh_res\n",
    "    x1_min, x1_max = X[:, 0].min()  - 1, X[:, 0].max() + 1\n",
    "    x2_min, x2_max = X[:, 1].min()  - 1, X[:, 1].max() + 1\n",
    "    xm1, xm2 = np.meshgrid( np.arange(x1_min, x1_max, resolution), \n",
    "                            np.arange(x2_min, x2_max, resolution))\n",
    "    mesh_points = np.array([xm1.ravel(), xm2.ravel()]).T\n",
    "\n",
    "    # predicted vals \n",
    "    Z = predictor.predict(mesh_points)\n",
    "    Z = Z.reshape(xm1.shape)\n",
    "\n",
    "    # plot contur areas \n",
    "    p3 = plt.contour(xm1, xm2,Z, levels=[0], linewidth=2).collections[0]\n",
    "\n",
    "\n",
    "#     # add a scatter plot of the data points \n",
    "#     if (bscatter == 1): \n",
    "#         alpha2 = alpha + 0.4 \n",
    "#         if (alpha2 > 1.0 ):\n",
    "#             alpha2 = 1.0\n",
    "#         for idx, yv in enumerate(np.unique(y)): \n",
    "#             plt.scatter(x=X[y==yv, 0], y=X[y==yv, 1], \n",
    "#                         alpha=alpha2, c=[cmap(idx)], marker=markers[idx], label=yv)\n",
    "            \n",
    "    plt.legend((p1,p2, p3),('Admitted', 'Not Admitted', 'Fronteira de Decisão'),fontsize=10, numpoints=1, handlelength=0)\n",
    "\n",
    "#     if (bscatter == 1):\n",
    "#         plt.legend(loc=legend_loc)\n",
    "    \n",
    "    "
   ]
  },
  {
   "cell_type": "code",
   "execution_count": 66,
   "metadata": {},
   "outputs": [
    {
     "name": "stderr",
     "output_type": "stream",
     "text": [
      "No handles with labels found to put in legend.\n",
      "<ipython-input-65-277416293e5c>:43: UserWarning: No contour levels were found within the data range.\n",
      "  p3 = plt.contour(xm1, xm2,Z, levels=[0], linewidth=2).collections[0]\n",
      "<ipython-input-65-277416293e5c>:43: UserWarning: The following kwargs were not used by contour: 'linewidth'\n",
      "  p3 = plt.contour(xm1, xm2,Z, levels=[0], linewidth=2).collections[0]\n"
     ]
    },
    {
     "data": {
      "image/png": "[encoded data removed]",
      "text/plain": [
       "<Figure size 720x504 with 1 Axes>"
      ]
     },
     "metadata": {
      "needs_background": "light"
     },
     "output_type": "display_data"
    }
   ],
   "source": [
    "plot_decision_surface(x_values,clasz,pipe)"
   ]
  },
  {
   "cell_type": "code",
   "execution_count": null,
   "metadata": {},
   "outputs": [],
   "source": []
  },
  {
   "cell_type": "code",
   "execution_count": 102,
   "metadata": {},
   "outputs": [
    {
     "data": {
      "text/plain": [
       "(100, 2)"
      ]
     },
     "execution_count": 102,
     "metadata": {},
     "output_type": "execute_result"
    }
   ],
   "source": [
    "x_values.shape"
   ]
  },
  {
   "cell_type": "code",
   "execution_count": 103,
   "metadata": {},
   "outputs": [
    {
     "data": {
      "text/plain": [
       "(100,)"
      ]
     },
     "execution_count": 103,
     "metadata": {},
     "output_type": "execute_result"
    }
   ],
   "source": [
    "clasz.shape"
   ]
  },
  {
   "cell_type": "code",
   "execution_count": null,
   "metadata": {},
   "outputs": [],
   "source": []
  },
  {
   "cell_type": "markdown",
   "metadata": {},
   "source": [
    "# Regularização"
   ]
  },
  {
   "cell_type": "code",
   "execution_count": null,
   "metadata": {},
   "outputs": [],
   "source": []
  },
  {
   "cell_type": "code",
   "execution_count": 1,
   "metadata": {},
   "outputs": [],
   "source": [
    "import scipy.io\n",
    "import numpy as np\n",
    "import matplotlib.pyplot as plt\n",
    "import matplotlib.pyplot as plt\n",
    "\n",
    "mat = scipy.io.loadmat('am-T1-dados/ex5data1.mat')\n",
    "\n",
    "X = mat[\"X\"]\n",
    "y = mat[\"y\"]\n",
    "Xval = mat[\"Xval\"]\n",
    "yval = mat[\"yval\"]\n",
    "Xtest = mat[\"Xtest\"]\n",
    "ytest = mat[\"ytest\"]\n",
    "\n",
    "m = X.shape[0]"
   ]
  },
  {
   "cell_type": "code",
   "execution_count": null,
   "metadata": {},
   "outputs": [],
   "source": []
  },
  {
   "cell_type": "markdown",
   "metadata": {},
   "source": [
    "##  Visualização dos Dados"
   ]
  },
  {
   "cell_type": "code",
   "execution_count": null,
   "metadata": {},
   "outputs": [],
   "source": []
  },
  {
   "cell_type": "code",
   "execution_count": 97,
   "metadata": {},
   "outputs": [
    {
     "data": {
      "image/png": "[encoded data removed]",
      "text/plain": [
       "<Figure size 720x504 with 1 Axes>"
      ]
     },
     "metadata": {
      "needs_background": "light"
     },
     "output_type": "display_data"
    }
   ],
   "source": [
    "plt.figure(figsize=(10, 7))\n",
    "plt.plot(X, y, 'rx', markersize=10, linewidth=1.5)\n",
    "plt.xlabel('Change in water level (x)')\n",
    "plt.ylabel('Water flowing out of the dam (y)')\n",
    "plt.show(block=False)"
   ]
  },
  {
   "cell_type": "code",
   "execution_count": null,
   "metadata": {},
   "outputs": [],
   "source": []
  },
  {
   "cell_type": "code",
   "execution_count": 8,
   "metadata": {},
   "outputs": [
    {
     "name": "stderr",
     "output_type": "stream",
     "text": [
      "/Users/diegosilvadesalles/Documents/mestrado/Material Mestrado/Bezerra Machine Learning/codes/bezerra-works/trabalho2/trabalho2/lib/python3.8/site-packages/sklearn/metrics/_regression.py:594: UndefinedMetricWarning: R^2 score is not well-defined with less than two samples.\n",
      "  warnings.warn(msg, UndefinedMetricWarning)\n",
      "/Users/diegosilvadesalles/Documents/mestrado/Material Mestrado/Bezerra Machine Learning/codes/bezerra-works/trabalho2/trabalho2/lib/python3.8/site-packages/sklearn/metrics/_regression.py:594: UndefinedMetricWarning: R^2 score is not well-defined with less than two samples.\n",
      "  warnings.warn(msg, UndefinedMetricWarning)\n",
      "/Users/diegosilvadesalles/Documents/mestrado/Material Mestrado/Bezerra Machine Learning/codes/bezerra-works/trabalho2/trabalho2/lib/python3.8/site-packages/sklearn/metrics/_regression.py:594: UndefinedMetricWarning: R^2 score is not well-defined with less than two samples.\n",
      "  warnings.warn(msg, UndefinedMetricWarning)\n",
      "/Users/diegosilvadesalles/Documents/mestrado/Material Mestrado/Bezerra Machine Learning/codes/bezerra-works/trabalho2/trabalho2/lib/python3.8/site-packages/sklearn/metrics/_regression.py:594: UndefinedMetricWarning: R^2 score is not well-defined with less than two samples.\n",
      "  warnings.warn(msg, UndefinedMetricWarning)\n",
      "/Users/diegosilvadesalles/Documents/mestrado/Material Mestrado/Bezerra Machine Learning/codes/bezerra-works/trabalho2/trabalho2/lib/python3.8/site-packages/sklearn/metrics/_regression.py:594: UndefinedMetricWarning: R^2 score is not well-defined with less than two samples.\n",
      "  warnings.warn(msg, UndefinedMetricWarning)\n",
      "/Users/diegosilvadesalles/Documents/mestrado/Material Mestrado/Bezerra Machine Learning/codes/bezerra-works/trabalho2/trabalho2/lib/python3.8/site-packages/sklearn/metrics/_regression.py:594: UndefinedMetricWarning: R^2 score is not well-defined with less than two samples.\n",
      "  warnings.warn(msg, UndefinedMetricWarning)\n",
      "/Users/diegosilvadesalles/Documents/mestrado/Material Mestrado/Bezerra Machine Learning/codes/bezerra-works/trabalho2/trabalho2/lib/python3.8/site-packages/sklearn/metrics/_regression.py:594: UndefinedMetricWarning: R^2 score is not well-defined with less than two samples.\n",
      "  warnings.warn(msg, UndefinedMetricWarning)\n",
      "/Users/diegosilvadesalles/Documents/mestrado/Material Mestrado/Bezerra Machine Learning/codes/bezerra-works/trabalho2/trabalho2/lib/python3.8/site-packages/sklearn/metrics/_regression.py:594: UndefinedMetricWarning: R^2 score is not well-defined with less than two samples.\n",
      "  warnings.warn(msg, UndefinedMetricWarning)\n",
      "/Users/diegosilvadesalles/Documents/mestrado/Material Mestrado/Bezerra Machine Learning/codes/bezerra-works/trabalho2/trabalho2/lib/python3.8/site-packages/sklearn/metrics/_regression.py:594: UndefinedMetricWarning: R^2 score is not well-defined with less than two samples.\n",
      "  warnings.warn(msg, UndefinedMetricWarning)\n",
      "/Users/diegosilvadesalles/Documents/mestrado/Material Mestrado/Bezerra Machine Learning/codes/bezerra-works/trabalho2/trabalho2/lib/python3.8/site-packages/sklearn/metrics/_regression.py:594: UndefinedMetricWarning: R^2 score is not well-defined with less than two samples.\n",
      "  warnings.warn(msg, UndefinedMetricWarning)\n",
      "/Users/diegosilvadesalles/Documents/mestrado/Material Mestrado/Bezerra Machine Learning/codes/bezerra-works/trabalho2/trabalho2/lib/python3.8/site-packages/sklearn/metrics/_regression.py:594: UndefinedMetricWarning: R^2 score is not well-defined with less than two samples.\n",
      "  warnings.warn(msg, UndefinedMetricWarning)\n",
      "/Users/diegosilvadesalles/Documents/mestrado/Material Mestrado/Bezerra Machine Learning/codes/bezerra-works/trabalho2/trabalho2/lib/python3.8/site-packages/sklearn/metrics/_regression.py:594: UndefinedMetricWarning: R^2 score is not well-defined with less than two samples.\n",
      "  warnings.warn(msg, UndefinedMetricWarning)\n",
      "/Users/diegosilvadesalles/Documents/mestrado/Material Mestrado/Bezerra Machine Learning/codes/bezerra-works/trabalho2/trabalho2/lib/python3.8/site-packages/sklearn/metrics/_regression.py:594: UndefinedMetricWarning: R^2 score is not well-defined with less than two samples.\n",
      "  warnings.warn(msg, UndefinedMetricWarning)\n",
      "/Users/diegosilvadesalles/Documents/mestrado/Material Mestrado/Bezerra Machine Learning/codes/bezerra-works/trabalho2/trabalho2/lib/python3.8/site-packages/sklearn/metrics/_regression.py:594: UndefinedMetricWarning: R^2 score is not well-defined with less than two samples.\n",
      "  warnings.warn(msg, UndefinedMetricWarning)\n",
      "/Users/diegosilvadesalles/Documents/mestrado/Material Mestrado/Bezerra Machine Learning/codes/bezerra-works/trabalho2/trabalho2/lib/python3.8/site-packages/sklearn/metrics/_regression.py:594: UndefinedMetricWarning: R^2 score is not well-defined with less than two samples.\n",
      "  warnings.warn(msg, UndefinedMetricWarning)\n",
      "/Users/diegosilvadesalles/Documents/mestrado/Material Mestrado/Bezerra Machine Learning/codes/bezerra-works/trabalho2/trabalho2/lib/python3.8/site-packages/sklearn/metrics/_regression.py:594: UndefinedMetricWarning: R^2 score is not well-defined with less than two samples.\n",
      "  warnings.warn(msg, UndefinedMetricWarning)\n",
      "/Users/diegosilvadesalles/Documents/mestrado/Material Mestrado/Bezerra Machine Learning/codes/bezerra-works/trabalho2/trabalho2/lib/python3.8/site-packages/sklearn/metrics/_regression.py:594: UndefinedMetricWarning: R^2 score is not well-defined with less than two samples.\n",
      "  warnings.warn(msg, UndefinedMetricWarning)\n",
      "/Users/diegosilvadesalles/Documents/mestrado/Material Mestrado/Bezerra Machine Learning/codes/bezerra-works/trabalho2/trabalho2/lib/python3.8/site-packages/sklearn/metrics/_regression.py:594: UndefinedMetricWarning: R^2 score is not well-defined with less than two samples.\n",
      "  warnings.warn(msg, UndefinedMetricWarning)\n",
      "/Users/diegosilvadesalles/Documents/mestrado/Material Mestrado/Bezerra Machine Learning/codes/bezerra-works/trabalho2/trabalho2/lib/python3.8/site-packages/sklearn/metrics/_regression.py:594: UndefinedMetricWarning: R^2 score is not well-defined with less than two samples.\n",
      "  warnings.warn(msg, UndefinedMetricWarning)\n",
      "/Users/diegosilvadesalles/Documents/mestrado/Material Mestrado/Bezerra Machine Learning/codes/bezerra-works/trabalho2/trabalho2/lib/python3.8/site-packages/sklearn/metrics/_regression.py:594: UndefinedMetricWarning: R^2 score is not well-defined with less than two samples.\n",
      "  warnings.warn(msg, UndefinedMetricWarning)\n",
      "/Users/diegosilvadesalles/Documents/mestrado/Material Mestrado/Bezerra Machine Learning/codes/bezerra-works/trabalho2/trabalho2/lib/python3.8/site-packages/sklearn/metrics/_regression.py:594: UndefinedMetricWarning: R^2 score is not well-defined with less than two samples.\n",
      "  warnings.warn(msg, UndefinedMetricWarning)\n",
      "/Users/diegosilvadesalles/Documents/mestrado/Material Mestrado/Bezerra Machine Learning/codes/bezerra-works/trabalho2/trabalho2/lib/python3.8/site-packages/sklearn/metrics/_regression.py:594: UndefinedMetricWarning: R^2 score is not well-defined with less than two samples.\n",
      "  warnings.warn(msg, UndefinedMetricWarning)\n",
      "/Users/diegosilvadesalles/Documents/mestrado/Material Mestrado/Bezerra Machine Learning/codes/bezerra-works/trabalho2/trabalho2/lib/python3.8/site-packages/sklearn/metrics/_regression.py:594: UndefinedMetricWarning: R^2 score is not well-defined with less than two samples.\n",
      "  warnings.warn(msg, UndefinedMetricWarning)\n",
      "/Users/diegosilvadesalles/Documents/mestrado/Material Mestrado/Bezerra Machine Learning/codes/bezerra-works/trabalho2/trabalho2/lib/python3.8/site-packages/sklearn/metrics/_regression.py:594: UndefinedMetricWarning: R^2 score is not well-defined with less than two samples.\n",
      "  warnings.warn(msg, UndefinedMetricWarning)\n",
      "/Users/diegosilvadesalles/Documents/mestrado/Material Mestrado/Bezerra Machine Learning/codes/bezerra-works/trabalho2/trabalho2/lib/python3.8/site-packages/sklearn/metrics/_regression.py:594: UndefinedMetricWarning: R^2 score is not well-defined with less than two samples.\n",
      "  warnings.warn(msg, UndefinedMetricWarning)\n",
      "/Users/diegosilvadesalles/Documents/mestrado/Material Mestrado/Bezerra Machine Learning/codes/bezerra-works/trabalho2/trabalho2/lib/python3.8/site-packages/sklearn/metrics/_regression.py:594: UndefinedMetricWarning: R^2 score is not well-defined with less than two samples.\n",
      "  warnings.warn(msg, UndefinedMetricWarning)\n",
      "/Users/diegosilvadesalles/Documents/mestrado/Material Mestrado/Bezerra Machine Learning/codes/bezerra-works/trabalho2/trabalho2/lib/python3.8/site-packages/sklearn/metrics/_regression.py:594: UndefinedMetricWarning: R^2 score is not well-defined with less than two samples.\n",
      "  warnings.warn(msg, UndefinedMetricWarning)\n",
      "/Users/diegosilvadesalles/Documents/mestrado/Material Mestrado/Bezerra Machine Learning/codes/bezerra-works/trabalho2/trabalho2/lib/python3.8/site-packages/sklearn/metrics/_regression.py:594: UndefinedMetricWarning: R^2 score is not well-defined with less than two samples.\n",
      "  warnings.warn(msg, UndefinedMetricWarning)\n",
      "/Users/diegosilvadesalles/Documents/mestrado/Material Mestrado/Bezerra Machine Learning/codes/bezerra-works/trabalho2/trabalho2/lib/python3.8/site-packages/sklearn/metrics/_regression.py:594: UndefinedMetricWarning: R^2 score is not well-defined with less than two samples.\n",
      "  warnings.warn(msg, UndefinedMetricWarning)\n",
      "/Users/diegosilvadesalles/Documents/mestrado/Material Mestrado/Bezerra Machine Learning/codes/bezerra-works/trabalho2/trabalho2/lib/python3.8/site-packages/sklearn/metrics/_regression.py:594: UndefinedMetricWarning: R^2 score is not well-defined with less than two samples.\n",
      "  warnings.warn(msg, UndefinedMetricWarning)\n",
      "/Users/diegosilvadesalles/Documents/mestrado/Material Mestrado/Bezerra Machine Learning/codes/bezerra-works/trabalho2/trabalho2/lib/python3.8/site-packages/sklearn/metrics/_regression.py:594: UndefinedMetricWarning: R^2 score is not well-defined with less than two samples.\n",
      "  warnings.warn(msg, UndefinedMetricWarning)\n",
      "/Users/diegosilvadesalles/Documents/mestrado/Material Mestrado/Bezerra Machine Learning/codes/bezerra-works/trabalho2/trabalho2/lib/python3.8/site-packages/sklearn/metrics/_regression.py:594: UndefinedMetricWarning: R^2 score is not well-defined with less than two samples.\n",
      "  warnings.warn(msg, UndefinedMetricWarning)\n",
      "/Users/diegosilvadesalles/Documents/mestrado/Material Mestrado/Bezerra Machine Learning/codes/bezerra-works/trabalho2/trabalho2/lib/python3.8/site-packages/sklearn/metrics/_regression.py:594: UndefinedMetricWarning: R^2 score is not well-defined with less than two samples.\n",
      "  warnings.warn(msg, UndefinedMetricWarning)\n",
      "/Users/diegosilvadesalles/Documents/mestrado/Material Mestrado/Bezerra Machine Learning/codes/bezerra-works/trabalho2/trabalho2/lib/python3.8/site-packages/sklearn/metrics/_regression.py:594: UndefinedMetricWarning: R^2 score is not well-defined with less than two samples.\n",
      "  warnings.warn(msg, UndefinedMetricWarning)\n",
      "/Users/diegosilvadesalles/Documents/mestrado/Material Mestrado/Bezerra Machine Learning/codes/bezerra-works/trabalho2/trabalho2/lib/python3.8/site-packages/sklearn/metrics/_regression.py:594: UndefinedMetricWarning: R^2 score is not well-defined with less than two samples.\n",
      "  warnings.warn(msg, UndefinedMetricWarning)\n",
      "/Users/diegosilvadesalles/Documents/mestrado/Material Mestrado/Bezerra Machine Learning/codes/bezerra-works/trabalho2/trabalho2/lib/python3.8/site-packages/sklearn/metrics/_regression.py:594: UndefinedMetricWarning: R^2 score is not well-defined with less than two samples.\n",
      "  warnings.warn(msg, UndefinedMetricWarning)\n",
      "/Users/diegosilvadesalles/Documents/mestrado/Material Mestrado/Bezerra Machine Learning/codes/bezerra-works/trabalho2/trabalho2/lib/python3.8/site-packages/sklearn/metrics/_regression.py:594: UndefinedMetricWarning: R^2 score is not well-defined with less than two samples.\n",
      "  warnings.warn(msg, UndefinedMetricWarning)\n",
      "/Users/diegosilvadesalles/Documents/mestrado/Material Mestrado/Bezerra Machine Learning/codes/bezerra-works/trabalho2/trabalho2/lib/python3.8/site-packages/sklearn/metrics/_regression.py:594: UndefinedMetricWarning: R^2 score is not well-defined with less than two samples.\n",
      "  warnings.warn(msg, UndefinedMetricWarning)\n",
      "/Users/diegosilvadesalles/Documents/mestrado/Material Mestrado/Bezerra Machine Learning/codes/bezerra-works/trabalho2/trabalho2/lib/python3.8/site-packages/sklearn/metrics/_regression.py:594: UndefinedMetricWarning: R^2 score is not well-defined with less than two samples.\n",
      "  warnings.warn(msg, UndefinedMetricWarning)\n",
      "/Users/diegosilvadesalles/Documents/mestrado/Material Mestrado/Bezerra Machine Learning/codes/bezerra-works/trabalho2/trabalho2/lib/python3.8/site-packages/sklearn/metrics/_regression.py:594: UndefinedMetricWarning: R^2 score is not well-defined with less than two samples.\n",
      "  warnings.warn(msg, UndefinedMetricWarning)\n",
      "/Users/diegosilvadesalles/Documents/mestrado/Material Mestrado/Bezerra Machine Learning/codes/bezerra-works/trabalho2/trabalho2/lib/python3.8/site-packages/sklearn/metrics/_regression.py:594: UndefinedMetricWarning: R^2 score is not well-defined with less than two samples.\n",
      "  warnings.warn(msg, UndefinedMetricWarning)\n",
      "/Users/diegosilvadesalles/Documents/mestrado/Material Mestrado/Bezerra Machine Learning/codes/bezerra-works/trabalho2/trabalho2/lib/python3.8/site-packages/sklearn/metrics/_regression.py:594: UndefinedMetricWarning: R^2 score is not well-defined with less than two samples.\n",
      "  warnings.warn(msg, UndefinedMetricWarning)\n",
      "/Users/diegosilvadesalles/Documents/mestrado/Material Mestrado/Bezerra Machine Learning/codes/bezerra-works/trabalho2/trabalho2/lib/python3.8/site-packages/sklearn/metrics/_regression.py:594: UndefinedMetricWarning: R^2 score is not well-defined with less than two samples.\n",
      "  warnings.warn(msg, UndefinedMetricWarning)\n",
      "/Users/diegosilvadesalles/Documents/mestrado/Material Mestrado/Bezerra Machine Learning/codes/bezerra-works/trabalho2/trabalho2/lib/python3.8/site-packages/sklearn/metrics/_regression.py:594: UndefinedMetricWarning: R^2 score is not well-defined with less than two samples.\n",
      "  warnings.warn(msg, UndefinedMetricWarning)\n",
      "/Users/diegosilvadesalles/Documents/mestrado/Material Mestrado/Bezerra Machine Learning/codes/bezerra-works/trabalho2/trabalho2/lib/python3.8/site-packages/sklearn/metrics/_regression.py:594: UndefinedMetricWarning: R^2 score is not well-defined with less than two samples.\n",
      "  warnings.warn(msg, UndefinedMetricWarning)\n",
      "/Users/diegosilvadesalles/Documents/mestrado/Material Mestrado/Bezerra Machine Learning/codes/bezerra-works/trabalho2/trabalho2/lib/python3.8/site-packages/sklearn/metrics/_regression.py:594: UndefinedMetricWarning: R^2 score is not well-defined with less than two samples.\n",
      "  warnings.warn(msg, UndefinedMetricWarning)\n",
      "/Users/diegosilvadesalles/Documents/mestrado/Material Mestrado/Bezerra Machine Learning/codes/bezerra-works/trabalho2/trabalho2/lib/python3.8/site-packages/sklearn/metrics/_regression.py:594: UndefinedMetricWarning: R^2 score is not well-defined with less than two samples.\n",
      "  warnings.warn(msg, UndefinedMetricWarning)\n",
      "/Users/diegosilvadesalles/Documents/mestrado/Material Mestrado/Bezerra Machine Learning/codes/bezerra-works/trabalho2/trabalho2/lib/python3.8/site-packages/sklearn/metrics/_regression.py:594: UndefinedMetricWarning: R^2 score is not well-defined with less than two samples.\n",
      "  warnings.warn(msg, UndefinedMetricWarning)\n",
      "/Users/diegosilvadesalles/Documents/mestrado/Material Mestrado/Bezerra Machine Learning/codes/bezerra-works/trabalho2/trabalho2/lib/python3.8/site-packages/sklearn/metrics/_regression.py:594: UndefinedMetricWarning: R^2 score is not well-defined with less than two samples.\n",
      "  warnings.warn(msg, UndefinedMetricWarning)\n",
      "/Users/diegosilvadesalles/Documents/mestrado/Material Mestrado/Bezerra Machine Learning/codes/bezerra-works/trabalho2/trabalho2/lib/python3.8/site-packages/sklearn/metrics/_regression.py:594: UndefinedMetricWarning: R^2 score is not well-defined with less than two samples.\n",
      "  warnings.warn(msg, UndefinedMetricWarning)\n",
      "/Users/diegosilvadesalles/Documents/mestrado/Material Mestrado/Bezerra Machine Learning/codes/bezerra-works/trabalho2/trabalho2/lib/python3.8/site-packages/sklearn/metrics/_regression.py:594: UndefinedMetricWarning: R^2 score is not well-defined with less than two samples.\n",
      "  warnings.warn(msg, UndefinedMetricWarning)\n",
      "/Users/diegosilvadesalles/Documents/mestrado/Material Mestrado/Bezerra Machine Learning/codes/bezerra-works/trabalho2/trabalho2/lib/python3.8/site-packages/sklearn/metrics/_regression.py:594: UndefinedMetricWarning: R^2 score is not well-defined with less than two samples.\n",
      "  warnings.warn(msg, UndefinedMetricWarning)\n",
      "/Users/diegosilvadesalles/Documents/mestrado/Material Mestrado/Bezerra Machine Learning/codes/bezerra-works/trabalho2/trabalho2/lib/python3.8/site-packages/sklearn/metrics/_regression.py:594: UndefinedMetricWarning: R^2 score is not well-defined with less than two samples.\n",
      "  warnings.warn(msg, UndefinedMetricWarning)\n",
      "/Users/diegosilvadesalles/Documents/mestrado/Material Mestrado/Bezerra Machine Learning/codes/bezerra-works/trabalho2/trabalho2/lib/python3.8/site-packages/sklearn/metrics/_regression.py:594: UndefinedMetricWarning: R^2 score is not well-defined with less than two samples.\n",
      "  warnings.warn(msg, UndefinedMetricWarning)\n",
      "/Users/diegosilvadesalles/Documents/mestrado/Material Mestrado/Bezerra Machine Learning/codes/bezerra-works/trabalho2/trabalho2/lib/python3.8/site-packages/sklearn/metrics/_regression.py:594: UndefinedMetricWarning: R^2 score is not well-defined with less than two samples.\n",
      "  warnings.warn(msg, UndefinedMetricWarning)\n",
      "/Users/diegosilvadesalles/Documents/mestrado/Material Mestrado/Bezerra Machine Learning/codes/bezerra-works/trabalho2/trabalho2/lib/python3.8/site-packages/sklearn/metrics/_regression.py:594: UndefinedMetricWarning: R^2 score is not well-defined with less than two samples.\n",
      "  warnings.warn(msg, UndefinedMetricWarning)\n",
      "/Users/diegosilvadesalles/Documents/mestrado/Material Mestrado/Bezerra Machine Learning/codes/bezerra-works/trabalho2/trabalho2/lib/python3.8/site-packages/sklearn/metrics/_regression.py:594: UndefinedMetricWarning: R^2 score is not well-defined with less than two samples.\n",
      "  warnings.warn(msg, UndefinedMetricWarning)\n",
      "/Users/diegosilvadesalles/Documents/mestrado/Material Mestrado/Bezerra Machine Learning/codes/bezerra-works/trabalho2/trabalho2/lib/python3.8/site-packages/sklearn/metrics/_regression.py:594: UndefinedMetricWarning: R^2 score is not well-defined with less than two samples.\n",
      "  warnings.warn(msg, UndefinedMetricWarning)\n",
      "/Users/diegosilvadesalles/Documents/mestrado/Material Mestrado/Bezerra Machine Learning/codes/bezerra-works/trabalho2/trabalho2/lib/python3.8/site-packages/sklearn/metrics/_regression.py:594: UndefinedMetricWarning: R^2 score is not well-defined with less than two samples.\n",
      "  warnings.warn(msg, UndefinedMetricWarning)\n",
      "/Users/diegosilvadesalles/Documents/mestrado/Material Mestrado/Bezerra Machine Learning/codes/bezerra-works/trabalho2/trabalho2/lib/python3.8/site-packages/sklearn/metrics/_regression.py:594: UndefinedMetricWarning: R^2 score is not well-defined with less than two samples.\n",
      "  warnings.warn(msg, UndefinedMetricWarning)\n",
      "/Users/diegosilvadesalles/Documents/mestrado/Material Mestrado/Bezerra Machine Learning/codes/bezerra-works/trabalho2/trabalho2/lib/python3.8/site-packages/sklearn/metrics/_regression.py:594: UndefinedMetricWarning: R^2 score is not well-defined with less than two samples.\n",
      "  warnings.warn(msg, UndefinedMetricWarning)\n",
      "/Users/diegosilvadesalles/Documents/mestrado/Material Mestrado/Bezerra Machine Learning/codes/bezerra-works/trabalho2/trabalho2/lib/python3.8/site-packages/sklearn/metrics/_regression.py:594: UndefinedMetricWarning: R^2 score is not well-defined with less than two samples.\n",
      "  warnings.warn(msg, UndefinedMetricWarning)\n",
      "/Users/diegosilvadesalles/Documents/mestrado/Material Mestrado/Bezerra Machine Learning/codes/bezerra-works/trabalho2/trabalho2/lib/python3.8/site-packages/sklearn/metrics/_regression.py:594: UndefinedMetricWarning: R^2 score is not well-defined with less than two samples.\n",
      "  warnings.warn(msg, UndefinedMetricWarning)\n",
      "/Users/diegosilvadesalles/Documents/mestrado/Material Mestrado/Bezerra Machine Learning/codes/bezerra-works/trabalho2/trabalho2/lib/python3.8/site-packages/sklearn/metrics/_regression.py:594: UndefinedMetricWarning: R^2 score is not well-defined with less than two samples.\n",
      "  warnings.warn(msg, UndefinedMetricWarning)\n",
      "/Users/diegosilvadesalles/Documents/mestrado/Material Mestrado/Bezerra Machine Learning/codes/bezerra-works/trabalho2/trabalho2/lib/python3.8/site-packages/sklearn/metrics/_regression.py:594: UndefinedMetricWarning: R^2 score is not well-defined with less than two samples.\n",
      "  warnings.warn(msg, UndefinedMetricWarning)\n",
      "/Users/diegosilvadesalles/Documents/mestrado/Material Mestrado/Bezerra Machine Learning/codes/bezerra-works/trabalho2/trabalho2/lib/python3.8/site-packages/sklearn/metrics/_regression.py:594: UndefinedMetricWarning: R^2 score is not well-defined with less than two samples.\n",
      "  warnings.warn(msg, UndefinedMetricWarning)\n",
      "/Users/diegosilvadesalles/Documents/mestrado/Material Mestrado/Bezerra Machine Learning/codes/bezerra-works/trabalho2/trabalho2/lib/python3.8/site-packages/sklearn/metrics/_regression.py:594: UndefinedMetricWarning: R^2 score is not well-defined with less than two samples.\n",
      "  warnings.warn(msg, UndefinedMetricWarning)\n",
      "/Users/diegosilvadesalles/Documents/mestrado/Material Mestrado/Bezerra Machine Learning/codes/bezerra-works/trabalho2/trabalho2/lib/python3.8/site-packages/sklearn/metrics/_regression.py:594: UndefinedMetricWarning: R^2 score is not well-defined with less than two samples.\n",
      "  warnings.warn(msg, UndefinedMetricWarning)\n",
      "/Users/diegosilvadesalles/Documents/mestrado/Material Mestrado/Bezerra Machine Learning/codes/bezerra-works/trabalho2/trabalho2/lib/python3.8/site-packages/sklearn/metrics/_regression.py:594: UndefinedMetricWarning: R^2 score is not well-defined with less than two samples.\n",
      "  warnings.warn(msg, UndefinedMetricWarning)\n",
      "/Users/diegosilvadesalles/Documents/mestrado/Material Mestrado/Bezerra Machine Learning/codes/bezerra-works/trabalho2/trabalho2/lib/python3.8/site-packages/sklearn/metrics/_regression.py:594: UndefinedMetricWarning: R^2 score is not well-defined with less than two samples.\n",
      "  warnings.warn(msg, UndefinedMetricWarning)\n",
      "/Users/diegosilvadesalles/Documents/mestrado/Material Mestrado/Bezerra Machine Learning/codes/bezerra-works/trabalho2/trabalho2/lib/python3.8/site-packages/sklearn/metrics/_regression.py:594: UndefinedMetricWarning: R^2 score is not well-defined with less than two samples.\n",
      "  warnings.warn(msg, UndefinedMetricWarning)\n",
      "/Users/diegosilvadesalles/Documents/mestrado/Material Mestrado/Bezerra Machine Learning/codes/bezerra-works/trabalho2/trabalho2/lib/python3.8/site-packages/sklearn/metrics/_regression.py:594: UndefinedMetricWarning: R^2 score is not well-defined with less than two samples.\n",
      "  warnings.warn(msg, UndefinedMetricWarning)\n",
      "/Users/diegosilvadesalles/Documents/mestrado/Material Mestrado/Bezerra Machine Learning/codes/bezerra-works/trabalho2/trabalho2/lib/python3.8/site-packages/sklearn/metrics/_regression.py:594: UndefinedMetricWarning: R^2 score is not well-defined with less than two samples.\n",
      "  warnings.warn(msg, UndefinedMetricWarning)\n",
      "/Users/diegosilvadesalles/Documents/mestrado/Material Mestrado/Bezerra Machine Learning/codes/bezerra-works/trabalho2/trabalho2/lib/python3.8/site-packages/sklearn/metrics/_regression.py:594: UndefinedMetricWarning: R^2 score is not well-defined with less than two samples.\n",
      "  warnings.warn(msg, UndefinedMetricWarning)\n",
      "/Users/diegosilvadesalles/Documents/mestrado/Material Mestrado/Bezerra Machine Learning/codes/bezerra-works/trabalho2/trabalho2/lib/python3.8/site-packages/sklearn/metrics/_regression.py:594: UndefinedMetricWarning: R^2 score is not well-defined with less than two samples.\n",
      "  warnings.warn(msg, UndefinedMetricWarning)\n",
      "/Users/diegosilvadesalles/Documents/mestrado/Material Mestrado/Bezerra Machine Learning/codes/bezerra-works/trabalho2/trabalho2/lib/python3.8/site-packages/sklearn/metrics/_regression.py:594: UndefinedMetricWarning: R^2 score is not well-defined with less than two samples.\n",
      "  warnings.warn(msg, UndefinedMetricWarning)\n",
      "/Users/diegosilvadesalles/Documents/mestrado/Material Mestrado/Bezerra Machine Learning/codes/bezerra-works/trabalho2/trabalho2/lib/python3.8/site-packages/sklearn/metrics/_regression.py:594: UndefinedMetricWarning: R^2 score is not well-defined with less than two samples.\n",
      "  warnings.warn(msg, UndefinedMetricWarning)\n",
      "/Users/diegosilvadesalles/Documents/mestrado/Material Mestrado/Bezerra Machine Learning/codes/bezerra-works/trabalho2/trabalho2/lib/python3.8/site-packages/sklearn/metrics/_regression.py:594: UndefinedMetricWarning: R^2 score is not well-defined with less than two samples.\n",
      "  warnings.warn(msg, UndefinedMetricWarning)\n",
      "/Users/diegosilvadesalles/Documents/mestrado/Material Mestrado/Bezerra Machine Learning/codes/bezerra-works/trabalho2/trabalho2/lib/python3.8/site-packages/sklearn/metrics/_regression.py:594: UndefinedMetricWarning: R^2 score is not well-defined with less than two samples.\n",
      "  warnings.warn(msg, UndefinedMetricWarning)\n",
      "/Users/diegosilvadesalles/Documents/mestrado/Material Mestrado/Bezerra Machine Learning/codes/bezerra-works/trabalho2/trabalho2/lib/python3.8/site-packages/sklearn/metrics/_regression.py:594: UndefinedMetricWarning: R^2 score is not well-defined with less than two samples.\n",
      "  warnings.warn(msg, UndefinedMetricWarning)\n",
      "/Users/diegosilvadesalles/Documents/mestrado/Material Mestrado/Bezerra Machine Learning/codes/bezerra-works/trabalho2/trabalho2/lib/python3.8/site-packages/sklearn/metrics/_regression.py:594: UndefinedMetricWarning: R^2 score is not well-defined with less than two samples.\n",
      "  warnings.warn(msg, UndefinedMetricWarning)\n",
      "/Users/diegosilvadesalles/Documents/mestrado/Material Mestrado/Bezerra Machine Learning/codes/bezerra-works/trabalho2/trabalho2/lib/python3.8/site-packages/sklearn/metrics/_regression.py:594: UndefinedMetricWarning: R^2 score is not well-defined with less than two samples.\n",
      "  warnings.warn(msg, UndefinedMetricWarning)\n",
      "/Users/diegosilvadesalles/Documents/mestrado/Material Mestrado/Bezerra Machine Learning/codes/bezerra-works/trabalho2/trabalho2/lib/python3.8/site-packages/sklearn/metrics/_regression.py:594: UndefinedMetricWarning: R^2 score is not well-defined with less than two samples.\n",
      "  warnings.warn(msg, UndefinedMetricWarning)\n",
      "/Users/diegosilvadesalles/Documents/mestrado/Material Mestrado/Bezerra Machine Learning/codes/bezerra-works/trabalho2/trabalho2/lib/python3.8/site-packages/sklearn/metrics/_regression.py:594: UndefinedMetricWarning: R^2 score is not well-defined with less than two samples.\n",
      "  warnings.warn(msg, UndefinedMetricWarning)\n",
      "/Users/diegosilvadesalles/Documents/mestrado/Material Mestrado/Bezerra Machine Learning/codes/bezerra-works/trabalho2/trabalho2/lib/python3.8/site-packages/sklearn/metrics/_regression.py:594: UndefinedMetricWarning: R^2 score is not well-defined with less than two samples.\n",
      "  warnings.warn(msg, UndefinedMetricWarning)\n",
      "/Users/diegosilvadesalles/Documents/mestrado/Material Mestrado/Bezerra Machine Learning/codes/bezerra-works/trabalho2/trabalho2/lib/python3.8/site-packages/sklearn/metrics/_regression.py:594: UndefinedMetricWarning: R^2 score is not well-defined with less than two samples.\n",
      "  warnings.warn(msg, UndefinedMetricWarning)\n",
      "/Users/diegosilvadesalles/Documents/mestrado/Material Mestrado/Bezerra Machine Learning/codes/bezerra-works/trabalho2/trabalho2/lib/python3.8/site-packages/sklearn/metrics/_regression.py:594: UndefinedMetricWarning: R^2 score is not well-defined with less than two samples.\n",
      "  warnings.warn(msg, UndefinedMetricWarning)\n",
      "/Users/diegosilvadesalles/Documents/mestrado/Material Mestrado/Bezerra Machine Learning/codes/bezerra-works/trabalho2/trabalho2/lib/python3.8/site-packages/sklearn/metrics/_regression.py:594: UndefinedMetricWarning: R^2 score is not well-defined with less than two samples.\n",
      "  warnings.warn(msg, UndefinedMetricWarning)\n",
      "/Users/diegosilvadesalles/Documents/mestrado/Material Mestrado/Bezerra Machine Learning/codes/bezerra-works/trabalho2/trabalho2/lib/python3.8/site-packages/sklearn/metrics/_regression.py:594: UndefinedMetricWarning: R^2 score is not well-defined with less than two samples.\n",
      "  warnings.warn(msg, UndefinedMetricWarning)\n",
      "/Users/diegosilvadesalles/Documents/mestrado/Material Mestrado/Bezerra Machine Learning/codes/bezerra-works/trabalho2/trabalho2/lib/python3.8/site-packages/sklearn/metrics/_regression.py:594: UndefinedMetricWarning: R^2 score is not well-defined with less than two samples.\n",
      "  warnings.warn(msg, UndefinedMetricWarning)\n"
     ]
    },
    {
     "name": "stderr",
     "output_type": "stream",
     "text": [
      "No handles with labels found to put in legend.\n",
      "<ipython-input-8-4842b1c57b2a>:33: MatplotlibDeprecationWarning: The 'linthreshy' parameter of __init__() has been renamed 'linthresh' since Matplotlib 3.3; support for the old name will be dropped two minor releases later.\n",
      "  plt.yscale(\"symlog\", linthreshy=1e-7)\n"
     ]
    },
    {
     "data": {
      "image/png": "[encoded data removed]",
      "text/plain": [
       "<Figure size 432x288 with 1 Axes>"
      ]
     },
     "metadata": {
      "needs_background": "light"
     },
     "output_type": "display_data"
    }
   ],
   "source": [
    "from sklearn import linear_model\n",
    "import matplotlib.pyplot as plt\n",
    "from sklearn.model_selection import learning_curve\n",
    "from sklearn.model_selection import KFold\n",
    "from sklearn.naive_bayes import GaussianNB\n",
    "from sklearn.linear_model import LinearRegression\n",
    "\n",
    "\n",
    "def plot_learning_curve(estimator,X, y, n_jobs=None):\n",
    "    lg = LinearRegression()\n",
    "\n",
    "    # fit\n",
    "    lg.fit(X, y)\n",
    "    train_sizes, train_scores, test_scores = learning_curve(lg, X, y, n_jobs=-1, cv=5, train_sizes=np.linspace(.1, 1.0, 5), verbose=0)\n",
    "\n",
    "    train_scores_mean = np.mean(train_scores, axis=1)\n",
    "    train_scores_std = np.std(train_scores, axis=1)\n",
    "    test_scores_mean = np.mean(test_scores, axis=1)\n",
    "    test_scores_std = np.std(test_scores, axis=1)\n",
    "    \n",
    "    plt.figure()\n",
    "    plt.legend(loc=\"best\")\n",
    "    plt.xlabel(\"Training examples\")\n",
    "    plt.ylabel(\"Score\")\n",
    "    plt.gca().invert_yaxis()\n",
    "    \n",
    "    # box-like grid\n",
    "    plt.grid()\n",
    "    \n",
    "    # plot the average training and test score lines at each training set size\n",
    "    plt.plot(train_sizes, train_scores_mean, 'o-', color=\"r\", label=\"Training score\")\n",
    "    plt.plot(train_sizes, test_scores_mean, 'o-', color=\"g\", label=\"Cross-validation score\")\n",
    "    plt.ylim(-140,140)\n",
    "    plt.show()\n",
    "\n",
    "title = \"Learning Curves (Linear Regression)\"\n",
    "# Cross validation with 100 iterations to get smoother mean test and train\n",
    "# score curves, each time with 20% data randomly selected as a validation set.\n",
    "\n",
    "cv = KFold(10, shuffle=True)\n",
    "plot_learning_curve(lin_reg, X, y, n_jobs=4)\n",
    "\n"
   ]
  },
  {
   "cell_type": "code",
   "execution_count": null,
   "metadata": {},
   "outputs": [],
   "source": []
  },
  {
   "cell_type": "code",
   "execution_count": 90,
   "metadata": {},
   "outputs": [],
   "source": [
    "# plt.figure(figsize=(10, 7))\n",
    "# p1, p2 = plt.plot(range(m), error_train, range(m), error_val)\n",
    "# plt.title('Learning curve for linear regression')\n",
    "# plt.legend((p1, p2), ('Train', 'Cross Validation'), numpoints=1, handlelength=0.5)\n",
    "# plt.xlabel('Number of training examples')\n",
    "# plt.ylabel('Error')\n",
    "# plt.axis([0, 13, 0, 150])\n"
   ]
  },
  {
   "cell_type": "code",
   "execution_count": null,
   "metadata": {},
   "outputs": [],
   "source": []
  }
 ],
 "metadata": {
  "kernelspec": {
   "display_name": "Python 3",
   "language": "python",
   "name": "python3"
  },
  "language_info": {
   "codemirror_mode": {
    "name": "ipython",
    "version": 3
   },
   "file_extension": ".py",
   "mimetype": "text/x-python",
   "name": "python",
   "nbconvert_exporter": "python",
   "pygments_lexer": "ipython3",
   "version": "3.8.3"
  },
  "toc": {
   "base_numbering": 1,
   "nav_menu": {},
   "number_sections": true,
   "sideBar": true,
   "skip_h1_title": false,
   "title_cell": "Table of Contents",
   "title_sidebar": "Contents",
   "toc_cell": false,
   "toc_position": {},
   "toc_section_display": true,
   "toc_window_display": false
  }
 },
 "nbformat": 4,
 "nbformat_minor": 4
}
